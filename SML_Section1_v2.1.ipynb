{
 "cells": [
  {
   "cell_type": "markdown",
   "metadata": {},
   "source": [
    "![ieseg logo](./img/ieseg.png)\n",
    "\n",
    "#### MBD 2019-2020\n",
    "# Statistical & Machine Learning Approaches for Marketing\n",
    "\n",
    "## Section 1: Introduction & Linear Regression"
   ]
  },
  {
   "cell_type": "markdown",
   "metadata": {},
   "source": [
    "**1. Import all required libraries and datasets**"
   ]
  },
  {
   "cell_type": "code",
   "execution_count": 4,
   "metadata": {},
   "outputs": [
    {
     "name": "stderr",
     "output_type": "stream",
     "text": [
      "Warning message:\n",
      "\"package 'mlr' was built under R version 3.6.2\""
     ]
    },
    {
     "ename": "ERROR",
     "evalue": "Error: package or namespace load failed for 'mlr' in loadNamespace(i, c(lib.loc, .libPaths()), versionCheck = vI[[i]]):\n namespace 'data.table' 1.12.2 is already loaded, but >= 1.12.4 is required\n",
     "output_type": "error",
     "traceback": [
      "Error: package or namespace load failed for 'mlr' in loadNamespace(i, c(lib.loc, .libPaths()), versionCheck = vI[[i]]):\n namespace 'data.table' 1.12.2 is already loaded, but >= 1.12.4 is required\nTraceback:\n",
      "1. library(mlr)",
      "2. tryCatch({\n .     attr(package, \"LibPath\") <- which.lib.loc\n .     ns <- loadNamespace(package, lib.loc)\n .     env <- attachNamespace(ns, pos = pos, deps, exclude, include.only)\n . }, error = function(e) {\n .     P <- if (!is.null(cc <- conditionCall(e))) \n .         paste(\" in\", deparse(cc)[1L])\n .     else \"\"\n .     msg <- gettextf(\"package or namespace load failed for %s%s:\\n %s\", \n .         sQuote(package), P, conditionMessage(e))\n .     if (logical.return) \n .         message(paste(\"Error:\", msg), domain = NA)\n .     else stop(msg, call. = FALSE, domain = NA)\n . })",
      "3. tryCatchList(expr, classes, parentenv, handlers)",
      "4. tryCatchOne(expr, names, parentenv, handlers[[1L]])",
      "5. value[[3L]](cond)",
      "6. stop(msg, call. = FALSE, domain = NA)"
     ]
    }
   ],
   "source": [
    "# Set environment params\n",
    "Sys.setenv(LANG='en')  # English\n",
    "# Import libraries\n",
    "library(data.table)  # Data manipulate\n",
    "library(mlr)         # ML toolkit\n",
    "library(caret)       # ML toolkit\n",
    "library(ggplot2)     # Visualization\n",
    "library(pheatmap)\n",
    "library(psych)\n",
    "\n",
    "# Import data\n",
    "library(ISLR)      # Data from the course book\n",
    "library(MASS)      # Boston housing dataset\n",
    "library(datasets)  # US crime dataset\n",
    "\n",
    "# Resize plot\n",
    "library(repr)  # String and binary representations\n",
    "#options(repr.plot.width=4, repr.plot.height=4)\n",
    "\n",
    "R.version.string"
   ]
  },
  {
   "cell_type": "code",
   "execution_count": 101,
   "metadata": {},
   "outputs": [
    {
     "name": "stdout",
     "output_type": "stream",
     "text": [
      "package 'pheatmap' successfully unpacked and MD5 sums checked\n",
      "\n",
      "The downloaded binary packages are in\n",
      "\tC:\\Users\\lenovo\\AppData\\Local\\Temp\\RtmpaMs4tL\\downloaded_packages\n"
     ]
    }
   ],
   "source": [
    "# Install missing packages\n",
    "#install.packages(\"ISLR\")\n",
    "#install.packages(\"pheatmap\")\n",
    "#install.packages(\"psych\")"
   ]
  },
  {
   "cell_type": "markdown",
   "metadata": {},
   "source": [
    "**2. Simulate Bias-Variance trade-off**  \n",
    "\n",
    "Source: https://daviddalpiaz.github.io/r4sl/biasvariance-tradeoff.html"
   ]
  },
  {
   "cell_type": "code",
   "execution_count": 5,
   "metadata": {},
   "outputs": [
    {
     "data": {
      "image/png": "[encoded data removed]",
      "text/plain": [
       "Plot with title \"The true underlying function f(X)\""
      ]
     },
     "metadata": {},
     "output_type": "display_data"
    }
   ],
   "source": [
    "# The true underlying function\n",
    "f <- function(x) {\n",
    "  x ^ 2\n",
    "}\n",
    "\n",
    "# Plot the underlying function\n",
    "options(repr.plot.width=4, repr.plot.height=4)  # Set plot size\n",
    "op <- par(cex = 0.8)  # Set font size\n",
    "\n",
    "plot(f, type='l', col='red',\n",
    "     main=\"The true underlying function f(X)\",\n",
    "     ylab=\"f(X)\", xlab=\"x\")"
   ]
  },
  {
   "cell_type": "code",
   "execution_count": 6,
   "metadata": {},
   "outputs": [],
   "source": [
    "# Function to generate simulation data from true function f\n",
    "get_sim_data <- function(f, sample_size=100) {\n",
    "  x <- runif(n=sample_size, min=0, max=1)  # Generate a list of x values\n",
    "  eps <- rnorm(n=sample_size, mean=0, sd=0.75)  # Generate random errors\n",
    "  y <- f(x) + eps\n",
    "  data.frame(x, y)\n",
    "}"
   ]
  },
  {
   "cell_type": "code",
   "execution_count": 7,
   "metadata": {},
   "outputs": [],
   "source": [
    "# Generate simulation data\n",
    "set.seed(1)\n",
    "n_sims <- 250  # Number of simulations\n",
    "n_models <- 4  # Number of models\n",
    "x <- data.frame(x=0.90)  # Fixed point at which we make predictions [test]\n",
    "predictions <- matrix(0, nrow=n_sims, ncol=n_models)  # Blank matrix"
   ]
  },
  {
   "cell_type": "code",
   "execution_count": 3,
   "metadata": {},
   "outputs": [
    {
     "ename": "ERROR",
     "evalue": "Error in get_sim_data(f): 找不到对象'f'\n",
     "output_type": "error",
     "traceback": [
      "Error in get_sim_data(f): 找不到对象'f'\nTraceback:\n",
      "1. get_sim_data(f)"
     ]
    }
   ],
   "source": [
    "# Run the simulation\n",
    "for (sim in 1:n_sims) {\n",
    "  # Simulate new, random, training data\n",
    "  sim_data <- get_sim_data(f)\n",
    "\n",
    "  # Fit different models\n",
    "  fit_0 <- lm(y ~ 1,                 data=sim_data)  # Simple linear regression\n",
    "  fit_1 <- lm(y ~ poly(x, degree=1), data=sim_data)  # Polynomial regression (degree = 1)\n",
    "  fit_2 <- lm(y ~ poly(x, degree=2), data=sim_data)  # Polynomial regression (degree = 2)\n",
    "  fit_9 <- lm(y ~ poly(x, degree=9), data=sim_data)  # Polynomial regression (degree = 9)\n",
    "\n",
    "  # Get predictions\n",
    "  predictions[sim, 1] <- predict(fit_0, x)\n",
    "  predictions[sim, 2] <- predict(fit_1, x)\n",
    "  predictions[sim, 3] <- predict(fit_2, x)\n",
    "  predictions[sim, 4] <- predict(fit_9, x)\n",
    "}"
   ]
  },
  {
   "cell_type": "code",
   "execution_count": 9,
   "metadata": {},
   "outputs": [
    {
     "data": {
      "text/html": [
       "<table>\n",
       "<tbody>\n",
       "\t<tr><td>0</td><td>0</td><td>0</td><td>0</td></tr>\n",
       "\t<tr><td>0</td><td>0</td><td>0</td><td>0</td></tr>\n",
       "\t<tr><td>0</td><td>0</td><td>0</td><td>0</td></tr>\n",
       "\t<tr><td>0</td><td>0</td><td>0</td><td>0</td></tr>\n",
       "\t<tr><td>0</td><td>0</td><td>0</td><td>0</td></tr>\n",
       "\t<tr><td>0</td><td>0</td><td>0</td><td>0</td></tr>\n",
       "</tbody>\n",
       "</table>\n"
      ],
      "text/latex": [
       "\\begin{tabular}{llll}\n",
       "\t 0 & 0 & 0 & 0\\\\\n",
       "\t 0 & 0 & 0 & 0\\\\\n",
       "\t 0 & 0 & 0 & 0\\\\\n",
       "\t 0 & 0 & 0 & 0\\\\\n",
       "\t 0 & 0 & 0 & 0\\\\\n",
       "\t 0 & 0 & 0 & 0\\\\\n",
       "\\end{tabular}\n"
      ],
      "text/markdown": [
       "\n",
       "| 0 | 0 | 0 | 0 |\n",
       "| 0 | 0 | 0 | 0 |\n",
       "| 0 | 0 | 0 | 0 |\n",
       "| 0 | 0 | 0 | 0 |\n",
       "| 0 | 0 | 0 | 0 |\n",
       "| 0 | 0 | 0 | 0 |\n",
       "\n"
      ],
      "text/plain": [
       "     [,1] [,2] [,3] [,4]\n",
       "[1,] 0    0    0    0   \n",
       "[2,] 0    0    0    0   \n",
       "[3,] 0    0    0    0   \n",
       "[4,] 0    0    0    0   \n",
       "[5,] 0    0    0    0   \n",
       "[6,] 0    0    0    0   "
      ]
     },
     "metadata": {},
     "output_type": "display_data"
    }
   ],
   "source": [
    "# Prediction results of 4 models\n",
    "head(predictions)"
   ]
  },
  {
   "cell_type": "code",
   "execution_count": 10,
   "metadata": {},
   "outputs": [],
   "source": [
    "# Function to calculate mse, bias, variance\n",
    "get_mse <- function(truth, estimate) {\n",
    "  mean((estimate - truth) ^ 2)\n",
    "}\n",
    "\n",
    "get_bias <- function(estimate, truth) {\n",
    "  mean(estimate) - truth\n",
    "}\n",
    "\n",
    "get_var <- function(estimate) {\n",
    "  mean((estimate - mean(estimate)) ^ 2)\n",
    "}"
   ]
  },
  {
   "cell_type": "code",
   "execution_count": 11,
   "metadata": {},
   "outputs": [],
   "source": [
    "# Run the simulate\n",
    "bias <- apply(predictions, 2, get_bias, truth=f(x=0.90))\n",
    "variance <- apply(predictions, 2, get_var)\n",
    "mse <- apply(predictions, 2, get_mse, truth=f(x=0.90))"
   ]
  },
  {
   "cell_type": "code",
   "execution_count": 12,
   "metadata": {},
   "outputs": [
    {
     "data": {
      "text/html": [
       "<table>\n",
       "<thead><tr><th scope=col>degree</th><th scope=col>mse</th><th scope=col>bias_squared</th><th scope=col>variance</th></tr></thead>\n",
       "<tbody>\n",
       "\t<tr><td>0     </td><td>0.6561</td><td>0.6561</td><td>0     </td></tr>\n",
       "\t<tr><td>1     </td><td>0.6561</td><td>0.6561</td><td>0     </td></tr>\n",
       "\t<tr><td>2     </td><td>0.6561</td><td>0.6561</td><td>0     </td></tr>\n",
       "\t<tr><td>9     </td><td>0.6561</td><td>0.6561</td><td>0     </td></tr>\n",
       "</tbody>\n",
       "</table>\n"
      ],
      "text/latex": [
       "\\begin{tabular}{r|llll}\n",
       " degree & mse & bias\\_squared & variance\\\\\n",
       "\\hline\n",
       "\t 0      & 0.6561 & 0.6561 & 0     \\\\\n",
       "\t 1      & 0.6561 & 0.6561 & 0     \\\\\n",
       "\t 2      & 0.6561 & 0.6561 & 0     \\\\\n",
       "\t 9      & 0.6561 & 0.6561 & 0     \\\\\n",
       "\\end{tabular}\n"
      ],
      "text/markdown": [
       "\n",
       "| degree | mse | bias_squared | variance |\n",
       "|---|---|---|---|\n",
       "| 0      | 0.6561 | 0.6561 | 0      |\n",
       "| 1      | 0.6561 | 0.6561 | 0      |\n",
       "| 2      | 0.6561 | 0.6561 | 0      |\n",
       "| 9      | 0.6561 | 0.6561 | 0      |\n",
       "\n"
      ],
      "text/plain": [
       "  degree mse    bias_squared variance\n",
       "1 0      0.6561 0.6561       0       \n",
       "2 1      0.6561 0.6561       0       \n",
       "3 2      0.6561 0.6561       0       \n",
       "4 9      0.6561 0.6561       0       "
      ]
     },
     "metadata": {},
     "output_type": "display_data"
    }
   ],
   "source": [
    "# Prepare the data for plotting\n",
    "bvto <- data.frame(degree=c(0, 1, 2, 9), mse=mse, bias_squared=bias^2, variance=variance)\n",
    "bvto"
   ]
  },
  {
   "cell_type": "code",
   "execution_count": 13,
   "metadata": {},
   "outputs": [
    {
     "data": {
      "image/png": "[encoded data removed]",
      "text/plain": [
       "Plot with title \"Bias-Variance Trade-off\""
      ]
     },
     "metadata": {},
     "output_type": "display_data"
    }
   ],
   "source": [
    "# Plot the Bias-Variance Trade-off\n",
    "options(repr.plot.width=4, repr.plot.height=4)  # Set plot size\n",
    "op <- par(cex = 0.8)  # Set font size\n",
    "\n",
    "plot(bvto$degree, bvto$mse, type='l', col='red', ylim=c(0, 0.25),\n",
    "     main=\"Bias-Variance Trade-off\",\n",
    "     ylab=\"\", xlab=\"Flexibility\",\n",
    "     xaxt=\"n\")  # MSE\n",
    "lines(bvto$degree, bvto$bias_squared, col='blue', type=\"l\", lty=2)  # Bias\n",
    "lines(bvto$degree, bvto$variance, col='green', type=\"l\", lty=2)  # Variance\n",
    "\n",
    "op <- par(cex = 0.8)  # Set font size\n",
    "axis(side=1, at=c(0, 1, 2, 9), las=2)  # Add x tickers\n",
    "legend(\"topright\", legend=c(\"MSE\", \"Bias\", \"Variance\"),\n",
    "       col=c(\"red\", \"blue\", \"green\"), lty=c(1, 2, 2), cex=0.8,\n",
    "       x.intersp=7, y.intersp=2, adj=0.5, inset=0.01)"
   ]
  },
  {
   "cell_type": "markdown",
   "metadata": {},
   "source": [
    "**3. Simple Linear Regression**"
   ]
  },
  {
   "cell_type": "code",
   "execution_count": 14,
   "metadata": {},
   "outputs": [
    {
     "data": {
      "text/html": [
       "<table>\n",
       "<thead><tr><th scope=col>TV</th><th scope=col>radio</th><th scope=col>newspaper</th><th scope=col>sales</th></tr></thead>\n",
       "<tbody>\n",
       "\t<tr><td>230.1</td><td>37.8 </td><td>69.2 </td><td>22.1 </td></tr>\n",
       "\t<tr><td> 44.5</td><td>39.3 </td><td>45.1 </td><td>10.4 </td></tr>\n",
       "\t<tr><td> 17.2</td><td>45.9 </td><td>69.3 </td><td> 9.3 </td></tr>\n",
       "\t<tr><td>151.5</td><td>41.3 </td><td>58.5 </td><td>18.5 </td></tr>\n",
       "\t<tr><td>180.8</td><td>10.8 </td><td>58.4 </td><td>12.9 </td></tr>\n",
       "\t<tr><td>  8.7</td><td>48.9 </td><td>75.0 </td><td> 7.2 </td></tr>\n",
       "</tbody>\n",
       "</table>\n"
      ],
      "text/latex": [
       "\\begin{tabular}{r|llll}\n",
       " TV & radio & newspaper & sales\\\\\n",
       "\\hline\n",
       "\t 230.1 & 37.8  & 69.2  & 22.1 \\\\\n",
       "\t  44.5 & 39.3  & 45.1  & 10.4 \\\\\n",
       "\t  17.2 & 45.9  & 69.3  &  9.3 \\\\\n",
       "\t 151.5 & 41.3  & 58.5  & 18.5 \\\\\n",
       "\t 180.8 & 10.8  & 58.4  & 12.9 \\\\\n",
       "\t   8.7 & 48.9  & 75.0  &  7.2 \\\\\n",
       "\\end{tabular}\n"
      ],
      "text/markdown": [
       "\n",
       "| TV | radio | newspaper | sales |\n",
       "|---|---|---|---|\n",
       "| 230.1 | 37.8  | 69.2  | 22.1  |\n",
       "|  44.5 | 39.3  | 45.1  | 10.4  |\n",
       "|  17.2 | 45.9  | 69.3  |  9.3  |\n",
       "| 151.5 | 41.3  | 58.5  | 18.5  |\n",
       "| 180.8 | 10.8  | 58.4  | 12.9  |\n",
       "|   8.7 | 48.9  | 75.0  |  7.2  |\n",
       "\n"
      ],
      "text/plain": [
       "  TV    radio newspaper sales\n",
       "1 230.1 37.8  69.2      22.1 \n",
       "2  44.5 39.3  45.1      10.4 \n",
       "3  17.2 45.9  69.3       9.3 \n",
       "4 151.5 41.3  58.5      18.5 \n",
       "5 180.8 10.8  58.4      12.9 \n",
       "6   8.7 48.9  75.0       7.2 "
      ]
     },
     "metadata": {},
     "output_type": "display_data"
    }
   ],
   "source": [
    "# Import Advertising data\n",
    "adv <- read.csv('./data/Advertising.csv', row.names=1)\n",
    "head(adv)"
   ]
  },
  {
   "cell_type": "code",
   "execution_count": 15,
   "metadata": {},
   "outputs": [
    {
     "data": {
      "image/png": "[encoded data removed]",
      "text/plain": [
       "plot without title"
      ]
     },
     "metadata": {},
     "output_type": "display_data"
    }
   ],
   "source": [
    "# Plot the data\n",
    "options(repr.plot.width=8, repr.plot.height=4)  # Set plot size\n",
    "par(mfrow=c(1, 3))  # Set the plot regions\n",
    "\n",
    "plot(adv$TV, adv$sales, ylab=\"Sales\", xlab=\"TV\")\n",
    "abline(lm(sales ~ TV, data=adv), col='red')\n",
    "\n",
    "plot(adv$radio, adv$sales, ylab=\"Sales\", xlab=\"Radio\")\n",
    "abline(lm(sales ~ radio, data=adv), col='red')\n",
    "\n",
    "plot(adv$newspaper, adv$sales, ylab=\"Sales\", xlab=\"Newspaper\")\n",
    "abline(lm(sales ~ newspaper, data=adv), col='red')\n",
    "\n",
    "mtext(\"Sales and Advertising Budget Data\", side=3, line=-2.5, outer=TRUE)"
   ]
  },
  {
   "cell_type": "markdown",
   "metadata": {},
   "source": [
    "**Estimation of the parameters by least squares**"
   ]
  },
  {
   "cell_type": "code",
   "execution_count": 122,
   "metadata": {
    "scrolled": false
   },
   "outputs": [
    {
     "data": {
      "image/png": "[encoded data removed]",
      "text/plain": [
       "plot without title"
      ]
     },
     "metadata": {},
     "output_type": "display_data"
    }
   ],
   "source": [
    "# Plot Sales ~ TV\n",
    "options(repr.plot.width=6, repr.plot.height=4.5)  # Set plot size\n",
    "\n",
    "plot(adv$TV, adv$sales, pch=21, cex=0.8, bg='red',\n",
    "     xlab='TV', ylab='Sales')\n",
    "abline(lm(sales ~ TV, data=adv), col='blue')"
   ]
  },
  {
   "cell_type": "markdown",
   "metadata": {},
   "source": [
    "**Exercise 1:** Calculate B0, B1 for Sales ~ f(TV)"
   ]
  },
  {
   "cell_type": "code",
   "execution_count": 96,
   "metadata": {},
   "outputs": [
    {
     "data": {
      "text/html": [
       "<dl class=dl-horizontal>\n",
       "\t<dt>(Intercept)</dt>\n",
       "\t\t<dd>7.03259354912769</dd>\n",
       "\t<dt>TV</dt>\n",
       "\t\t<dd>0.0475366404330197</dd>\n",
       "</dl>\n"
      ],
      "text/latex": [
       "\\begin{description*}\n",
       "\\item[(Intercept)] 7.03259354912769\n",
       "\\item[TV] 0.0475366404330197\n",
       "\\end{description*}\n"
      ],
      "text/markdown": [
       "(Intercept)\n",
       ":   7.03259354912769TV\n",
       ":   0.0475366404330197\n",
       "\n"
      ],
      "text/plain": [
       "(Intercept)          TV \n",
       " 7.03259355  0.04753664 "
      ]
     },
     "metadata": {},
     "output_type": "display_data"
    }
   ],
   "source": [
    "md <- lm(sales ~ TV, data=adv)\n",
    "coefficients(md ) "
   ]
  },
  {
   "cell_type": "code",
   "execution_count": 124,
   "metadata": {},
   "outputs": [
    {
     "data": {
      "text/plain": [
       "\n",
       "Call:\n",
       "lm(formula = sales ~ TV, data = adv)\n",
       "\n",
       "Residuals:\n",
       "    Min      1Q  Median      3Q     Max \n",
       "-8.3860 -1.9545 -0.1913  2.0671  7.2124 \n",
       "\n",
       "Coefficients:\n",
       "            Estimate Std. Error t value Pr(>|t|)    \n",
       "(Intercept) 7.032594   0.457843   15.36   <2e-16 ***\n",
       "TV          0.047537   0.002691   17.67   <2e-16 ***\n",
       "---\n",
       "Signif. codes:  0 '***' 0.001 '**' 0.01 '*' 0.05 '.' 0.1 ' ' 1\n",
       "\n",
       "Residual standard error: 3.259 on 198 degrees of freedom\n",
       "Multiple R-squared:  0.6119,\tAdjusted R-squared:  0.6099 \n",
       "F-statistic: 312.1 on 1 and 198 DF,  p-value: < 2.2e-16\n"
      ]
     },
     "metadata": {},
     "output_type": "display_data"
    }
   ],
   "source": [
    "# Check B0, B1 by lm function\n",
    "md1 <- lm(sales ~ TV, data=adv)\n",
    "summary(md1)"
   ]
  },
  {
   "cell_type": "markdown",
   "metadata": {},
   "source": [
    "**Exercise 2:** Calculate B0, B1 for Sales ~ f(Radio)"
   ]
  },
  {
   "cell_type": "code",
   "execution_count": 18,
   "metadata": {},
   "outputs": [
    {
     "data": {
      "text/html": [
       "<dl class=dl-horizontal>\n",
       "\t<dt>(Intercept)</dt>\n",
       "\t\t<dd>9.31163809515829</dd>\n",
       "\t<dt>radio</dt>\n",
       "\t\t<dd>0.20249578339244</dd>\n",
       "</dl>\n"
      ],
      "text/latex": [
       "\\begin{description*}\n",
       "\\item[(Intercept)] 9.31163809515829\n",
       "\\item[radio] 0.20249578339244\n",
       "\\end{description*}\n"
      ],
      "text/markdown": [
       "(Intercept)\n",
       ":   9.31163809515829radio\n",
       ":   0.20249578339244\n",
       "\n"
      ],
      "text/plain": [
       "(Intercept)       radio \n",
       "  9.3116381   0.2024958 "
      ]
     },
     "metadata": {},
     "output_type": "display_data"
    }
   ],
   "source": [
    "md2<- lm(sales ~ radio, data=adv)\n",
    "coefficients(md2)"
   ]
  },
  {
   "cell_type": "code",
   "execution_count": 126,
   "metadata": {},
   "outputs": [
    {
     "data": {
      "text/plain": [
       "\n",
       "Call:\n",
       "lm(formula = sales ~ radio, data = adv)\n",
       "\n",
       "Residuals:\n",
       "     Min       1Q   Median       3Q      Max \n",
       "-15.7305  -2.1324   0.7707   2.7775   8.1810 \n",
       "\n",
       "Coefficients:\n",
       "            Estimate Std. Error t value Pr(>|t|)    \n",
       "(Intercept)  9.31164    0.56290  16.542   <2e-16 ***\n",
       "radio        0.20250    0.02041   9.921   <2e-16 ***\n",
       "---\n",
       "Signif. codes:  0 '***' 0.001 '**' 0.01 '*' 0.05 '.' 0.1 ' ' 1\n",
       "\n",
       "Residual standard error: 4.275 on 198 degrees of freedom\n",
       "Multiple R-squared:  0.332,\tAdjusted R-squared:  0.3287 \n",
       "F-statistic: 98.42 on 1 and 198 DF,  p-value: < 2.2e-16\n"
      ]
     },
     "metadata": {},
     "output_type": "display_data"
    }
   ],
   "source": [
    "# Check B0, B1 by lm function\n",
    "summary(lm(sales ~ radio, data=adv))"
   ]
  },
  {
   "cell_type": "markdown",
   "metadata": {},
   "source": [
    "**Exercise 3:** Calculate the 95% confidence interval of B0, B1 for model Sales ~ f(TV)?"
   ]
  },
  {
   "cell_type": "code",
   "execution_count": 24,
   "metadata": {},
   "outputs": [
    {
     "data": {
      "text/html": [
       "<table>\n",
       "<thead><tr><th></th><th scope=col>5 %</th><th scope=col>95 %</th></tr></thead>\n",
       "<tbody>\n",
       "\t<tr><th scope=row>(Intercept)</th><td>6.27596881</td><td>7.7892183 </td></tr>\n",
       "\t<tr><th scope=row>TV</th><td>0.04309018</td><td>0.0519831 </td></tr>\n",
       "</tbody>\n",
       "</table>\n"
      ],
      "text/latex": [
       "\\begin{tabular}{r|ll}\n",
       "  & 5 \\% & 95 \\%\\\\\n",
       "\\hline\n",
       "\t(Intercept) & 6.27596881 & 7.7892183 \\\\\n",
       "\tTV & 0.04309018 & 0.0519831 \\\\\n",
       "\\end{tabular}\n"
      ],
      "text/markdown": [
       "\n",
       "| <!--/--> | 5 % | 95 % |\n",
       "|---|---|---|\n",
       "| (Intercept) | 6.27596881 | 7.7892183  |\n",
       "| TV | 0.04309018 | 0.0519831  |\n",
       "\n"
      ],
      "text/plain": [
       "            5 %        95 %     \n",
       "(Intercept) 6.27596881 7.7892183\n",
       "TV          0.04309018 0.0519831"
      ]
     },
     "metadata": {},
     "output_type": "display_data"
    }
   ],
   "source": [
    "md1 <- lm(sales ~ TV, data=adv)\n",
    "#confint(md1)\n",
    "confint(md1,level=.9)"
   ]
  },
  {
   "cell_type": "code",
   "execution_count": 128,
   "metadata": {},
   "outputs": [
    {
     "data": {
      "text/plain": [
       "\n",
       "Call:\n",
       "lm(formula = sales ~ TV, data = adv)\n",
       "\n",
       "Residuals:\n",
       "    Min      1Q  Median      3Q     Max \n",
       "-8.3860 -1.9545 -0.1913  2.0671  7.2124 \n",
       "\n",
       "Coefficients:\n",
       "            Estimate Std. Error t value Pr(>|t|)    \n",
       "(Intercept) 7.032594   0.457843   15.36   <2e-16 ***\n",
       "TV          0.047537   0.002691   17.67   <2e-16 ***\n",
       "---\n",
       "Signif. codes:  0 '***' 0.001 '**' 0.01 '*' 0.05 '.' 0.1 ' ' 1\n",
       "\n",
       "Residual standard error: 3.259 on 198 degrees of freedom\n",
       "Multiple R-squared:  0.6119,\tAdjusted R-squared:  0.6099 \n",
       "F-statistic: 312.1 on 1 and 198 DF,  p-value: < 2.2e-16\n"
      ]
     },
     "metadata": {},
     "output_type": "display_data"
    }
   ],
   "source": [
    "# Double check with the lm function\n",
    "md <- lm(sales ~ TV, data=adv)\n",
    "summary(md)"
   ]
  },
  {
   "cell_type": "markdown",
   "metadata": {},
   "source": [
    "**Exercise 4:** Calculate the t-statistic and p-value for predictors radio and newspaper."
   ]
  },
  {
   "cell_type": "markdown",
   "metadata": {},
   "source": [
    "Calculate t-statistic for Sales ~ f(Radio)"
   ]
  },
  {
   "cell_type": "code",
   "execution_count": 16,
   "metadata": {},
   "outputs": [
    {
     "data": {
      "text/plain": [
       "\n",
       "Call:\n",
       "lm(formula = sales ~ radio, data = adv)\n",
       "\n",
       "Residuals:\n",
       "     Min       1Q   Median       3Q      Max \n",
       "-15.7305  -2.1324   0.7707   2.7775   8.1810 \n",
       "\n",
       "Coefficients:\n",
       "            Estimate Std. Error t value Pr(>|t|)    \n",
       "(Intercept)  9.31164    0.56290  16.542   <2e-16 ***\n",
       "radio        0.20250    0.02041   9.921   <2e-16 ***\n",
       "---\n",
       "Signif. codes:  0 '***' 0.001 '**' 0.01 '*' 0.05 '.' 0.1 ' ' 1\n",
       "\n",
       "Residual standard error: 4.275 on 198 degrees of freedom\n",
       "Multiple R-squared:  0.332,\tAdjusted R-squared:  0.3287 \n",
       "F-statistic: 98.42 on 1 and 198 DF,  p-value: < 2.2e-16\n"
      ]
     },
     "metadata": {},
     "output_type": "display_data"
    }
   ],
   "source": [
    "# Show the model of Sales ~ f(Radio)\n",
    "md2 <- lm(sales ~ radio, data=adv)\n",
    "summary(md2)"
   ]
  },
  {
   "cell_type": "code",
   "execution_count": 26,
   "metadata": {},
   "outputs": [
    {
     "data": {
      "text/html": [
       "<dl class=dl-horizontal>\n",
       "\t<dt>(Intercept)</dt>\n",
       "\t\t<dd>3.56107129186081e-39</dd>\n",
       "\t<dt>radio</dt>\n",
       "\t\t<dd>4.35496600176676e-19</dd>\n",
       "</dl>\n"
      ],
      "text/latex": [
       "\\begin{description*}\n",
       "\\item[(Intercept)] 3.56107129186081e-39\n",
       "\\item[radio] 4.35496600176676e-19\n",
       "\\end{description*}\n"
      ],
      "text/markdown": [
       "(Intercept)\n",
       ":   3.56107129186081e-39radio\n",
       ":   4.35496600176676e-19\n",
       "\n"
      ],
      "text/plain": [
       " (Intercept)        radio \n",
       "3.561071e-39 4.354966e-19 "
      ]
     },
     "metadata": {},
     "output_type": "display_data"
    },
    {
     "data": {
      "text/html": [
       "<dl class=dl-horizontal>\n",
       "\t<dt>(Intercept)</dt>\n",
       "\t\t<dd>16.5422453112582</dd>\n",
       "\t<dt>radio</dt>\n",
       "\t\t<dd>9.92076547282496</dd>\n",
       "</dl>\n"
      ],
      "text/latex": [
       "\\begin{description*}\n",
       "\\item[(Intercept)] 16.5422453112582\n",
       "\\item[radio] 9.92076547282496\n",
       "\\end{description*}\n"
      ],
      "text/markdown": [
       "(Intercept)\n",
       ":   16.5422453112582radio\n",
       ":   9.92076547282496\n",
       "\n"
      ],
      "text/plain": [
       "(Intercept)       radio \n",
       "  16.542245    9.920765 "
      ]
     },
     "metadata": {},
     "output_type": "display_data"
    }
   ],
   "source": [
    "# p value\n",
    "coef(summary(md2))[,4]\n",
    "#t value\n",
    "coef(summary(md2))[,3]"
   ]
  },
  {
   "cell_type": "markdown",
   "metadata": {},
   "source": [
    "Calculate t-statistic for Sales ~ f(Newspaper)"
   ]
  },
  {
   "cell_type": "code",
   "execution_count": 28,
   "metadata": {},
   "outputs": [
    {
     "data": {
      "text/plain": [
       "\n",
       "Call:\n",
       "lm(formula = sales ~ newspaper, data = adv)\n",
       "\n",
       "Residuals:\n",
       "     Min       1Q   Median       3Q      Max \n",
       "-11.2272  -3.3873  -0.8392   3.5059  12.7751 \n",
       "\n",
       "Coefficients:\n",
       "            Estimate Std. Error t value Pr(>|t|)    \n",
       "(Intercept) 12.35141    0.62142   19.88  < 2e-16 ***\n",
       "newspaper    0.05469    0.01658    3.30  0.00115 ** \n",
       "---\n",
       "Signif. codes:  0 '***' 0.001 '**' 0.01 '*' 0.05 '.' 0.1 ' ' 1\n",
       "\n",
       "Residual standard error: 5.092 on 198 degrees of freedom\n",
       "Multiple R-squared:  0.05212,\tAdjusted R-squared:  0.04733 \n",
       "F-statistic: 10.89 on 1 and 198 DF,  p-value: 0.001148\n"
      ]
     },
     "metadata": {},
     "output_type": "display_data"
    }
   ],
   "source": [
    "# Show the model of Sales ~ f(Newspaper)\n",
    "md3 <- lm(sales ~ newspaper, data=adv)\n",
    "summary(md3)"
   ]
  },
  {
   "cell_type": "code",
   "execution_count": 29,
   "metadata": {},
   "outputs": [
    {
     "data": {
      "text/html": [
       "<dl class=dl-horizontal>\n",
       "\t<dt>(Intercept)</dt>\n",
       "\t\t<dd>4.71350738858229e-49</dd>\n",
       "\t<dt>newspaper</dt>\n",
       "\t\t<dd>0.00114819586888822</dd>\n",
       "</dl>\n"
      ],
      "text/latex": [
       "\\begin{description*}\n",
       "\\item[(Intercept)] 4.71350738858229e-49\n",
       "\\item[newspaper] 0.00114819586888822\n",
       "\\end{description*}\n"
      ],
      "text/markdown": [
       "(Intercept)\n",
       ":   4.71350738858229e-49newspaper\n",
       ":   0.00114819586888822\n",
       "\n"
      ],
      "text/plain": [
       " (Intercept)    newspaper \n",
       "4.713507e-49 1.148196e-03 "
      ]
     },
     "metadata": {},
     "output_type": "display_data"
    },
    {
     "data": {
      "text/html": [
       "<dl class=dl-horizontal>\n",
       "\t<dt>(Intercept)</dt>\n",
       "\t\t<dd>19.8760956202489</dd>\n",
       "\t<dt>newspaper</dt>\n",
       "\t\t<dd>3.29959074363342</dd>\n",
       "</dl>\n"
      ],
      "text/latex": [
       "\\begin{description*}\n",
       "\\item[(Intercept)] 19.8760956202489\n",
       "\\item[newspaper] 3.29959074363342\n",
       "\\end{description*}\n"
      ],
      "text/markdown": [
       "(Intercept)\n",
       ":   19.8760956202489newspaper\n",
       ":   3.29959074363342\n",
       "\n"
      ],
      "text/plain": [
       "(Intercept)   newspaper \n",
       "  19.876096    3.299591 "
      ]
     },
     "metadata": {},
     "output_type": "display_data"
    }
   ],
   "source": [
    "# p value\n",
    "coef(summary(md3))[,4]\n",
    "#t value\n",
    "coef(summary(md3))[,3]"
   ]
  },
  {
   "cell_type": "markdown",
   "metadata": {},
   "source": [
    "**Exercise 5:** Calculate the RSE and R-squared for predictors radio and newspaper."
   ]
  },
  {
   "cell_type": "markdown",
   "metadata": {},
   "source": [
    "Calculate the RSE and R-squared for Sales ~ f(Radio)"
   ]
  },
  {
   "cell_type": "code",
   "execution_count": 30,
   "metadata": {},
   "outputs": [
    {
     "data": {
      "text/plain": [
       "\n",
       "Call:\n",
       "lm(formula = sales ~ radio, data = adv)\n",
       "\n",
       "Residuals:\n",
       "     Min       1Q   Median       3Q      Max \n",
       "-15.7305  -2.1324   0.7707   2.7775   8.1810 \n",
       "\n",
       "Coefficients:\n",
       "            Estimate Std. Error t value Pr(>|t|)    \n",
       "(Intercept)  9.31164    0.56290  16.542   <2e-16 ***\n",
       "radio        0.20250    0.02041   9.921   <2e-16 ***\n",
       "---\n",
       "Signif. codes:  0 '***' 0.001 '**' 0.01 '*' 0.05 '.' 0.1 ' ' 1\n",
       "\n",
       "Residual standard error: 4.275 on 198 degrees of freedom\n",
       "Multiple R-squared:  0.332,\tAdjusted R-squared:  0.3287 \n",
       "F-statistic: 98.42 on 1 and 198 DF,  p-value: < 2.2e-16\n"
      ]
     },
     "metadata": {},
     "output_type": "display_data"
    }
   ],
   "source": [
    "# Show the model of Sales ~ f(Radio)\n",
    "md2 <- lm(sales ~ radio, data=adv)\n",
    "summary(md2)"
   ]
  },
  {
   "cell_type": "code",
   "execution_count": 49,
   "metadata": {},
   "outputs": [
    {
     "data": {
      "text/html": [
       "<dl class=dl-horizontal>\n",
       "\t<dt>(Intercept)</dt>\n",
       "\t\t<dd>0.562900496271871</dd>\n",
       "\t<dt>radio</dt>\n",
       "\t\t<dd>0.0204113063600906</dd>\n",
       "</dl>\n"
      ],
      "text/latex": [
       "\\begin{description*}\n",
       "\\item[(Intercept)] 0.562900496271871\n",
       "\\item[radio] 0.0204113063600906\n",
       "\\end{description*}\n"
      ],
      "text/markdown": [
       "(Intercept)\n",
       ":   0.562900496271871radio\n",
       ":   0.0204113063600906\n",
       "\n"
      ],
      "text/plain": [
       "(Intercept)       radio \n",
       " 0.56290050  0.02041131 "
      ]
     },
     "metadata": {},
     "output_type": "display_data"
    },
    {
     "data": {
      "text/html": [
       "0.332032455445295"
      ],
      "text/latex": [
       "0.332032455445295"
      ],
      "text/markdown": [
       "0.332032455445295"
      ],
      "text/plain": [
       "[1] 0.3320325"
      ]
     },
     "metadata": {},
     "output_type": "display_data"
    },
    {
     "data": {
      "text/html": [
       "0.328658881987948"
      ],
      "text/latex": [
       "0.328658881987948"
      ],
      "text/markdown": [
       "0.328658881987948"
      ],
      "text/plain": [
       "[1] 0.3286589"
      ]
     },
     "metadata": {},
     "output_type": "display_data"
    }
   ],
   "source": [
    "# RSE\n",
    "coef(summary(md2))[ ,2]\n",
    "# R-squared\n",
    "summary(md2)$r.squared\n",
    "#Adjusted R-squared\n",
    "summary(md2)$adj.r.squared"
   ]
  },
  {
   "cell_type": "markdown",
   "metadata": {},
   "source": [
    "Calculate the RSE and R-squared for Sales ~ f(Newspaper)"
   ]
  },
  {
   "cell_type": "code",
   "execution_count": 46,
   "metadata": {},
   "outputs": [
    {
     "data": {
      "text/plain": [
       "\n",
       "Call:\n",
       "lm(formula = sales ~ newspaper, data = adv)\n",
       "\n",
       "Residuals:\n",
       "     Min       1Q   Median       3Q      Max \n",
       "-11.2272  -3.3873  -0.8392   3.5059  12.7751 \n",
       "\n",
       "Coefficients:\n",
       "            Estimate Std. Error t value Pr(>|t|)    \n",
       "(Intercept) 12.35141    0.62142   19.88  < 2e-16 ***\n",
       "newspaper    0.05469    0.01658    3.30  0.00115 ** \n",
       "---\n",
       "Signif. codes:  0 '***' 0.001 '**' 0.01 '*' 0.05 '.' 0.1 ' ' 1\n",
       "\n",
       "Residual standard error: 5.092 on 198 degrees of freedom\n",
       "Multiple R-squared:  0.05212,\tAdjusted R-squared:  0.04733 \n",
       "F-statistic: 10.89 on 1 and 198 DF,  p-value: 0.001148\n"
      ]
     },
     "metadata": {},
     "output_type": "display_data"
    }
   ],
   "source": [
    "# Show the model of Sales ~ f(Newspaper)\n",
    "md3 <- lm(sales ~ newspaper, data=adv)\n",
    "summary(md3)"
   ]
  },
  {
   "cell_type": "code",
   "execution_count": 50,
   "metadata": {},
   "outputs": [
    {
     "data": {
      "text/html": [
       "<dl class=dl-horizontal>\n",
       "\t<dt>(Intercept)</dt>\n",
       "\t\t<dd>0.621420187609435</dd>\n",
       "\t<dt>newspaper</dt>\n",
       "\t\t<dd>0.0165757218763582</dd>\n",
       "</dl>\n"
      ],
      "text/latex": [
       "\\begin{description*}\n",
       "\\item[(Intercept)] 0.621420187609435\n",
       "\\item[newspaper] 0.0165757218763582\n",
       "\\end{description*}\n"
      ],
      "text/markdown": [
       "(Intercept)\n",
       ":   0.621420187609435newspaper\n",
       ":   0.0165757218763582\n",
       "\n"
      ],
      "text/plain": [
       "(Intercept)   newspaper \n",
       " 0.62142019  0.01657572 "
      ]
     },
     "metadata": {},
     "output_type": "display_data"
    },
    {
     "data": {
      "text/html": [
       "0.052120445444305"
      ],
      "text/latex": [
       "0.052120445444305"
      ],
      "text/markdown": [
       "0.052120445444305"
      ],
      "text/plain": [
       "[1] 0.05212045"
      ]
     },
     "metadata": {},
     "output_type": "display_data"
    },
    {
     "data": {
      "text/html": [
       "0.0473331749667512"
      ],
      "text/latex": [
       "0.0473331749667512"
      ],
      "text/markdown": [
       "0.0473331749667512"
      ],
      "text/plain": [
       "[1] 0.04733317"
      ]
     },
     "metadata": {},
     "output_type": "display_data"
    }
   ],
   "source": [
    "# RSE\n",
    "coef(summary(md3))[ ,2]\n",
    "# R-squared\n",
    "summary(md3)$r.squared\n",
    "#Adjusted R-squared\n",
    "summary(md3)$adj.r.squared"
   ]
  },
  {
   "cell_type": "markdown",
   "metadata": {},
   "source": [
    "**4. Multiple Linear Regression**"
   ]
  },
  {
   "cell_type": "code",
   "execution_count": 53,
   "metadata": {},
   "outputs": [
    {
     "data": {
      "text/html": [
       "<table>\n",
       "<thead><tr><th scope=col>TV</th><th scope=col>radio</th><th scope=col>newspaper</th><th scope=col>sales</th></tr></thead>\n",
       "<tbody>\n",
       "\t<tr><td>230.1</td><td>37.8 </td><td>69.2 </td><td>22.1 </td></tr>\n",
       "\t<tr><td> 44.5</td><td>39.3 </td><td>45.1 </td><td>10.4 </td></tr>\n",
       "\t<tr><td> 17.2</td><td>45.9 </td><td>69.3 </td><td> 9.3 </td></tr>\n",
       "\t<tr><td>151.5</td><td>41.3 </td><td>58.5 </td><td>18.5 </td></tr>\n",
       "\t<tr><td>180.8</td><td>10.8 </td><td>58.4 </td><td>12.9 </td></tr>\n",
       "\t<tr><td>  8.7</td><td>48.9 </td><td>75.0 </td><td> 7.2 </td></tr>\n",
       "</tbody>\n",
       "</table>\n"
      ],
      "text/latex": [
       "\\begin{tabular}{r|llll}\n",
       " TV & radio & newspaper & sales\\\\\n",
       "\\hline\n",
       "\t 230.1 & 37.8  & 69.2  & 22.1 \\\\\n",
       "\t  44.5 & 39.3  & 45.1  & 10.4 \\\\\n",
       "\t  17.2 & 45.9  & 69.3  &  9.3 \\\\\n",
       "\t 151.5 & 41.3  & 58.5  & 18.5 \\\\\n",
       "\t 180.8 & 10.8  & 58.4  & 12.9 \\\\\n",
       "\t   8.7 & 48.9  & 75.0  &  7.2 \\\\\n",
       "\\end{tabular}\n"
      ],
      "text/markdown": [
       "\n",
       "| TV | radio | newspaper | sales |\n",
       "|---|---|---|---|\n",
       "| 230.1 | 37.8  | 69.2  | 22.1  |\n",
       "|  44.5 | 39.3  | 45.1  | 10.4  |\n",
       "|  17.2 | 45.9  | 69.3  |  9.3  |\n",
       "| 151.5 | 41.3  | 58.5  | 18.5  |\n",
       "| 180.8 | 10.8  | 58.4  | 12.9  |\n",
       "|   8.7 | 48.9  | 75.0  |  7.2  |\n",
       "\n"
      ],
      "text/plain": [
       "  TV    radio newspaper sales\n",
       "1 230.1 37.8  69.2      22.1 \n",
       "2  44.5 39.3  45.1      10.4 \n",
       "3  17.2 45.9  69.3       9.3 \n",
       "4 151.5 41.3  58.5      18.5 \n",
       "5 180.8 10.8  58.4      12.9 \n",
       "6   8.7 48.9  75.0       7.2 "
      ]
     },
     "metadata": {},
     "output_type": "display_data"
    },
    {
     "name": "stdout",
     "output_type": "stream",
     "text": [
      "'data.frame':\t200 obs. of  4 variables:\n",
      " $ TV       : num  230.1 44.5 17.2 151.5 180.8 ...\n",
      " $ radio    : num  37.8 39.3 45.9 41.3 10.8 48.9 32.8 19.6 2.1 2.6 ...\n",
      " $ newspaper: num  69.2 45.1 69.3 58.5 58.4 75 23.5 11.6 1 21.2 ...\n",
      " $ sales    : num  22.1 10.4 9.3 18.5 12.9 7.2 11.8 13.2 4.8 10.6 ...\n"
     ]
    }
   ],
   "source": [
    "# Import Advertising data\n",
    "adv <- read.csv('./data/Advertising.csv', row.names=1)\n",
    "head(adv)\n",
    "str(adv)"
   ]
  },
  {
   "cell_type": "markdown",
   "metadata": {},
   "source": [
    "**Exercise 6:** Use the matrix formula to estimate the parameters of multilinear regression model."
   ]
  },
  {
   "cell_type": "code",
   "execution_count": 62,
   "metadata": {},
   "outputs": [
    {
     "ename": "ERROR",
     "evalue": "Error in model.frame.default(formula = y ~ x, drop.unused.levels = TRUE): invalid type (list) for variable 'y'\n",
     "output_type": "error",
     "traceback": [
      "Error in model.frame.default(formula = y ~ x, drop.unused.levels = TRUE): invalid type (list) for variable 'y'\nTraceback:\n",
      "1. lm(y ~ x)",
      "2. eval(mf, parent.frame())",
      "3. eval(mf, parent.frame())",
      "4. stats::model.frame(formula = y ~ x, drop.unused.levels = TRUE)",
      "5. model.frame.default(formula = y ~ x, drop.unused.levels = TRUE)"
     ]
    }
   ],
   "source": []
  },
  {
   "cell_type": "code",
   "execution_count": 110,
   "metadata": {},
   "outputs": [
    {
     "data": {
      "text/plain": [
       "\n",
       "Call:\n",
       "lm(formula = sales ~ ., data = adv)\n",
       "\n",
       "Residuals:\n",
       "    Min      1Q  Median      3Q     Max \n",
       "-8.8277 -0.8908  0.2418  1.1893  2.8292 \n",
       "\n",
       "Coefficients:\n",
       "             Estimate Std. Error t value Pr(>|t|)    \n",
       "(Intercept)  2.938889   0.311908   9.422   <2e-16 ***\n",
       "TV           0.045765   0.001395  32.809   <2e-16 ***\n",
       "radio        0.188530   0.008611  21.893   <2e-16 ***\n",
       "newspaper   -0.001037   0.005871  -0.177     0.86    \n",
       "---\n",
       "Signif. codes:  0 '***' 0.001 '**' 0.01 '*' 0.05 '.' 0.1 ' ' 1\n",
       "\n",
       "Residual standard error: 1.686 on 196 degrees of freedom\n",
       "Multiple R-squared:  0.8972,\tAdjusted R-squared:  0.8956 \n",
       "F-statistic: 570.3 on 3 and 196 DF,  p-value: < 2.2e-16\n"
      ]
     },
     "metadata": {},
     "output_type": "display_data"
    }
   ],
   "source": [
    "# Compare with the function of R\n",
    "md <- lm(sales ~ ., data=adv)\n",
    "summary(md)"
   ]
  },
  {
   "cell_type": "markdown",
   "metadata": {},
   "source": [
    "## Lab: \n",
    "\n",
    "1. Construct your own Multiple Linear Regression model on Credit data.\n",
    "\n",
    "2. Linear Regression with Interactions term on Advertising data.\n",
    "\n",
    "3. Polynomial regression on Auto data."
   ]
  },
  {
   "cell_type": "markdown",
   "metadata": {},
   "source": [
    "**1. Construct your own Multiple Linear Regression model on Credit data: Predict customer balance**"
   ]
  },
  {
   "cell_type": "code",
   "execution_count": 168,
   "metadata": {},
   "outputs": [
    {
     "data": {
      "text/html": [
       "<table>\n",
       "<thead><tr><th scope=col>Income</th><th scope=col>Limit</th><th scope=col>Rating</th><th scope=col>Cards</th><th scope=col>Age</th><th scope=col>Education</th><th scope=col>Gender</th><th scope=col>Student</th><th scope=col>Married</th><th scope=col>Ethnicity</th><th scope=col>Balance</th></tr></thead>\n",
       "<tbody>\n",
       "\t<tr><td> 14.891  </td><td>3606     </td><td>283      </td><td>2        </td><td>34       </td><td>11       </td><td> Male    </td><td>No       </td><td>Yes      </td><td>Caucasian</td><td> 333     </td></tr>\n",
       "\t<tr><td>106.025  </td><td>6645     </td><td>483      </td><td>3        </td><td>82       </td><td>15       </td><td>Female   </td><td>Yes      </td><td>Yes      </td><td>Asian    </td><td> 903     </td></tr>\n",
       "\t<tr><td>104.593  </td><td>7075     </td><td>514      </td><td>4        </td><td>71       </td><td>11       </td><td> Male    </td><td>No       </td><td>No       </td><td>Asian    </td><td> 580     </td></tr>\n",
       "\t<tr><td>148.924  </td><td>9504     </td><td>681      </td><td>3        </td><td>36       </td><td>11       </td><td>Female   </td><td>No       </td><td>No       </td><td>Asian    </td><td> 964     </td></tr>\n",
       "\t<tr><td> 55.882  </td><td>4897     </td><td>357      </td><td>2        </td><td>68       </td><td>16       </td><td> Male    </td><td>No       </td><td>Yes      </td><td>Caucasian</td><td> 331     </td></tr>\n",
       "\t<tr><td> 80.180  </td><td>8047     </td><td>569      </td><td>4        </td><td>77       </td><td>10       </td><td> Male    </td><td>No       </td><td>No       </td><td>Caucasian</td><td>1151     </td></tr>\n",
       "</tbody>\n",
       "</table>\n"
      ],
      "text/latex": [
       "\\begin{tabular}{r|lllllllllll}\n",
       " Income & Limit & Rating & Cards & Age & Education & Gender & Student & Married & Ethnicity & Balance\\\\\n",
       "\\hline\n",
       "\t  14.891   & 3606      & 283       & 2         & 34        & 11        &  Male     & No        & Yes       & Caucasian &  333     \\\\\n",
       "\t 106.025   & 6645      & 483       & 3         & 82        & 15        & Female    & Yes       & Yes       & Asian     &  903     \\\\\n",
       "\t 104.593   & 7075      & 514       & 4         & 71        & 11        &  Male     & No        & No        & Asian     &  580     \\\\\n",
       "\t 148.924   & 9504      & 681       & 3         & 36        & 11        & Female    & No        & No        & Asian     &  964     \\\\\n",
       "\t  55.882   & 4897      & 357       & 2         & 68        & 16        &  Male     & No        & Yes       & Caucasian &  331     \\\\\n",
       "\t  80.180   & 8047      & 569       & 4         & 77        & 10        &  Male     & No        & No        & Caucasian & 1151     \\\\\n",
       "\\end{tabular}\n"
      ],
      "text/markdown": [
       "\n",
       "| Income | Limit | Rating | Cards | Age | Education | Gender | Student | Married | Ethnicity | Balance |\n",
       "|---|---|---|---|---|---|---|---|---|---|---|\n",
       "|  14.891   | 3606      | 283       | 2         | 34        | 11        |  Male     | No        | Yes       | Caucasian |  333      |\n",
       "| 106.025   | 6645      | 483       | 3         | 82        | 15        | Female    | Yes       | Yes       | Asian     |  903      |\n",
       "| 104.593   | 7075      | 514       | 4         | 71        | 11        |  Male     | No        | No        | Asian     |  580      |\n",
       "| 148.924   | 9504      | 681       | 3         | 36        | 11        | Female    | No        | No        | Asian     |  964      |\n",
       "|  55.882   | 4897      | 357       | 2         | 68        | 16        |  Male     | No        | Yes       | Caucasian |  331      |\n",
       "|  80.180   | 8047      | 569       | 4         | 77        | 10        |  Male     | No        | No        | Caucasian | 1151      |\n",
       "\n"
      ],
      "text/plain": [
       "  Income  Limit Rating Cards Age Education Gender Student Married Ethnicity\n",
       "1  14.891 3606  283    2     34  11         Male  No      Yes     Caucasian\n",
       "2 106.025 6645  483    3     82  15        Female Yes     Yes     Asian    \n",
       "3 104.593 7075  514    4     71  11         Male  No      No      Asian    \n",
       "4 148.924 9504  681    3     36  11        Female No      No      Asian    \n",
       "5  55.882 4897  357    2     68  16         Male  No      Yes     Caucasian\n",
       "6  80.180 8047  569    4     77  10         Male  No      No      Caucasian\n",
       "  Balance\n",
       "1  333   \n",
       "2  903   \n",
       "3  580   \n",
       "4  964   \n",
       "5  331   \n",
       "6 1151   "
      ]
     },
     "metadata": {},
     "output_type": "display_data"
    }
   ],
   "source": [
    "# Import data\n",
    "credit <- read.csv('./data/Credit.csv', row.names=1)\n",
    "head(credit)"
   ]
  },
  {
   "cell_type": "markdown",
   "metadata": {},
   "source": [
    "Using the matrix formula to manually estimate the multiple linear regression model with 3 predictors Age, Rating, Limit."
   ]
  },
  {
   "cell_type": "code",
   "execution_count": 70,
   "metadata": {},
   "outputs": [
    {
     "ename": "ERROR",
     "evalue": "Error in scatterplotMatrix(w[, -1], spread = F, lty.smooth = 2, main = \"Matrix\"): could not find function \"scatterplotMatrix\"\n",
     "output_type": "error",
     "traceback": [
      "Error in scatterplotMatrix(w[, -1], spread = F, lty.smooth = 2, main = \"Matrix\"): could not find function \"scatterplotMatrix\"\nTraceback:\n"
     ]
    }
   ],
   "source": []
  },
  {
   "cell_type": "code",
   "execution_count": 73,
   "metadata": {},
   "outputs": [
    {
     "data": {
      "text/plain": [
       "\n",
       "Call:\n",
       "lm(formula = Balance ~ Age + Rating + Limit, data = credit)\n",
       "\n",
       "Residuals:\n",
       "    Min      1Q  Median      3Q     Max \n",
       "-729.67 -135.82   -8.58  127.29  827.65 \n",
       "\n",
       "Coefficients:\n",
       "              Estimate Std. Error t value Pr(>|t|)    \n",
       "(Intercept) -259.51752   55.88219  -4.644 4.66e-06 ***\n",
       "Age           -2.34575    0.66861  -3.508 0.000503 ***\n",
       "Rating         2.31046    0.93953   2.459 0.014352 *  \n",
       "Limit          0.01901    0.06296   0.302 0.762830    \n",
       "---\n",
       "Signif. codes:  0 '***' 0.001 '**' 0.01 '*' 0.05 '.' 0.1 ' ' 1\n",
       "\n",
       "Residual standard error: 229.1 on 396 degrees of freedom\n",
       "Multiple R-squared:  0.7536,\tAdjusted R-squared:  0.7517 \n",
       "F-statistic: 403.7 on 3 and 396 DF,  p-value: < 2.2e-16\n"
      ]
     },
     "metadata": {},
     "output_type": "display_data"
    }
   ],
   "source": [
    "# Compare with function of R\n",
    "md_full <- lm(Balance ~ Age + Rating + Limit, data=credit)\n",
    "summary(md_full)"
   ]
  },
  {
   "cell_type": "markdown",
   "metadata": {},
   "source": [
    "**2. Linear Regression with Interactions term on Advertising data: Predict sales**"
   ]
  },
  {
   "cell_type": "code",
   "execution_count": 171,
   "metadata": {},
   "outputs": [
    {
     "data": {
      "text/html": [
       "<table>\n",
       "<thead><tr><th scope=col>TV</th><th scope=col>radio</th><th scope=col>newspaper</th><th scope=col>sales</th></tr></thead>\n",
       "<tbody>\n",
       "\t<tr><td>230.1</td><td>37.8 </td><td>69.2 </td><td>22.1 </td></tr>\n",
       "\t<tr><td> 44.5</td><td>39.3 </td><td>45.1 </td><td>10.4 </td></tr>\n",
       "\t<tr><td> 17.2</td><td>45.9 </td><td>69.3 </td><td> 9.3 </td></tr>\n",
       "\t<tr><td>151.5</td><td>41.3 </td><td>58.5 </td><td>18.5 </td></tr>\n",
       "\t<tr><td>180.8</td><td>10.8 </td><td>58.4 </td><td>12.9 </td></tr>\n",
       "\t<tr><td>  8.7</td><td>48.9 </td><td>75.0 </td><td> 7.2 </td></tr>\n",
       "</tbody>\n",
       "</table>\n"
      ],
      "text/latex": [
       "\\begin{tabular}{r|llll}\n",
       " TV & radio & newspaper & sales\\\\\n",
       "\\hline\n",
       "\t 230.1 & 37.8  & 69.2  & 22.1 \\\\\n",
       "\t  44.5 & 39.3  & 45.1  & 10.4 \\\\\n",
       "\t  17.2 & 45.9  & 69.3  &  9.3 \\\\\n",
       "\t 151.5 & 41.3  & 58.5  & 18.5 \\\\\n",
       "\t 180.8 & 10.8  & 58.4  & 12.9 \\\\\n",
       "\t   8.7 & 48.9  & 75.0  &  7.2 \\\\\n",
       "\\end{tabular}\n"
      ],
      "text/markdown": [
       "\n",
       "| TV | radio | newspaper | sales |\n",
       "|---|---|---|---|\n",
       "| 230.1 | 37.8  | 69.2  | 22.1  |\n",
       "|  44.5 | 39.3  | 45.1  | 10.4  |\n",
       "|  17.2 | 45.9  | 69.3  |  9.3  |\n",
       "| 151.5 | 41.3  | 58.5  | 18.5  |\n",
       "| 180.8 | 10.8  | 58.4  | 12.9  |\n",
       "|   8.7 | 48.9  | 75.0  |  7.2  |\n",
       "\n"
      ],
      "text/plain": [
       "  TV    radio newspaper sales\n",
       "1 230.1 37.8  69.2      22.1 \n",
       "2  44.5 39.3  45.1      10.4 \n",
       "3  17.2 45.9  69.3       9.3 \n",
       "4 151.5 41.3  58.5      18.5 \n",
       "5 180.8 10.8  58.4      12.9 \n",
       "6   8.7 48.9  75.0       7.2 "
      ]
     },
     "metadata": {},
     "output_type": "display_data"
    }
   ],
   "source": [
    "# Read Advertising data\n",
    "adv <- read.csv('./data/Advertising.csv', row.names=1)\n",
    "head(adv)"
   ]
  },
  {
   "cell_type": "code",
   "execution_count": 69,
   "metadata": {},
   "outputs": [
    {
     "data": {
      "text/html": [
       "<table>\n",
       "<thead><tr><th scope=col>fit</th><th scope=col>lwr</th><th scope=col>upr</th></tr></thead>\n",
       "<tbody>\n",
       "\t<tr><td>10.72151</td><td>7.334193</td><td>14.10883</td></tr>\n",
       "</tbody>\n",
       "</table>\n"
      ],
      "text/latex": [
       "\\begin{tabular}{r|lll}\n",
       " fit & lwr & upr\\\\\n",
       "\\hline\n",
       "\t 10.72151 & 7.334193 & 14.10883\\\\\n",
       "\\end{tabular}\n"
      ],
      "text/markdown": [
       "\n",
       "| fit | lwr | upr |\n",
       "|---|---|---|\n",
       "| 10.72151 | 7.334193 | 14.10883 |\n",
       "\n"
      ],
      "text/plain": [
       "  fit      lwr      upr     \n",
       "1 10.72151 7.334193 14.10883"
      ]
     },
     "metadata": {},
     "output_type": "display_data"
    }
   ],
   "source": [
    "# Prediction when TV=40,radio=32,newspaper=78\n",
    "md4 <- lm(sales ~ ., data=adv)\n",
    "newdata<-data.frame(TV=40,radio=32,newspaper=78)\n",
    "pre<-predict(md4,newdata,interval=\"prediction\",level=0.95)\n",
    "pre"
   ]
  },
  {
   "cell_type": "markdown",
   "metadata": {},
   "source": [
    "**3. Polynomial regression on Auto data: Predict miles per gallon of the car (mpg)**"
   ]
  },
  {
   "cell_type": "code",
   "execution_count": 176,
   "metadata": {},
   "outputs": [
    {
     "name": "stderr",
     "output_type": "stream",
     "text": [
      "Warning message in eval(expr, envir, enclos):\n",
      "\"NAs introduced by coercion\""
     ]
    },
    {
     "data": {
      "text/html": [
       "<table>\n",
       "<thead><tr><th scope=col>mpg</th><th scope=col>cylinders</th><th scope=col>displacement</th><th scope=col>horsepower</th><th scope=col>weight</th><th scope=col>acceleration</th><th scope=col>year</th><th scope=col>origin</th><th scope=col>name</th></tr></thead>\n",
       "<tbody>\n",
       "\t<tr><td>18                       </td><td>8                        </td><td>307                      </td><td>130                      </td><td>3504                     </td><td>12.0                     </td><td>70                       </td><td>1                        </td><td>chevrolet chevelle malibu</td></tr>\n",
       "\t<tr><td>15                       </td><td>8                        </td><td>350                      </td><td>165                      </td><td>3693                     </td><td>11.5                     </td><td>70                       </td><td>1                        </td><td>buick skylark 320        </td></tr>\n",
       "\t<tr><td>18                       </td><td>8                        </td><td>318                      </td><td>150                      </td><td>3436                     </td><td>11.0                     </td><td>70                       </td><td>1                        </td><td>plymouth satellite       </td></tr>\n",
       "\t<tr><td>16                       </td><td>8                        </td><td>304                      </td><td>150                      </td><td>3433                     </td><td>12.0                     </td><td>70                       </td><td>1                        </td><td>amc rebel sst            </td></tr>\n",
       "\t<tr><td>17                       </td><td>8                        </td><td>302                      </td><td>140                      </td><td>3449                     </td><td>10.5                     </td><td>70                       </td><td>1                        </td><td>ford torino              </td></tr>\n",
       "\t<tr><td>15                       </td><td>8                        </td><td>429                      </td><td>198                      </td><td>4341                     </td><td>10.0                     </td><td>70                       </td><td>1                        </td><td>ford galaxie 500         </td></tr>\n",
       "</tbody>\n",
       "</table>\n"
      ],
      "text/latex": [
       "\\begin{tabular}{r|lllllllll}\n",
       " mpg & cylinders & displacement & horsepower & weight & acceleration & year & origin & name\\\\\n",
       "\\hline\n",
       "\t 18                        & 8                         & 307                       & 130                       & 3504                      & 12.0                      & 70                        & 1                         & chevrolet chevelle malibu\\\\\n",
       "\t 15                        & 8                         & 350                       & 165                       & 3693                      & 11.5                      & 70                        & 1                         & buick skylark 320        \\\\\n",
       "\t 18                        & 8                         & 318                       & 150                       & 3436                      & 11.0                      & 70                        & 1                         & plymouth satellite       \\\\\n",
       "\t 16                        & 8                         & 304                       & 150                       & 3433                      & 12.0                      & 70                        & 1                         & amc rebel sst            \\\\\n",
       "\t 17                        & 8                         & 302                       & 140                       & 3449                      & 10.5                      & 70                        & 1                         & ford torino              \\\\\n",
       "\t 15                        & 8                         & 429                       & 198                       & 4341                      & 10.0                      & 70                        & 1                         & ford galaxie 500         \\\\\n",
       "\\end{tabular}\n"
      ],
      "text/markdown": [
       "\n",
       "| mpg | cylinders | displacement | horsepower | weight | acceleration | year | origin | name |\n",
       "|---|---|---|---|---|---|---|---|---|\n",
       "| 18                        | 8                         | 307                       | 130                       | 3504                      | 12.0                      | 70                        | 1                         | chevrolet chevelle malibu |\n",
       "| 15                        | 8                         | 350                       | 165                       | 3693                      | 11.5                      | 70                        | 1                         | buick skylark 320         |\n",
       "| 18                        | 8                         | 318                       | 150                       | 3436                      | 11.0                      | 70                        | 1                         | plymouth satellite        |\n",
       "| 16                        | 8                         | 304                       | 150                       | 3433                      | 12.0                      | 70                        | 1                         | amc rebel sst             |\n",
       "| 17                        | 8                         | 302                       | 140                       | 3449                      | 10.5                      | 70                        | 1                         | ford torino               |\n",
       "| 15                        | 8                         | 429                       | 198                       | 4341                      | 10.0                      | 70                        | 1                         | ford galaxie 500          |\n",
       "\n"
      ],
      "text/plain": [
       "  mpg cylinders displacement horsepower weight acceleration year origin\n",
       "1 18  8         307          130        3504   12.0         70   1     \n",
       "2 15  8         350          165        3693   11.5         70   1     \n",
       "3 18  8         318          150        3436   11.0         70   1     \n",
       "4 16  8         304          150        3433   12.0         70   1     \n",
       "5 17  8         302          140        3449   10.5         70   1     \n",
       "6 15  8         429          198        4341   10.0         70   1     \n",
       "  name                     \n",
       "1 chevrolet chevelle malibu\n",
       "2 buick skylark 320        \n",
       "3 plymouth satellite       \n",
       "4 amc rebel sst            \n",
       "5 ford torino              \n",
       "6 ford galaxie 500         "
      ]
     },
     "metadata": {},
     "output_type": "display_data"
    },
    {
     "name": "stdout",
     "output_type": "stream",
     "text": [
      "Classes 'data.table' and 'data.frame':\t397 obs. of  9 variables:\n",
      " $ mpg         : num  18 15 18 16 17 15 14 14 14 15 ...\n",
      " $ cylinders   : int  8 8 8 8 8 8 8 8 8 8 ...\n",
      " $ displacement: num  307 350 318 304 302 429 454 440 455 390 ...\n",
      " $ horsepower  : num  130 165 150 150 140 198 220 215 225 190 ...\n",
      " $ weight      : int  3504 3693 3436 3433 3449 4341 4354 4312 4425 3850 ...\n",
      " $ acceleration: num  12 11.5 11 12 10.5 10 9 8.5 10 8.5 ...\n",
      " $ year        : int  70 70 70 70 70 70 70 70 70 70 ...\n",
      " $ origin      : int  1 1 1 1 1 1 1 1 1 1 ...\n",
      " $ name        : chr  \"chevrolet chevelle malibu\" \"buick skylark 320\" \"plymouth satellite\" \"amc rebel sst\" ...\n",
      " - attr(*, \".internal.selfref\")=<externalptr> \n"
     ]
    }
   ],
   "source": [
    "# Import data\n",
    "auto <- fread('./data/Auto.csv')\n",
    "auto$horsepower <- as.numeric(auto$horsepower)  # Correct data format\n",
    "head(auto)\n",
    "str(auto)"
   ]
  },
  {
   "cell_type": "markdown",
   "metadata": {},
   "source": [
    "# Exercise 2 (p.52, Chap.2), 10 (p.56, Chap.2), 3 (p.120, Chap.3), 10 (p.123, Chap.3) and 15(p.126, Chap.3）"
   ]
  },
  {
   "cell_type": "raw",
   "metadata": {},
   "source": [
    "Exercise 2 (p.52, Chap.2)\n",
    "（a）Regression\n",
    "    inference\n",
    "    n = 500 observations\n",
    "    p = 3 variables\n",
    "（b）Classification\n",
    "    prediction\n",
    "    n = 20 observations\n",
    "    p = 13 variables\n",
    "（c）Regression\n",
    "    prediction\n",
    "    n = 52 weekly observations\n",
    "    p = 3 variables"
   ]
  },
  {
   "cell_type": "markdown",
   "metadata": {},
   "source": [
    "Exercise 10 (p.56, Chap.2)"
   ]
  },
  {
   "cell_type": "code",
   "execution_count": 77,
   "metadata": {},
   "outputs": [],
   "source": [
    "library(MASS) \n",
    "?Boston\n",
    "#The Boston data frame has 506 rows and 14 columns."
   ]
  },
  {
   "cell_type": "raw",
   "metadata": {},
   "source": [
    "This data frame contains the following columns:\n",
    "crim:  per capita crime rate by town.\n",
    "zn:  proportion of residential land zoned for lots over 25,000 sq.ft.\n",
    "indus:  proportion of non-retail business acres per town.\n",
    "chas:  Charles River dummy variable (= 1 if tract bounds river; 0 otherwise).\n",
    "nox:  nitrogen oxides concentration (parts per 10 million).\n",
    "rm:  average number of rooms per dwelling.\n",
    "age:  proportion of owner-occupied units built prior to 1940.\n",
    "dis:  weighted mean of distances to five Boston employment centres.\n",
    "rad:  index of accessibility to radial highways.\n",
    "tax:  full-value property-tax rate per $10,000.\n",
    "ptratio:  pupil-teacher ratio by town.\n",
    "black:  1000(𝐵𝑘−0.63)2 where 𝐵𝑘 is the proportion of blacks by town.\n",
    "lstat: lower status of the population (percent).\n",
    "medv:  median value of owner-occupied homes in $1000s."
   ]
  },
  {
   "cell_type": "code",
   "execution_count": 105,
   "metadata": {},
   "outputs": [
    {
     "data": {
      "image/png": "[encoded data removed]",
      "text/plain": [
       "plot without title"
      ]
     },
     "metadata": {},
     "output_type": "display_data"
    }
   ],
   "source": [
    "#?pheatmap\n",
    "#?psych\n",
    "pr<-corr.test(Boston,Boston,method=\"spearman\")\n",
    "pheatmap(pr$r,display_numbers = matrix(ifelse(pr$p <= 0.01, \"**\", ifelse(pr$p<= 0.05 ,\"*\",\" \")), nrow(pr$p)),fontsize=18)\n",
    "# nox has a strong relationship with crime rate"
   ]
  },
  {
   "cell_type": "code",
   "execution_count": 108,
   "metadata": {},
   "outputs": [
    {
     "name": "stdout",
     "output_type": "stream",
     "text": [
      "      crim         zn      indus       chas        nox         rm        age \n",
      "-0.3883046  0.3604453 -0.4837252  0.1752602 -0.4273208  0.6953599 -0.3769546 \n",
      "       dis        rad        tax    ptratio      black      lstat       medv \n",
      " 0.2499287 -0.3816262 -0.4685359 -0.5077867  0.3334608 -0.7376627  1.0000000 \n"
     ]
    },
    {
     "data": {
      "image/png": "[encoded data removed]",
      "text/plain": [
       "plot without title"
      ]
     },
     "metadata": {},
     "output_type": "display_data"
    }
   ],
   "source": [
    "all_correlations = cor( Boston )\n",
    "print( all_correlations[,14] )\n",
    "cols = c(14,13,6,11,3,10)\n",
    "pairs( Boston[,cols] )"
   ]
  },
  {
   "cell_type": "code",
   "execution_count": 112,
   "metadata": {},
   "outputs": [
    {
     "data": {
      "text/plain": [
       "\n",
       "  0   1 \n",
       "471  35 "
      ]
     },
     "metadata": {},
     "output_type": "display_data"
    }
   ],
   "source": [
    "table(Boston$chas)"
   ]
  },
  {
   "cell_type": "code",
   "execution_count": 113,
   "metadata": {},
   "outputs": [
    {
     "data": {
      "text/html": [
       "19.05"
      ],
      "text/latex": [
       "19.05"
      ],
      "text/markdown": [
       "19.05"
      ],
      "text/plain": [
       "[1] 19.05"
      ]
     },
     "metadata": {},
     "output_type": "display_data"
    }
   ],
   "source": [
    "median(Boston$ptratio)"
   ]
  },
  {
   "cell_type": "code",
   "execution_count": 115,
   "metadata": {},
   "outputs": [
    {
     "data": {
      "text/html": [
       "<table>\n",
       "<thead><tr><th></th><th scope=col>crim</th><th scope=col>zn</th><th scope=col>indus</th><th scope=col>chas</th><th scope=col>nox</th><th scope=col>rm</th><th scope=col>age</th><th scope=col>dis</th><th scope=col>rad</th><th scope=col>tax</th><th scope=col>ptratio</th><th scope=col>black</th><th scope=col>lstat</th><th scope=col>medv</th></tr></thead>\n",
       "<tbody>\n",
       "\t<tr><th scope=row>399</th><td>38.3518</td><td>0      </td><td>18.1   </td><td>0      </td><td>0.693  </td><td>5.453  </td><td>100    </td><td>1.4896 </td><td>24     </td><td>666    </td><td>20.2   </td><td>396.90 </td><td>30.59  </td><td>5      </td></tr>\n",
       "\t<tr><th scope=row>406</th><td>67.9208</td><td>0      </td><td>18.1   </td><td>0      </td><td>0.693  </td><td>5.683  </td><td>100    </td><td>1.4254 </td><td>24     </td><td>666    </td><td>20.2   </td><td>384.97 </td><td>22.98  </td><td>5      </td></tr>\n",
       "</tbody>\n",
       "</table>\n"
      ],
      "text/latex": [
       "\\begin{tabular}{r|llllllllllllll}\n",
       "  & crim & zn & indus & chas & nox & rm & age & dis & rad & tax & ptratio & black & lstat & medv\\\\\n",
       "\\hline\n",
       "\t399 & 38.3518 & 0       & 18.1    & 0       & 0.693   & 5.453   & 100     & 1.4896  & 24      & 666     & 20.2    & 396.90  & 30.59   & 5      \\\\\n",
       "\t406 & 67.9208 & 0       & 18.1    & 0       & 0.693   & 5.683   & 100     & 1.4254  & 24      & 666     & 20.2    & 384.97  & 22.98   & 5      \\\\\n",
       "\\end{tabular}\n"
      ],
      "text/markdown": [
       "\n",
       "| <!--/--> | crim | zn | indus | chas | nox | rm | age | dis | rad | tax | ptratio | black | lstat | medv |\n",
       "|---|---|---|---|---|---|---|---|---|---|---|---|---|---|---|\n",
       "| 399 | 38.3518 | 0       | 18.1    | 0       | 0.693   | 5.453   | 100     | 1.4896  | 24      | 666     | 20.2    | 396.90  | 30.59   | 5       |\n",
       "| 406 | 67.9208 | 0       | 18.1    | 0       | 0.693   | 5.683   | 100     | 1.4254  | 24      | 666     | 20.2    | 384.97  | 22.98   | 5       |\n",
       "\n"
      ],
      "text/plain": [
       "    crim    zn indus chas nox   rm    age dis    rad tax ptratio black  lstat\n",
       "399 38.3518 0  18.1  0    0.693 5.453 100 1.4896 24  666 20.2    396.90 30.59\n",
       "406 67.9208 0  18.1  0    0.693 5.683 100 1.4254 24  666 20.2    384.97 22.98\n",
       "    medv\n",
       "399 5   \n",
       "406 5   "
      ]
     },
     "metadata": {},
     "output_type": "display_data"
    }
   ],
   "source": [
    "# there are two towns with lowest medv value of 5\n",
    "(seltown <- Boston[Boston$medv == min(Boston$medv),])"
   ]
  },
  {
   "cell_type": "code",
   "execution_count": 117,
   "metadata": {},
   "outputs": [
    {
     "data": {
      "text/html": [
       "64"
      ],
      "text/latex": [
       "64"
      ],
      "text/markdown": [
       "64"
      ],
      "text/plain": [
       "[1] 64"
      ]
     },
     "metadata": {},
     "output_type": "display_data"
    },
    {
     "data": {
      "text/html": [
       "13"
      ],
      "text/latex": [
       "13"
      ],
      "text/markdown": [
       "13"
      ],
      "text/plain": [
       "[1] 13"
      ]
     },
     "metadata": {},
     "output_type": "display_data"
    }
   ],
   "source": [
    "#  > 7 rooms\n",
    "nrow(Boston[Boston$rm > 7,])\n",
    "#  > 8 rooms\n",
    "nrow(Boston[Boston$rm > 8,])  "
   ]
  },
  {
   "cell_type": "markdown",
   "metadata": {},
   "source": [
    "Exercise10 (p.123, Chap.3)"
   ]
  },
  {
   "cell_type": "code",
   "execution_count": 91,
   "metadata": {},
   "outputs": [
    {
     "data": {
      "text/plain": [
       "\n",
       "Call:\n",
       "lm(formula = Sales ~ Price + Urban + US, data = Carseats)\n",
       "\n",
       "Residuals:\n",
       "    Min      1Q  Median      3Q     Max \n",
       "-6.9206 -1.6220 -0.0564  1.5786  7.0581 \n",
       "\n",
       "Coefficients:\n",
       "             Estimate Std. Error t value Pr(>|t|)    \n",
       "(Intercept) 13.043469   0.651012  20.036  < 2e-16 ***\n",
       "Price       -0.054459   0.005242 -10.389  < 2e-16 ***\n",
       "UrbanYes    -0.021916   0.271650  -0.081    0.936    \n",
       "USYes        1.200573   0.259042   4.635 4.86e-06 ***\n",
       "---\n",
       "Signif. codes:  0 '***' 0.001 '**' 0.01 '*' 0.05 '.' 0.1 ' ' 1\n",
       "\n",
       "Residual standard error: 2.472 on 396 degrees of freedom\n",
       "Multiple R-squared:  0.2393,\tAdjusted R-squared:  0.2335 \n",
       "F-statistic: 41.52 on 3 and 396 DF,  p-value: < 2.2e-16\n"
      ]
     },
     "metadata": {},
     "output_type": "display_data"
    }
   ],
   "source": [
    "require(ISLR)\n",
    "data(Carseats)\n",
    "md<- lm(Sales ~ Price + Urban + US, data=Carseats)\n",
    "summary(md)"
   ]
  },
  {
   "cell_type": "raw",
   "metadata": {},
   "source": [
    "Sales: sales in thousands at each location\n",
    "Price: price charged for car seats at each location\n",
    "Urban: No/Yes by location\n",
    "US: No/Yes by location\n",
    "\n",
    "Coefficients for\n",
    "\n",
    "* Price (-0.054459): Sales drop by 54 for each dollar increase in Price - statistically significant\n",
    "* UrbanYes (-0.021916): Sales are 22 lower for Urban locations - not statistically significant\n",
    "* USYes (1.200573): Sales are 1,201 higher in the US locations - statistically significant"
   ]
  },
  {
   "cell_type": "code",
   "execution_count": 119,
   "metadata": {},
   "outputs": [
    {
     "data": {
      "text/html": [
       "<table>\n",
       "<thead><tr><th></th><th scope=col>5 %</th><th scope=col>95 %</th></tr></thead>\n",
       "<tbody>\n",
       "\t<tr><th scope=row>(Intercept)</th><td>6.27596881</td><td>7.7892183 </td></tr>\n",
       "\t<tr><th scope=row>TV</th><td>0.04309018</td><td>0.0519831 </td></tr>\n",
       "</tbody>\n",
       "</table>\n"
      ],
      "text/latex": [
       "\\begin{tabular}{r|ll}\n",
       "  & 5 \\% & 95 \\%\\\\\n",
       "\\hline\n",
       "\t(Intercept) & 6.27596881 & 7.7892183 \\\\\n",
       "\tTV & 0.04309018 & 0.0519831 \\\\\n",
       "\\end{tabular}\n"
      ],
      "text/markdown": [
       "\n",
       "| <!--/--> | 5 % | 95 % |\n",
       "|---|---|---|\n",
       "| (Intercept) | 6.27596881 | 7.7892183  |\n",
       "| TV | 0.04309018 | 0.0519831  |\n",
       "\n"
      ],
      "text/plain": [
       "            5 %        95 %     \n",
       "(Intercept) 6.27596881 7.7892183\n",
       "TV          0.04309018 0.0519831"
      ]
     },
     "metadata": {},
     "output_type": "display_data"
    }
   ],
   "source": [
    "confint(md,level=.9)"
   ]
  },
  {
   "cell_type": "code",
   "execution_count": 94,
   "metadata": {},
   "outputs": [
    {
     "data": {
      "image/png": "[encoded data removed]",
      "text/plain": [
       "Plot with title \"\""
      ]
     },
     "metadata": {},
     "output_type": "display_data"
    },
    {
     "name": "stderr",
     "output_type": "stream",
     "text": [
      "Loading required package: car\n",
      "Warning message in library(package, lib.loc = lib.loc, character.only = TRUE, logical.return = TRUE, :\n",
      "\"there is no package called 'car'\""
     ]
    },
    {
     "ename": "ERROR",
     "evalue": "Error in qqPlot(md, main = \"QQ Plot\"): could not find function \"qqPlot\"\n",
     "output_type": "error",
     "traceback": [
      "Error in qqPlot(md, main = \"QQ Plot\"): could not find function \"qqPlot\"\nTraceback:\n"
     ]
    },
    {
     "data": {
      "image/png": "[encoded data removed]",
      "text/plain": [
       "plot without title"
      ]
     },
     "metadata": {},
     "output_type": "display_data"
    }
   ],
   "source": [
    "par(mfrow=c(2,2))\n",
    "# residuals v fitted plot doesn't show strong outliers\n",
    "plot(md)  \n",
    "par(mfrow=c(1,1))\n",
    "# studentized residuals within -3 to 3 range\n",
    "plot(predict(md), rstudent(md))\n",
    "# load car packages\n",
    "require(car)\n",
    "# no evidence of outliers\n",
    "qqPlot(md, main=\"QQ Plot\")  # studentized resid\n",
    "leveragePlots(md)  # leverage plots\n",
    "plot(hatvalues(md))\n",
    "# average obs leverage (p+1)/n = (2+1)/400 = 0.0075"
   ]
  },
  {
   "cell_type": "markdown",
   "metadata": {},
   "source": [
    "Exercise15(p.126, Chap.3）"
   ]
  },
  {
   "cell_type": "code",
   "execution_count": 82,
   "metadata": {},
   "outputs": [
    {
     "name": "stdout",
     "output_type": "stream",
     "text": [
      "[1] \"zn  -0.073935\"\n",
      "[1] \"indus   0.509776\"\n",
      "[1] \"chas  -1.892777\"\n",
      "[1] \"nox  31.248531\"\n",
      "[1] \"rm  -2.684051\"\n",
      "[1] \"age   0.107786\"\n",
      "[1] \"dis  -1.550902\"\n",
      "[1] \"rad   0.617911\"\n",
      "[1] \"tax   0.029742\"\n",
      "[1] \"ptratio   1.151983\"\n",
      "[1] \"black  -0.036280\"\n",
      "[1] \"lstat   0.548805\"\n",
      "[1] \"medv  -0.363160\"\n"
     ]
    }
   ],
   "source": [
    "if( ! require(\"ISLR\") ){ install.packages(\"ISLR\") }\n",
    "\n",
    "library(MASS)\n",
    "\n",
    "set.seed(1)\n",
    "\n",
    "# Loop over each predictor and look for a statistically signficant simple linear regression: \n",
    "crim = Boston[,1]  \n",
    "model_f_value = c()\n",
    "model_p_value = c()\n",
    "univariate_beta_value = c()\n",
    "possible_predictors = colnames(Boston)\n",
    "for( pi in 1:length(possible_predictors) ){\n",
    "  if( possible_predictors[pi] == 'crim' ){ next }\n",
    "  x = Boston[,pi] \n",
    "  m = lm( crim ~ x, data=Boston )\n",
    "  s = summary(m)\n",
    "  model_f_value = c(model_f_value, s$fstatistic[1] )\n",
    "  model_p_value = c(model_p_value, anova(m)$'Pr(>F)'[1] )\n",
    "  univariate_beta_value = c(univariate_beta_value, coefficients(m)['x'])\n",
    "  print( sprintf(\"%s %10.6f\", possible_predictors[pi], coefficients(m)['x']) )\n",
    "}\n"
   ]
  },
  {
   "cell_type": "code",
   "execution_count": 83,
   "metadata": {},
   "outputs": [
    {
     "data": {
      "text/html": [
       "<table>\n",
       "<thead><tr><th></th><th scope=col>feature</th><th scope=col>f_values</th><th scope=col>p_values</th></tr></thead>\n",
       "<tbody>\n",
       "\t<tr><th scope=row>3</th><td>chas        </td><td>  1.579364  </td><td>2.094345e-01</td></tr>\n",
       "\t<tr><th scope=row>1</th><td>zn          </td><td> 21.102782  </td><td>5.506472e-06</td></tr>\n",
       "\t<tr><th scope=row>5</th><td>rm          </td><td> 25.450204  </td><td>6.346703e-07</td></tr>\n",
       "\t<tr><th scope=row>10</th><td>ptratio     </td><td> 46.259453  </td><td>2.942922e-11</td></tr>\n",
       "\t<tr><th scope=row>6</th><td>age         </td><td> 71.619402  </td><td>2.854869e-16</td></tr>\n",
       "\t<tr><th scope=row>7</th><td>dis         </td><td> 84.887810  </td><td>8.519949e-19</td></tr>\n",
       "\t<tr><th scope=row>11</th><td>black       </td><td> 87.739763  </td><td>2.487274e-19</td></tr>\n",
       "\t<tr><th scope=row>13</th><td>medv        </td><td> 89.486115  </td><td>1.173987e-19</td></tr>\n",
       "\t<tr><th scope=row>2</th><td>indus       </td><td> 99.817037  </td><td>1.450349e-21</td></tr>\n",
       "\t<tr><th scope=row>4</th><td>nox         </td><td>108.555329  </td><td>3.751739e-23</td></tr>\n",
       "\t<tr><th scope=row>12</th><td>lstat       </td><td>132.035125  </td><td>2.654277e-27</td></tr>\n",
       "\t<tr><th scope=row>9</th><td>tax         </td><td>259.190294  </td><td>2.357127e-47</td></tr>\n",
       "\t<tr><th scope=row>8</th><td>rad         </td><td>323.935172  </td><td>2.693844e-56</td></tr>\n",
       "</tbody>\n",
       "</table>\n"
      ],
      "text/latex": [
       "\\begin{tabular}{r|lll}\n",
       "  & feature & f\\_values & p\\_values\\\\\n",
       "\\hline\n",
       "\t3 & chas         &   1.579364   & 2.094345e-01\\\\\n",
       "\t1 & zn           &  21.102782   & 5.506472e-06\\\\\n",
       "\t5 & rm           &  25.450204   & 6.346703e-07\\\\\n",
       "\t10 & ptratio      &  46.259453   & 2.942922e-11\\\\\n",
       "\t6 & age          &  71.619402   & 2.854869e-16\\\\\n",
       "\t7 & dis          &  84.887810   & 8.519949e-19\\\\\n",
       "\t11 & black        &  87.739763   & 2.487274e-19\\\\\n",
       "\t13 & medv         &  89.486115   & 1.173987e-19\\\\\n",
       "\t2 & indus        &  99.817037   & 1.450349e-21\\\\\n",
       "\t4 & nox          & 108.555329   & 3.751739e-23\\\\\n",
       "\t12 & lstat        & 132.035125   & 2.654277e-27\\\\\n",
       "\t9 & tax          & 259.190294   & 2.357127e-47\\\\\n",
       "\t8 & rad          & 323.935172   & 2.693844e-56\\\\\n",
       "\\end{tabular}\n"
      ],
      "text/markdown": [
       "\n",
       "| <!--/--> | feature | f_values | p_values |\n",
       "|---|---|---|---|\n",
       "| 3 | chas         |   1.579364   | 2.094345e-01 |\n",
       "| 1 | zn           |  21.102782   | 5.506472e-06 |\n",
       "| 5 | rm           |  25.450204   | 6.346703e-07 |\n",
       "| 10 | ptratio      |  46.259453   | 2.942922e-11 |\n",
       "| 6 | age          |  71.619402   | 2.854869e-16 |\n",
       "| 7 | dis          |  84.887810   | 8.519949e-19 |\n",
       "| 11 | black        |  87.739763   | 2.487274e-19 |\n",
       "| 13 | medv         |  89.486115   | 1.173987e-19 |\n",
       "| 2 | indus        |  99.817037   | 1.450349e-21 |\n",
       "| 4 | nox          | 108.555329   | 3.751739e-23 |\n",
       "| 12 | lstat        | 132.035125   | 2.654277e-27 |\n",
       "| 9 | tax          | 259.190294   | 2.357127e-47 |\n",
       "| 8 | rad          | 323.935172   | 2.693844e-56 |\n",
       "\n"
      ],
      "text/plain": [
       "   feature f_values   p_values    \n",
       "3  chas      1.579364 2.094345e-01\n",
       "1  zn       21.102782 5.506472e-06\n",
       "5  rm       25.450204 6.346703e-07\n",
       "10 ptratio  46.259453 2.942922e-11\n",
       "6  age      71.619402 2.854869e-16\n",
       "7  dis      84.887810 8.519949e-19\n",
       "11 black    87.739763 2.487274e-19\n",
       "13 medv     89.486115 1.173987e-19\n",
       "2  indus    99.817037 1.450349e-21\n",
       "4  nox     108.555329 3.751739e-23\n",
       "12 lstat   132.035125 2.654277e-27\n",
       "9  tax     259.190294 2.357127e-47\n",
       "8  rad     323.935172 2.693844e-56"
      ]
     },
     "metadata": {},
     "output_type": "display_data"
    },
    {
     "data": {
      "text/plain": [
       "\n",
       "Call:\n",
       "lm(formula = crim ~ ., data = Boston)\n",
       "\n",
       "Residuals:\n",
       "   Min     1Q Median     3Q    Max \n",
       "-9.924 -2.120 -0.353  1.019 75.051 \n",
       "\n",
       "Coefficients:\n",
       "              Estimate Std. Error t value Pr(>|t|)    \n",
       "(Intercept)  17.033228   7.234903   2.354 0.018949 *  \n",
       "zn            0.044855   0.018734   2.394 0.017025 *  \n",
       "indus        -0.063855   0.083407  -0.766 0.444294    \n",
       "chas         -0.749134   1.180147  -0.635 0.525867    \n",
       "nox         -10.313535   5.275536  -1.955 0.051152 .  \n",
       "rm            0.430131   0.612830   0.702 0.483089    \n",
       "age           0.001452   0.017925   0.081 0.935488    \n",
       "dis          -0.987176   0.281817  -3.503 0.000502 ***\n",
       "rad           0.588209   0.088049   6.680 6.46e-11 ***\n",
       "tax          -0.003780   0.005156  -0.733 0.463793    \n",
       "ptratio      -0.271081   0.186450  -1.454 0.146611    \n",
       "black        -0.007538   0.003673  -2.052 0.040702 *  \n",
       "lstat         0.126211   0.075725   1.667 0.096208 .  \n",
       "medv         -0.198887   0.060516  -3.287 0.001087 ** \n",
       "---\n",
       "Signif. codes:  0 '***' 0.001 '**' 0.01 '*' 0.05 '.' 0.1 ' ' 1\n",
       "\n",
       "Residual standard error: 6.439 on 492 degrees of freedom\n",
       "Multiple R-squared:  0.454,\tAdjusted R-squared:  0.4396 \n",
       "F-statistic: 31.47 on 13 and 492 DF,  p-value: < 2.2e-16\n"
      ]
     },
     "metadata": {},
     "output_type": "display_data"
    }
   ],
   "source": [
    "# Lets look at each models F-statisics:\n",
    "# \n",
    "DF = data.frame( feature=colnames(Boston)[-1], f_values=model_f_value, p_values=model_p_value )\n",
    "DF[order(model_f_value),] \n",
    "#\n",
    "# Consider a model to significant if the p-value < 0.01.  Every model is signficant except one \n",
    "# this is chas = Charles River dummy variable (= 1 if tract bounds river; 0 otherwise).\n",
    "\n",
    "# Fit all of the predictors:\n",
    "gm = lm( crim ~ ., data=Boston )\n",
    "summary( gm )\n",
    "\n",
    "multivariate_beta_values = coefficients(gm)\n",
    "multivariate_beta_values = multivariate_beta_values[ possible_predictors[-1] ] # order the coefficients in the same order as the univariate coefficients \n"
   ]
  },
  {
   "cell_type": "code",
   "execution_count": 121,
   "metadata": {},
   "outputs": [
    {
     "data": {
      "image/png": "[encoded data removed]",
      "text/plain": [
       "plot without title"
      ]
     },
     "metadata": {},
     "output_type": "display_data"
    }
   ],
   "source": [
    "# Lets look at how the non-linear model compares to the linear model:\n",
    "# \n",
    "m_1 = lm( crim ~ medv, data=Boston )\n",
    "m_3 = lm( crim ~ poly(medv,3), data=Boston )\n",
    "\n",
    "#postscript(\"../../WriteUp/Graphics/Chapter3/prob_15_crim_vs_medv.eps\", onefile=FALSE, horizontal=FALSE)\n",
    "plot( crim ~ medv, data=Boston )\n",
    "lines( Boston$medv, predict( m_1 ), col='red', type='p' )\n",
    "lines( Boston$medv, predict( m_3 ), col='green', type='p' )\n",
    "#dev.off()"
   ]
  },
  {
   "cell_type": "code",
   "execution_count": 97,
   "metadata": {},
   "outputs": [
    {
     "data": {
      "text/html": [
       "<table>\n",
       "<thead><tr><th scope=col>crim</th><th scope=col>zn</th><th scope=col>indus</th><th scope=col>chas</th><th scope=col>nox</th><th scope=col>rm</th><th scope=col>age</th><th scope=col>dis</th><th scope=col>rad</th><th scope=col>tax</th><th scope=col>ptratio</th><th scope=col>black</th><th scope=col>lstat</th><th scope=col>medv</th></tr></thead>\n",
       "<tbody>\n",
       "\t<tr><td>0.00632</td><td>18.0   </td><td>2.31   </td><td>0      </td><td>0.538  </td><td>6.575  </td><td> 65.2  </td><td>4.0900 </td><td>1      </td><td>296    </td><td>15.3   </td><td>396.90 </td><td> 4.98  </td><td>24.0   </td></tr>\n",
       "\t<tr><td>0.02731</td><td> 0.0   </td><td>7.07   </td><td>0      </td><td>0.469  </td><td>6.421  </td><td> 78.9  </td><td>4.9671 </td><td>2      </td><td>242    </td><td>17.8   </td><td>396.90 </td><td> 9.14  </td><td>21.6   </td></tr>\n",
       "\t<tr><td>0.02729</td><td> 0.0   </td><td>7.07   </td><td>0      </td><td>0.469  </td><td>7.185  </td><td> 61.1  </td><td>4.9671 </td><td>2      </td><td>242    </td><td>17.8   </td><td>392.83 </td><td> 4.03  </td><td>34.7   </td></tr>\n",
       "\t<tr><td>0.03237</td><td> 0.0   </td><td>2.18   </td><td>0      </td><td>0.458  </td><td>6.998  </td><td> 45.8  </td><td>6.0622 </td><td>3      </td><td>222    </td><td>18.7   </td><td>394.63 </td><td> 2.94  </td><td>33.4   </td></tr>\n",
       "\t<tr><td>0.06905</td><td> 0.0   </td><td>2.18   </td><td>0      </td><td>0.458  </td><td>7.147  </td><td> 54.2  </td><td>6.0622 </td><td>3      </td><td>222    </td><td>18.7   </td><td>396.90 </td><td> 5.33  </td><td>36.2   </td></tr>\n",
       "\t<tr><td>0.02985</td><td> 0.0   </td><td>2.18   </td><td>0      </td><td>0.458  </td><td>6.430  </td><td> 58.7  </td><td>6.0622 </td><td>3      </td><td>222    </td><td>18.7   </td><td>394.12 </td><td> 5.21  </td><td>28.7   </td></tr>\n",
       "\t<tr><td>0.08829</td><td>12.5   </td><td>7.87   </td><td>0      </td><td>0.524  </td><td>6.012  </td><td> 66.6  </td><td>5.5605 </td><td>5      </td><td>311    </td><td>15.2   </td><td>395.60 </td><td>12.43  </td><td>22.9   </td></tr>\n",
       "\t<tr><td>0.14455</td><td>12.5   </td><td>7.87   </td><td>0      </td><td>0.524  </td><td>6.172  </td><td> 96.1  </td><td>5.9505 </td><td>5      </td><td>311    </td><td>15.2   </td><td>396.90 </td><td>19.15  </td><td>27.1   </td></tr>\n",
       "\t<tr><td>0.21124</td><td>12.5   </td><td>7.87   </td><td>0      </td><td>0.524  </td><td>5.631  </td><td>100.0  </td><td>6.0821 </td><td>5      </td><td>311    </td><td>15.2   </td><td>386.63 </td><td>29.93  </td><td>16.5   </td></tr>\n",
       "\t<tr><td>0.17004</td><td>12.5   </td><td>7.87   </td><td>0      </td><td>0.524  </td><td>6.004  </td><td> 85.9  </td><td>6.5921 </td><td>5      </td><td>311    </td><td>15.2   </td><td>386.71 </td><td>17.10  </td><td>18.9   </td></tr>\n",
       "\t<tr><td>0.22489</td><td>12.5   </td><td>7.87   </td><td>0      </td><td>0.524  </td><td>6.377  </td><td> 94.3  </td><td>6.3467 </td><td>5      </td><td>311    </td><td>15.2   </td><td>392.52 </td><td>20.45  </td><td>15.0   </td></tr>\n",
       "\t<tr><td>0.11747</td><td>12.5   </td><td>7.87   </td><td>0      </td><td>0.524  </td><td>6.009  </td><td> 82.9  </td><td>6.2267 </td><td>5      </td><td>311    </td><td>15.2   </td><td>396.90 </td><td>13.27  </td><td>18.9   </td></tr>\n",
       "\t<tr><td>0.09378</td><td>12.5   </td><td>7.87   </td><td>0      </td><td>0.524  </td><td>5.889  </td><td> 39.0  </td><td>5.4509 </td><td>5      </td><td>311    </td><td>15.2   </td><td>390.50 </td><td>15.71  </td><td>21.7   </td></tr>\n",
       "\t<tr><td>0.62976</td><td> 0.0   </td><td>8.14   </td><td>0      </td><td>0.538  </td><td>5.949  </td><td> 61.8  </td><td>4.7075 </td><td>4      </td><td>307    </td><td>21.0   </td><td>396.90 </td><td> 8.26  </td><td>20.4   </td></tr>\n",
       "\t<tr><td>0.63796</td><td> 0.0   </td><td>8.14   </td><td>0      </td><td>0.538  </td><td>6.096  </td><td> 84.5  </td><td>4.4619 </td><td>4      </td><td>307    </td><td>21.0   </td><td>380.02 </td><td>10.26  </td><td>18.2   </td></tr>\n",
       "\t<tr><td>0.62739</td><td> 0.0   </td><td>8.14   </td><td>0      </td><td>0.538  </td><td>5.834  </td><td> 56.5  </td><td>4.4986 </td><td>4      </td><td>307    </td><td>21.0   </td><td>395.62 </td><td> 8.47  </td><td>19.9   </td></tr>\n",
       "\t<tr><td>1.05393</td><td> 0.0   </td><td>8.14   </td><td>0      </td><td>0.538  </td><td>5.935  </td><td> 29.3  </td><td>4.4986 </td><td>4      </td><td>307    </td><td>21.0   </td><td>386.85 </td><td> 6.58  </td><td>23.1   </td></tr>\n",
       "\t<tr><td>0.78420</td><td> 0.0   </td><td>8.14   </td><td>0      </td><td>0.538  </td><td>5.990  </td><td> 81.7  </td><td>4.2579 </td><td>4      </td><td>307    </td><td>21.0   </td><td>386.75 </td><td>14.67  </td><td>17.5   </td></tr>\n",
       "\t<tr><td>0.80271</td><td> 0.0   </td><td>8.14   </td><td>0      </td><td>0.538  </td><td>5.456  </td><td> 36.6  </td><td>3.7965 </td><td>4      </td><td>307    </td><td>21.0   </td><td>288.99 </td><td>11.69  </td><td>20.2   </td></tr>\n",
       "\t<tr><td>0.72580</td><td> 0.0   </td><td>8.14   </td><td>0      </td><td>0.538  </td><td>5.727  </td><td> 69.5  </td><td>3.7965 </td><td>4      </td><td>307    </td><td>21.0   </td><td>390.95 </td><td>11.28  </td><td>18.2   </td></tr>\n",
       "\t<tr><td>1.25179</td><td> 0.0   </td><td>8.14   </td><td>0      </td><td>0.538  </td><td>5.570  </td><td> 98.1  </td><td>3.7979 </td><td>4      </td><td>307    </td><td>21.0   </td><td>376.57 </td><td>21.02  </td><td>13.6   </td></tr>\n",
       "\t<tr><td>0.85204</td><td> 0.0   </td><td>8.14   </td><td>0      </td><td>0.538  </td><td>5.965  </td><td> 89.2  </td><td>4.0123 </td><td>4      </td><td>307    </td><td>21.0   </td><td>392.53 </td><td>13.83  </td><td>19.6   </td></tr>\n",
       "\t<tr><td>1.23247</td><td> 0.0   </td><td>8.14   </td><td>0      </td><td>0.538  </td><td>6.142  </td><td> 91.7  </td><td>3.9769 </td><td>4      </td><td>307    </td><td>21.0   </td><td>396.90 </td><td>18.72  </td><td>15.2   </td></tr>\n",
       "\t<tr><td>0.98843</td><td> 0.0   </td><td>8.14   </td><td>0      </td><td>0.538  </td><td>5.813  </td><td>100.0  </td><td>4.0952 </td><td>4      </td><td>307    </td><td>21.0   </td><td>394.54 </td><td>19.88  </td><td>14.5   </td></tr>\n",
       "\t<tr><td>0.75026</td><td> 0.0   </td><td>8.14   </td><td>0      </td><td>0.538  </td><td>5.924  </td><td> 94.1  </td><td>4.3996 </td><td>4      </td><td>307    </td><td>21.0   </td><td>394.33 </td><td>16.30  </td><td>15.6   </td></tr>\n",
       "\t<tr><td>0.84054</td><td> 0.0   </td><td>8.14   </td><td>0      </td><td>0.538  </td><td>5.599  </td><td> 85.7  </td><td>4.4546 </td><td>4      </td><td>307    </td><td>21.0   </td><td>303.42 </td><td>16.51  </td><td>13.9   </td></tr>\n",
       "\t<tr><td>0.67191</td><td> 0.0   </td><td>8.14   </td><td>0      </td><td>0.538  </td><td>5.813  </td><td> 90.3  </td><td>4.6820 </td><td>4      </td><td>307    </td><td>21.0   </td><td>376.88 </td><td>14.81  </td><td>16.6   </td></tr>\n",
       "\t<tr><td>0.95577</td><td> 0.0   </td><td>8.14   </td><td>0      </td><td>0.538  </td><td>6.047  </td><td> 88.8  </td><td>4.4534 </td><td>4      </td><td>307    </td><td>21.0   </td><td>306.38 </td><td>17.28  </td><td>14.8   </td></tr>\n",
       "\t<tr><td>0.77299</td><td> 0.0   </td><td>8.14   </td><td>0      </td><td>0.538  </td><td>6.495  </td><td> 94.4  </td><td>4.4547 </td><td>4      </td><td>307    </td><td>21.0   </td><td>387.94 </td><td>12.80  </td><td>18.4   </td></tr>\n",
       "\t<tr><td>1.00245</td><td> 0.0   </td><td>8.14   </td><td>0      </td><td>0.538  </td><td>6.674  </td><td> 87.3  </td><td>4.2390 </td><td>4      </td><td>307    </td><td>21.0   </td><td>380.23 </td><td>11.98  </td><td>21.0   </td></tr>\n",
       "\t<tr><td>...</td><td>...</td><td>...</td><td>...</td><td>...</td><td>...</td><td>...</td><td>...</td><td>...</td><td>...</td><td>...</td><td>...</td><td>...</td><td>...</td></tr>\n",
       "\t<tr><td> 4.87141</td><td>0       </td><td>18.10   </td><td>0       </td><td>0.614   </td><td>6.484   </td><td>93.6    </td><td>2.3053  </td><td>24      </td><td>666     </td><td>20.2    </td><td>396.21  </td><td>18.68   </td><td>16.7    </td></tr>\n",
       "\t<tr><td>15.02340</td><td>0       </td><td>18.10   </td><td>0       </td><td>0.614   </td><td>5.304   </td><td>97.3    </td><td>2.1007  </td><td>24      </td><td>666     </td><td>20.2    </td><td>349.48  </td><td>24.91   </td><td>12.0    </td></tr>\n",
       "\t<tr><td>10.23300</td><td>0       </td><td>18.10   </td><td>0       </td><td>0.614   </td><td>6.185   </td><td>96.7    </td><td>2.1705  </td><td>24      </td><td>666     </td><td>20.2    </td><td>379.70  </td><td>18.03   </td><td>14.6    </td></tr>\n",
       "\t<tr><td>14.33370</td><td>0       </td><td>18.10   </td><td>0       </td><td>0.614   </td><td>6.229   </td><td>88.0    </td><td>1.9512  </td><td>24      </td><td>666     </td><td>20.2    </td><td>383.32  </td><td>13.11   </td><td>21.4    </td></tr>\n",
       "\t<tr><td> 5.82401</td><td>0       </td><td>18.10   </td><td>0       </td><td>0.532   </td><td>6.242   </td><td>64.7    </td><td>3.4242  </td><td>24      </td><td>666     </td><td>20.2    </td><td>396.90  </td><td>10.74   </td><td>23.0    </td></tr>\n",
       "\t<tr><td> 5.70818</td><td>0       </td><td>18.10   </td><td>0       </td><td>0.532   </td><td>6.750   </td><td>74.9    </td><td>3.3317  </td><td>24      </td><td>666     </td><td>20.2    </td><td>393.07  </td><td> 7.74   </td><td>23.7    </td></tr>\n",
       "\t<tr><td> 5.73116</td><td>0       </td><td>18.10   </td><td>0       </td><td>0.532   </td><td>7.061   </td><td>77.0    </td><td>3.4106  </td><td>24      </td><td>666     </td><td>20.2    </td><td>395.28  </td><td> 7.01   </td><td>25.0    </td></tr>\n",
       "\t<tr><td> 2.81838</td><td>0       </td><td>18.10   </td><td>0       </td><td>0.532   </td><td>5.762   </td><td>40.3    </td><td>4.0983  </td><td>24      </td><td>666     </td><td>20.2    </td><td>392.92  </td><td>10.42   </td><td>21.8    </td></tr>\n",
       "\t<tr><td> 2.37857</td><td>0       </td><td>18.10   </td><td>0       </td><td>0.583   </td><td>5.871   </td><td>41.9    </td><td>3.7240  </td><td>24      </td><td>666     </td><td>20.2    </td><td>370.73  </td><td>13.34   </td><td>20.6    </td></tr>\n",
       "\t<tr><td> 3.67367</td><td>0       </td><td>18.10   </td><td>0       </td><td>0.583   </td><td>6.312   </td><td>51.9    </td><td>3.9917  </td><td>24      </td><td>666     </td><td>20.2    </td><td>388.62  </td><td>10.58   </td><td>21.2    </td></tr>\n",
       "\t<tr><td> 5.69175</td><td>0       </td><td>18.10   </td><td>0       </td><td>0.583   </td><td>6.114   </td><td>79.8    </td><td>3.5459  </td><td>24      </td><td>666     </td><td>20.2    </td><td>392.68  </td><td>14.98   </td><td>19.1    </td></tr>\n",
       "\t<tr><td> 4.83567</td><td>0       </td><td>18.10   </td><td>0       </td><td>0.583   </td><td>5.905   </td><td>53.2    </td><td>3.1523  </td><td>24      </td><td>666     </td><td>20.2    </td><td>388.22  </td><td>11.45   </td><td>20.6    </td></tr>\n",
       "\t<tr><td> 0.15086</td><td>0       </td><td>27.74   </td><td>0       </td><td>0.609   </td><td>5.454   </td><td>92.7    </td><td>1.8209  </td><td> 4      </td><td>711     </td><td>20.1    </td><td>395.09  </td><td>18.06   </td><td>15.2    </td></tr>\n",
       "\t<tr><td> 0.18337</td><td>0       </td><td>27.74   </td><td>0       </td><td>0.609   </td><td>5.414   </td><td>98.3    </td><td>1.7554  </td><td> 4      </td><td>711     </td><td>20.1    </td><td>344.05  </td><td>23.97   </td><td> 7.0    </td></tr>\n",
       "\t<tr><td> 0.20746</td><td>0       </td><td>27.74   </td><td>0       </td><td>0.609   </td><td>5.093   </td><td>98.0    </td><td>1.8226  </td><td> 4      </td><td>711     </td><td>20.1    </td><td>318.43  </td><td>29.68   </td><td> 8.1    </td></tr>\n",
       "\t<tr><td> 0.10574</td><td>0       </td><td>27.74   </td><td>0       </td><td>0.609   </td><td>5.983   </td><td>98.8    </td><td>1.8681  </td><td> 4      </td><td>711     </td><td>20.1    </td><td>390.11  </td><td>18.07   </td><td>13.6    </td></tr>\n",
       "\t<tr><td> 0.11132</td><td>0       </td><td>27.74   </td><td>0       </td><td>0.609   </td><td>5.983   </td><td>83.5    </td><td>2.1099  </td><td> 4      </td><td>711     </td><td>20.1    </td><td>396.90  </td><td>13.35   </td><td>20.1    </td></tr>\n",
       "\t<tr><td> 0.17331</td><td>0       </td><td> 9.69   </td><td>0       </td><td>0.585   </td><td>5.707   </td><td>54.0    </td><td>2.3817  </td><td> 6      </td><td>391     </td><td>19.2    </td><td>396.90  </td><td>12.01   </td><td>21.8    </td></tr>\n",
       "\t<tr><td> 0.27957</td><td>0       </td><td> 9.69   </td><td>0       </td><td>0.585   </td><td>5.926   </td><td>42.6    </td><td>2.3817  </td><td> 6      </td><td>391     </td><td>19.2    </td><td>396.90  </td><td>13.59   </td><td>24.5    </td></tr>\n",
       "\t<tr><td> 0.17899</td><td>0       </td><td> 9.69   </td><td>0       </td><td>0.585   </td><td>5.670   </td><td>28.8    </td><td>2.7986  </td><td> 6      </td><td>391     </td><td>19.2    </td><td>393.29  </td><td>17.60   </td><td>23.1    </td></tr>\n",
       "\t<tr><td> 0.28960</td><td>0       </td><td> 9.69   </td><td>0       </td><td>0.585   </td><td>5.390   </td><td>72.9    </td><td>2.7986  </td><td> 6      </td><td>391     </td><td>19.2    </td><td>396.90  </td><td>21.14   </td><td>19.7    </td></tr>\n",
       "\t<tr><td> 0.26838</td><td>0       </td><td> 9.69   </td><td>0       </td><td>0.585   </td><td>5.794   </td><td>70.6    </td><td>2.8927  </td><td> 6      </td><td>391     </td><td>19.2    </td><td>396.90  </td><td>14.10   </td><td>18.3    </td></tr>\n",
       "\t<tr><td> 0.23912</td><td>0       </td><td> 9.69   </td><td>0       </td><td>0.585   </td><td>6.019   </td><td>65.3    </td><td>2.4091  </td><td> 6      </td><td>391     </td><td>19.2    </td><td>396.90  </td><td>12.92   </td><td>21.2    </td></tr>\n",
       "\t<tr><td> 0.17783</td><td>0       </td><td> 9.69   </td><td>0       </td><td>0.585   </td><td>5.569   </td><td>73.5    </td><td>2.3999  </td><td> 6      </td><td>391     </td><td>19.2    </td><td>395.77  </td><td>15.10   </td><td>17.5    </td></tr>\n",
       "\t<tr><td> 0.22438</td><td>0       </td><td> 9.69   </td><td>0       </td><td>0.585   </td><td>6.027   </td><td>79.7    </td><td>2.4982  </td><td> 6      </td><td>391     </td><td>19.2    </td><td>396.90  </td><td>14.33   </td><td>16.8    </td></tr>\n",
       "\t<tr><td> 0.06263</td><td>0       </td><td>11.93   </td><td>0       </td><td>0.573   </td><td>6.593   </td><td>69.1    </td><td>2.4786  </td><td> 1      </td><td>273     </td><td>21.0    </td><td>391.99  </td><td> 9.67   </td><td>22.4    </td></tr>\n",
       "\t<tr><td> 0.04527</td><td>0       </td><td>11.93   </td><td>0       </td><td>0.573   </td><td>6.120   </td><td>76.7    </td><td>2.2875  </td><td> 1      </td><td>273     </td><td>21.0    </td><td>396.90  </td><td> 9.08   </td><td>20.6    </td></tr>\n",
       "\t<tr><td> 0.06076</td><td>0       </td><td>11.93   </td><td>0       </td><td>0.573   </td><td>6.976   </td><td>91.0    </td><td>2.1675  </td><td> 1      </td><td>273     </td><td>21.0    </td><td>396.90  </td><td> 5.64   </td><td>23.9    </td></tr>\n",
       "\t<tr><td> 0.10959</td><td>0       </td><td>11.93   </td><td>0       </td><td>0.573   </td><td>6.794   </td><td>89.3    </td><td>2.3889  </td><td> 1      </td><td>273     </td><td>21.0    </td><td>393.45  </td><td> 6.48   </td><td>22.0    </td></tr>\n",
       "\t<tr><td> 0.04741</td><td>0       </td><td>11.93   </td><td>0       </td><td>0.573   </td><td>6.030   </td><td>80.8    </td><td>2.5050  </td><td> 1      </td><td>273     </td><td>21.0    </td><td>396.90  </td><td> 7.88   </td><td>11.9    </td></tr>\n",
       "</tbody>\n",
       "</table>\n"
      ],
      "text/latex": [
       "\\begin{tabular}{r|llllllllllllll}\n",
       " crim & zn & indus & chas & nox & rm & age & dis & rad & tax & ptratio & black & lstat & medv\\\\\n",
       "\\hline\n",
       "\t 0.00632 & 18.0    & 2.31    & 0       & 0.538   & 6.575   &  65.2   & 4.0900  & 1       & 296     & 15.3    & 396.90  &  4.98   & 24.0   \\\\\n",
       "\t 0.02731 &  0.0    & 7.07    & 0       & 0.469   & 6.421   &  78.9   & 4.9671  & 2       & 242     & 17.8    & 396.90  &  9.14   & 21.6   \\\\\n",
       "\t 0.02729 &  0.0    & 7.07    & 0       & 0.469   & 7.185   &  61.1   & 4.9671  & 2       & 242     & 17.8    & 392.83  &  4.03   & 34.7   \\\\\n",
       "\t 0.03237 &  0.0    & 2.18    & 0       & 0.458   & 6.998   &  45.8   & 6.0622  & 3       & 222     & 18.7    & 394.63  &  2.94   & 33.4   \\\\\n",
       "\t 0.06905 &  0.0    & 2.18    & 0       & 0.458   & 7.147   &  54.2   & 6.0622  & 3       & 222     & 18.7    & 396.90  &  5.33   & 36.2   \\\\\n",
       "\t 0.02985 &  0.0    & 2.18    & 0       & 0.458   & 6.430   &  58.7   & 6.0622  & 3       & 222     & 18.7    & 394.12  &  5.21   & 28.7   \\\\\n",
       "\t 0.08829 & 12.5    & 7.87    & 0       & 0.524   & 6.012   &  66.6   & 5.5605  & 5       & 311     & 15.2    & 395.60  & 12.43   & 22.9   \\\\\n",
       "\t 0.14455 & 12.5    & 7.87    & 0       & 0.524   & 6.172   &  96.1   & 5.9505  & 5       & 311     & 15.2    & 396.90  & 19.15   & 27.1   \\\\\n",
       "\t 0.21124 & 12.5    & 7.87    & 0       & 0.524   & 5.631   & 100.0   & 6.0821  & 5       & 311     & 15.2    & 386.63  & 29.93   & 16.5   \\\\\n",
       "\t 0.17004 & 12.5    & 7.87    & 0       & 0.524   & 6.004   &  85.9   & 6.5921  & 5       & 311     & 15.2    & 386.71  & 17.10   & 18.9   \\\\\n",
       "\t 0.22489 & 12.5    & 7.87    & 0       & 0.524   & 6.377   &  94.3   & 6.3467  & 5       & 311     & 15.2    & 392.52  & 20.45   & 15.0   \\\\\n",
       "\t 0.11747 & 12.5    & 7.87    & 0       & 0.524   & 6.009   &  82.9   & 6.2267  & 5       & 311     & 15.2    & 396.90  & 13.27   & 18.9   \\\\\n",
       "\t 0.09378 & 12.5    & 7.87    & 0       & 0.524   & 5.889   &  39.0   & 5.4509  & 5       & 311     & 15.2    & 390.50  & 15.71   & 21.7   \\\\\n",
       "\t 0.62976 &  0.0    & 8.14    & 0       & 0.538   & 5.949   &  61.8   & 4.7075  & 4       & 307     & 21.0    & 396.90  &  8.26   & 20.4   \\\\\n",
       "\t 0.63796 &  0.0    & 8.14    & 0       & 0.538   & 6.096   &  84.5   & 4.4619  & 4       & 307     & 21.0    & 380.02  & 10.26   & 18.2   \\\\\n",
       "\t 0.62739 &  0.0    & 8.14    & 0       & 0.538   & 5.834   &  56.5   & 4.4986  & 4       & 307     & 21.0    & 395.62  &  8.47   & 19.9   \\\\\n",
       "\t 1.05393 &  0.0    & 8.14    & 0       & 0.538   & 5.935   &  29.3   & 4.4986  & 4       & 307     & 21.0    & 386.85  &  6.58   & 23.1   \\\\\n",
       "\t 0.78420 &  0.0    & 8.14    & 0       & 0.538   & 5.990   &  81.7   & 4.2579  & 4       & 307     & 21.0    & 386.75  & 14.67   & 17.5   \\\\\n",
       "\t 0.80271 &  0.0    & 8.14    & 0       & 0.538   & 5.456   &  36.6   & 3.7965  & 4       & 307     & 21.0    & 288.99  & 11.69   & 20.2   \\\\\n",
       "\t 0.72580 &  0.0    & 8.14    & 0       & 0.538   & 5.727   &  69.5   & 3.7965  & 4       & 307     & 21.0    & 390.95  & 11.28   & 18.2   \\\\\n",
       "\t 1.25179 &  0.0    & 8.14    & 0       & 0.538   & 5.570   &  98.1   & 3.7979  & 4       & 307     & 21.0    & 376.57  & 21.02   & 13.6   \\\\\n",
       "\t 0.85204 &  0.0    & 8.14    & 0       & 0.538   & 5.965   &  89.2   & 4.0123  & 4       & 307     & 21.0    & 392.53  & 13.83   & 19.6   \\\\\n",
       "\t 1.23247 &  0.0    & 8.14    & 0       & 0.538   & 6.142   &  91.7   & 3.9769  & 4       & 307     & 21.0    & 396.90  & 18.72   & 15.2   \\\\\n",
       "\t 0.98843 &  0.0    & 8.14    & 0       & 0.538   & 5.813   & 100.0   & 4.0952  & 4       & 307     & 21.0    & 394.54  & 19.88   & 14.5   \\\\\n",
       "\t 0.75026 &  0.0    & 8.14    & 0       & 0.538   & 5.924   &  94.1   & 4.3996  & 4       & 307     & 21.0    & 394.33  & 16.30   & 15.6   \\\\\n",
       "\t 0.84054 &  0.0    & 8.14    & 0       & 0.538   & 5.599   &  85.7   & 4.4546  & 4       & 307     & 21.0    & 303.42  & 16.51   & 13.9   \\\\\n",
       "\t 0.67191 &  0.0    & 8.14    & 0       & 0.538   & 5.813   &  90.3   & 4.6820  & 4       & 307     & 21.0    & 376.88  & 14.81   & 16.6   \\\\\n",
       "\t 0.95577 &  0.0    & 8.14    & 0       & 0.538   & 6.047   &  88.8   & 4.4534  & 4       & 307     & 21.0    & 306.38  & 17.28   & 14.8   \\\\\n",
       "\t 0.77299 &  0.0    & 8.14    & 0       & 0.538   & 6.495   &  94.4   & 4.4547  & 4       & 307     & 21.0    & 387.94  & 12.80   & 18.4   \\\\\n",
       "\t 1.00245 &  0.0    & 8.14    & 0       & 0.538   & 6.674   &  87.3   & 4.2390  & 4       & 307     & 21.0    & 380.23  & 11.98   & 21.0   \\\\\n",
       "\t ... & ... & ... & ... & ... & ... & ... & ... & ... & ... & ... & ... & ... & ...\\\\\n",
       "\t  4.87141 & 0        & 18.10    & 0        & 0.614    & 6.484    & 93.6     & 2.3053   & 24       & 666      & 20.2     & 396.21   & 18.68    & 16.7    \\\\\n",
       "\t 15.02340 & 0        & 18.10    & 0        & 0.614    & 5.304    & 97.3     & 2.1007   & 24       & 666      & 20.2     & 349.48   & 24.91    & 12.0    \\\\\n",
       "\t 10.23300 & 0        & 18.10    & 0        & 0.614    & 6.185    & 96.7     & 2.1705   & 24       & 666      & 20.2     & 379.70   & 18.03    & 14.6    \\\\\n",
       "\t 14.33370 & 0        & 18.10    & 0        & 0.614    & 6.229    & 88.0     & 1.9512   & 24       & 666      & 20.2     & 383.32   & 13.11    & 21.4    \\\\\n",
       "\t  5.82401 & 0        & 18.10    & 0        & 0.532    & 6.242    & 64.7     & 3.4242   & 24       & 666      & 20.2     & 396.90   & 10.74    & 23.0    \\\\\n",
       "\t  5.70818 & 0        & 18.10    & 0        & 0.532    & 6.750    & 74.9     & 3.3317   & 24       & 666      & 20.2     & 393.07   &  7.74    & 23.7    \\\\\n",
       "\t  5.73116 & 0        & 18.10    & 0        & 0.532    & 7.061    & 77.0     & 3.4106   & 24       & 666      & 20.2     & 395.28   &  7.01    & 25.0    \\\\\n",
       "\t  2.81838 & 0        & 18.10    & 0        & 0.532    & 5.762    & 40.3     & 4.0983   & 24       & 666      & 20.2     & 392.92   & 10.42    & 21.8    \\\\\n",
       "\t  2.37857 & 0        & 18.10    & 0        & 0.583    & 5.871    & 41.9     & 3.7240   & 24       & 666      & 20.2     & 370.73   & 13.34    & 20.6    \\\\\n",
       "\t  3.67367 & 0        & 18.10    & 0        & 0.583    & 6.312    & 51.9     & 3.9917   & 24       & 666      & 20.2     & 388.62   & 10.58    & 21.2    \\\\\n",
       "\t  5.69175 & 0        & 18.10    & 0        & 0.583    & 6.114    & 79.8     & 3.5459   & 24       & 666      & 20.2     & 392.68   & 14.98    & 19.1    \\\\\n",
       "\t  4.83567 & 0        & 18.10    & 0        & 0.583    & 5.905    & 53.2     & 3.1523   & 24       & 666      & 20.2     & 388.22   & 11.45    & 20.6    \\\\\n",
       "\t  0.15086 & 0        & 27.74    & 0        & 0.609    & 5.454    & 92.7     & 1.8209   &  4       & 711      & 20.1     & 395.09   & 18.06    & 15.2    \\\\\n",
       "\t  0.18337 & 0        & 27.74    & 0        & 0.609    & 5.414    & 98.3     & 1.7554   &  4       & 711      & 20.1     & 344.05   & 23.97    &  7.0    \\\\\n",
       "\t  0.20746 & 0        & 27.74    & 0        & 0.609    & 5.093    & 98.0     & 1.8226   &  4       & 711      & 20.1     & 318.43   & 29.68    &  8.1    \\\\\n",
       "\t  0.10574 & 0        & 27.74    & 0        & 0.609    & 5.983    & 98.8     & 1.8681   &  4       & 711      & 20.1     & 390.11   & 18.07    & 13.6    \\\\\n",
       "\t  0.11132 & 0        & 27.74    & 0        & 0.609    & 5.983    & 83.5     & 2.1099   &  4       & 711      & 20.1     & 396.90   & 13.35    & 20.1    \\\\\n",
       "\t  0.17331 & 0        &  9.69    & 0        & 0.585    & 5.707    & 54.0     & 2.3817   &  6       & 391      & 19.2     & 396.90   & 12.01    & 21.8    \\\\\n",
       "\t  0.27957 & 0        &  9.69    & 0        & 0.585    & 5.926    & 42.6     & 2.3817   &  6       & 391      & 19.2     & 396.90   & 13.59    & 24.5    \\\\\n",
       "\t  0.17899 & 0        &  9.69    & 0        & 0.585    & 5.670    & 28.8     & 2.7986   &  6       & 391      & 19.2     & 393.29   & 17.60    & 23.1    \\\\\n",
       "\t  0.28960 & 0        &  9.69    & 0        & 0.585    & 5.390    & 72.9     & 2.7986   &  6       & 391      & 19.2     & 396.90   & 21.14    & 19.7    \\\\\n",
       "\t  0.26838 & 0        &  9.69    & 0        & 0.585    & 5.794    & 70.6     & 2.8927   &  6       & 391      & 19.2     & 396.90   & 14.10    & 18.3    \\\\\n",
       "\t  0.23912 & 0        &  9.69    & 0        & 0.585    & 6.019    & 65.3     & 2.4091   &  6       & 391      & 19.2     & 396.90   & 12.92    & 21.2    \\\\\n",
       "\t  0.17783 & 0        &  9.69    & 0        & 0.585    & 5.569    & 73.5     & 2.3999   &  6       & 391      & 19.2     & 395.77   & 15.10    & 17.5    \\\\\n",
       "\t  0.22438 & 0        &  9.69    & 0        & 0.585    & 6.027    & 79.7     & 2.4982   &  6       & 391      & 19.2     & 396.90   & 14.33    & 16.8    \\\\\n",
       "\t  0.06263 & 0        & 11.93    & 0        & 0.573    & 6.593    & 69.1     & 2.4786   &  1       & 273      & 21.0     & 391.99   &  9.67    & 22.4    \\\\\n",
       "\t  0.04527 & 0        & 11.93    & 0        & 0.573    & 6.120    & 76.7     & 2.2875   &  1       & 273      & 21.0     & 396.90   &  9.08    & 20.6    \\\\\n",
       "\t  0.06076 & 0        & 11.93    & 0        & 0.573    & 6.976    & 91.0     & 2.1675   &  1       & 273      & 21.0     & 396.90   &  5.64    & 23.9    \\\\\n",
       "\t  0.10959 & 0        & 11.93    & 0        & 0.573    & 6.794    & 89.3     & 2.3889   &  1       & 273      & 21.0     & 393.45   &  6.48    & 22.0    \\\\\n",
       "\t  0.04741 & 0        & 11.93    & 0        & 0.573    & 6.030    & 80.8     & 2.5050   &  1       & 273      & 21.0     & 396.90   &  7.88    & 11.9    \\\\\n",
       "\\end{tabular}\n"
      ],
      "text/markdown": [
       "\n",
       "| crim | zn | indus | chas | nox | rm | age | dis | rad | tax | ptratio | black | lstat | medv |\n",
       "|---|---|---|---|---|---|---|---|---|---|---|---|---|---|\n",
       "| 0.00632 | 18.0    | 2.31    | 0       | 0.538   | 6.575   |  65.2   | 4.0900  | 1       | 296     | 15.3    | 396.90  |  4.98   | 24.0    |\n",
       "| 0.02731 |  0.0    | 7.07    | 0       | 0.469   | 6.421   |  78.9   | 4.9671  | 2       | 242     | 17.8    | 396.90  |  9.14   | 21.6    |\n",
       "| 0.02729 |  0.0    | 7.07    | 0       | 0.469   | 7.185   |  61.1   | 4.9671  | 2       | 242     | 17.8    | 392.83  |  4.03   | 34.7    |\n",
       "| 0.03237 |  0.0    | 2.18    | 0       | 0.458   | 6.998   |  45.8   | 6.0622  | 3       | 222     | 18.7    | 394.63  |  2.94   | 33.4    |\n",
       "| 0.06905 |  0.0    | 2.18    | 0       | 0.458   | 7.147   |  54.2   | 6.0622  | 3       | 222     | 18.7    | 396.90  |  5.33   | 36.2    |\n",
       "| 0.02985 |  0.0    | 2.18    | 0       | 0.458   | 6.430   |  58.7   | 6.0622  | 3       | 222     | 18.7    | 394.12  |  5.21   | 28.7    |\n",
       "| 0.08829 | 12.5    | 7.87    | 0       | 0.524   | 6.012   |  66.6   | 5.5605  | 5       | 311     | 15.2    | 395.60  | 12.43   | 22.9    |\n",
       "| 0.14455 | 12.5    | 7.87    | 0       | 0.524   | 6.172   |  96.1   | 5.9505  | 5       | 311     | 15.2    | 396.90  | 19.15   | 27.1    |\n",
       "| 0.21124 | 12.5    | 7.87    | 0       | 0.524   | 5.631   | 100.0   | 6.0821  | 5       | 311     | 15.2    | 386.63  | 29.93   | 16.5    |\n",
       "| 0.17004 | 12.5    | 7.87    | 0       | 0.524   | 6.004   |  85.9   | 6.5921  | 5       | 311     | 15.2    | 386.71  | 17.10   | 18.9    |\n",
       "| 0.22489 | 12.5    | 7.87    | 0       | 0.524   | 6.377   |  94.3   | 6.3467  | 5       | 311     | 15.2    | 392.52  | 20.45   | 15.0    |\n",
       "| 0.11747 | 12.5    | 7.87    | 0       | 0.524   | 6.009   |  82.9   | 6.2267  | 5       | 311     | 15.2    | 396.90  | 13.27   | 18.9    |\n",
       "| 0.09378 | 12.5    | 7.87    | 0       | 0.524   | 5.889   |  39.0   | 5.4509  | 5       | 311     | 15.2    | 390.50  | 15.71   | 21.7    |\n",
       "| 0.62976 |  0.0    | 8.14    | 0       | 0.538   | 5.949   |  61.8   | 4.7075  | 4       | 307     | 21.0    | 396.90  |  8.26   | 20.4    |\n",
       "| 0.63796 |  0.0    | 8.14    | 0       | 0.538   | 6.096   |  84.5   | 4.4619  | 4       | 307     | 21.0    | 380.02  | 10.26   | 18.2    |\n",
       "| 0.62739 |  0.0    | 8.14    | 0       | 0.538   | 5.834   |  56.5   | 4.4986  | 4       | 307     | 21.0    | 395.62  |  8.47   | 19.9    |\n",
       "| 1.05393 |  0.0    | 8.14    | 0       | 0.538   | 5.935   |  29.3   | 4.4986  | 4       | 307     | 21.0    | 386.85  |  6.58   | 23.1    |\n",
       "| 0.78420 |  0.0    | 8.14    | 0       | 0.538   | 5.990   |  81.7   | 4.2579  | 4       | 307     | 21.0    | 386.75  | 14.67   | 17.5    |\n",
       "| 0.80271 |  0.0    | 8.14    | 0       | 0.538   | 5.456   |  36.6   | 3.7965  | 4       | 307     | 21.0    | 288.99  | 11.69   | 20.2    |\n",
       "| 0.72580 |  0.0    | 8.14    | 0       | 0.538   | 5.727   |  69.5   | 3.7965  | 4       | 307     | 21.0    | 390.95  | 11.28   | 18.2    |\n",
       "| 1.25179 |  0.0    | 8.14    | 0       | 0.538   | 5.570   |  98.1   | 3.7979  | 4       | 307     | 21.0    | 376.57  | 21.02   | 13.6    |\n",
       "| 0.85204 |  0.0    | 8.14    | 0       | 0.538   | 5.965   |  89.2   | 4.0123  | 4       | 307     | 21.0    | 392.53  | 13.83   | 19.6    |\n",
       "| 1.23247 |  0.0    | 8.14    | 0       | 0.538   | 6.142   |  91.7   | 3.9769  | 4       | 307     | 21.0    | 396.90  | 18.72   | 15.2    |\n",
       "| 0.98843 |  0.0    | 8.14    | 0       | 0.538   | 5.813   | 100.0   | 4.0952  | 4       | 307     | 21.0    | 394.54  | 19.88   | 14.5    |\n",
       "| 0.75026 |  0.0    | 8.14    | 0       | 0.538   | 5.924   |  94.1   | 4.3996  | 4       | 307     | 21.0    | 394.33  | 16.30   | 15.6    |\n",
       "| 0.84054 |  0.0    | 8.14    | 0       | 0.538   | 5.599   |  85.7   | 4.4546  | 4       | 307     | 21.0    | 303.42  | 16.51   | 13.9    |\n",
       "| 0.67191 |  0.0    | 8.14    | 0       | 0.538   | 5.813   |  90.3   | 4.6820  | 4       | 307     | 21.0    | 376.88  | 14.81   | 16.6    |\n",
       "| 0.95577 |  0.0    | 8.14    | 0       | 0.538   | 6.047   |  88.8   | 4.4534  | 4       | 307     | 21.0    | 306.38  | 17.28   | 14.8    |\n",
       "| 0.77299 |  0.0    | 8.14    | 0       | 0.538   | 6.495   |  94.4   | 4.4547  | 4       | 307     | 21.0    | 387.94  | 12.80   | 18.4    |\n",
       "| 1.00245 |  0.0    | 8.14    | 0       | 0.538   | 6.674   |  87.3   | 4.2390  | 4       | 307     | 21.0    | 380.23  | 11.98   | 21.0    |\n",
       "| ... | ... | ... | ... | ... | ... | ... | ... | ... | ... | ... | ... | ... | ... |\n",
       "|  4.87141 | 0        | 18.10    | 0        | 0.614    | 6.484    | 93.6     | 2.3053   | 24       | 666      | 20.2     | 396.21   | 18.68    | 16.7     |\n",
       "| 15.02340 | 0        | 18.10    | 0        | 0.614    | 5.304    | 97.3     | 2.1007   | 24       | 666      | 20.2     | 349.48   | 24.91    | 12.0     |\n",
       "| 10.23300 | 0        | 18.10    | 0        | 0.614    | 6.185    | 96.7     | 2.1705   | 24       | 666      | 20.2     | 379.70   | 18.03    | 14.6     |\n",
       "| 14.33370 | 0        | 18.10    | 0        | 0.614    | 6.229    | 88.0     | 1.9512   | 24       | 666      | 20.2     | 383.32   | 13.11    | 21.4     |\n",
       "|  5.82401 | 0        | 18.10    | 0        | 0.532    | 6.242    | 64.7     | 3.4242   | 24       | 666      | 20.2     | 396.90   | 10.74    | 23.0     |\n",
       "|  5.70818 | 0        | 18.10    | 0        | 0.532    | 6.750    | 74.9     | 3.3317   | 24       | 666      | 20.2     | 393.07   |  7.74    | 23.7     |\n",
       "|  5.73116 | 0        | 18.10    | 0        | 0.532    | 7.061    | 77.0     | 3.4106   | 24       | 666      | 20.2     | 395.28   |  7.01    | 25.0     |\n",
       "|  2.81838 | 0        | 18.10    | 0        | 0.532    | 5.762    | 40.3     | 4.0983   | 24       | 666      | 20.2     | 392.92   | 10.42    | 21.8     |\n",
       "|  2.37857 | 0        | 18.10    | 0        | 0.583    | 5.871    | 41.9     | 3.7240   | 24       | 666      | 20.2     | 370.73   | 13.34    | 20.6     |\n",
       "|  3.67367 | 0        | 18.10    | 0        | 0.583    | 6.312    | 51.9     | 3.9917   | 24       | 666      | 20.2     | 388.62   | 10.58    | 21.2     |\n",
       "|  5.69175 | 0        | 18.10    | 0        | 0.583    | 6.114    | 79.8     | 3.5459   | 24       | 666      | 20.2     | 392.68   | 14.98    | 19.1     |\n",
       "|  4.83567 | 0        | 18.10    | 0        | 0.583    | 5.905    | 53.2     | 3.1523   | 24       | 666      | 20.2     | 388.22   | 11.45    | 20.6     |\n",
       "|  0.15086 | 0        | 27.74    | 0        | 0.609    | 5.454    | 92.7     | 1.8209   |  4       | 711      | 20.1     | 395.09   | 18.06    | 15.2     |\n",
       "|  0.18337 | 0        | 27.74    | 0        | 0.609    | 5.414    | 98.3     | 1.7554   |  4       | 711      | 20.1     | 344.05   | 23.97    |  7.0     |\n",
       "|  0.20746 | 0        | 27.74    | 0        | 0.609    | 5.093    | 98.0     | 1.8226   |  4       | 711      | 20.1     | 318.43   | 29.68    |  8.1     |\n",
       "|  0.10574 | 0        | 27.74    | 0        | 0.609    | 5.983    | 98.8     | 1.8681   |  4       | 711      | 20.1     | 390.11   | 18.07    | 13.6     |\n",
       "|  0.11132 | 0        | 27.74    | 0        | 0.609    | 5.983    | 83.5     | 2.1099   |  4       | 711      | 20.1     | 396.90   | 13.35    | 20.1     |\n",
       "|  0.17331 | 0        |  9.69    | 0        | 0.585    | 5.707    | 54.0     | 2.3817   |  6       | 391      | 19.2     | 396.90   | 12.01    | 21.8     |\n",
       "|  0.27957 | 0        |  9.69    | 0        | 0.585    | 5.926    | 42.6     | 2.3817   |  6       | 391      | 19.2     | 396.90   | 13.59    | 24.5     |\n",
       "|  0.17899 | 0        |  9.69    | 0        | 0.585    | 5.670    | 28.8     | 2.7986   |  6       | 391      | 19.2     | 393.29   | 17.60    | 23.1     |\n",
       "|  0.28960 | 0        |  9.69    | 0        | 0.585    | 5.390    | 72.9     | 2.7986   |  6       | 391      | 19.2     | 396.90   | 21.14    | 19.7     |\n",
       "|  0.26838 | 0        |  9.69    | 0        | 0.585    | 5.794    | 70.6     | 2.8927   |  6       | 391      | 19.2     | 396.90   | 14.10    | 18.3     |\n",
       "|  0.23912 | 0        |  9.69    | 0        | 0.585    | 6.019    | 65.3     | 2.4091   |  6       | 391      | 19.2     | 396.90   | 12.92    | 21.2     |\n",
       "|  0.17783 | 0        |  9.69    | 0        | 0.585    | 5.569    | 73.5     | 2.3999   |  6       | 391      | 19.2     | 395.77   | 15.10    | 17.5     |\n",
       "|  0.22438 | 0        |  9.69    | 0        | 0.585    | 6.027    | 79.7     | 2.4982   |  6       | 391      | 19.2     | 396.90   | 14.33    | 16.8     |\n",
       "|  0.06263 | 0        | 11.93    | 0        | 0.573    | 6.593    | 69.1     | 2.4786   |  1       | 273      | 21.0     | 391.99   |  9.67    | 22.4     |\n",
       "|  0.04527 | 0        | 11.93    | 0        | 0.573    | 6.120    | 76.7     | 2.2875   |  1       | 273      | 21.0     | 396.90   |  9.08    | 20.6     |\n",
       "|  0.06076 | 0        | 11.93    | 0        | 0.573    | 6.976    | 91.0     | 2.1675   |  1       | 273      | 21.0     | 396.90   |  5.64    | 23.9     |\n",
       "|  0.10959 | 0        | 11.93    | 0        | 0.573    | 6.794    | 89.3     | 2.3889   |  1       | 273      | 21.0     | 393.45   |  6.48    | 22.0     |\n",
       "|  0.04741 | 0        | 11.93    | 0        | 0.573    | 6.030    | 80.8     | 2.5050   |  1       | 273      | 21.0     | 396.90   |  7.88    | 11.9     |\n",
       "\n"
      ],
      "text/plain": [
       "    crim     zn   indus chas nox   rm    age   dis    rad tax ptratio black \n",
       "1   0.00632  18.0 2.31  0    0.538 6.575  65.2 4.0900 1   296 15.3    396.90\n",
       "2   0.02731   0.0 7.07  0    0.469 6.421  78.9 4.9671 2   242 17.8    396.90\n",
       "3   0.02729   0.0 7.07  0    0.469 7.185  61.1 4.9671 2   242 17.8    392.83\n",
       "4   0.03237   0.0 2.18  0    0.458 6.998  45.8 6.0622 3   222 18.7    394.63\n",
       "5   0.06905   0.0 2.18  0    0.458 7.147  54.2 6.0622 3   222 18.7    396.90\n",
       "6   0.02985   0.0 2.18  0    0.458 6.430  58.7 6.0622 3   222 18.7    394.12\n",
       "7   0.08829  12.5 7.87  0    0.524 6.012  66.6 5.5605 5   311 15.2    395.60\n",
       "8   0.14455  12.5 7.87  0    0.524 6.172  96.1 5.9505 5   311 15.2    396.90\n",
       "9   0.21124  12.5 7.87  0    0.524 5.631 100.0 6.0821 5   311 15.2    386.63\n",
       "10  0.17004  12.5 7.87  0    0.524 6.004  85.9 6.5921 5   311 15.2    386.71\n",
       "11  0.22489  12.5 7.87  0    0.524 6.377  94.3 6.3467 5   311 15.2    392.52\n",
       "12  0.11747  12.5 7.87  0    0.524 6.009  82.9 6.2267 5   311 15.2    396.90\n",
       "13  0.09378  12.5 7.87  0    0.524 5.889  39.0 5.4509 5   311 15.2    390.50\n",
       "14  0.62976   0.0 8.14  0    0.538 5.949  61.8 4.7075 4   307 21.0    396.90\n",
       "15  0.63796   0.0 8.14  0    0.538 6.096  84.5 4.4619 4   307 21.0    380.02\n",
       "16  0.62739   0.0 8.14  0    0.538 5.834  56.5 4.4986 4   307 21.0    395.62\n",
       "17  1.05393   0.0 8.14  0    0.538 5.935  29.3 4.4986 4   307 21.0    386.85\n",
       "18  0.78420   0.0 8.14  0    0.538 5.990  81.7 4.2579 4   307 21.0    386.75\n",
       "19  0.80271   0.0 8.14  0    0.538 5.456  36.6 3.7965 4   307 21.0    288.99\n",
       "20  0.72580   0.0 8.14  0    0.538 5.727  69.5 3.7965 4   307 21.0    390.95\n",
       "21  1.25179   0.0 8.14  0    0.538 5.570  98.1 3.7979 4   307 21.0    376.57\n",
       "22  0.85204   0.0 8.14  0    0.538 5.965  89.2 4.0123 4   307 21.0    392.53\n",
       "23  1.23247   0.0 8.14  0    0.538 6.142  91.7 3.9769 4   307 21.0    396.90\n",
       "24  0.98843   0.0 8.14  0    0.538 5.813 100.0 4.0952 4   307 21.0    394.54\n",
       "25  0.75026   0.0 8.14  0    0.538 5.924  94.1 4.3996 4   307 21.0    394.33\n",
       "26  0.84054   0.0 8.14  0    0.538 5.599  85.7 4.4546 4   307 21.0    303.42\n",
       "27  0.67191   0.0 8.14  0    0.538 5.813  90.3 4.6820 4   307 21.0    376.88\n",
       "28  0.95577   0.0 8.14  0    0.538 6.047  88.8 4.4534 4   307 21.0    306.38\n",
       "29  0.77299   0.0 8.14  0    0.538 6.495  94.4 4.4547 4   307 21.0    387.94\n",
       "30  1.00245   0.0 8.14  0    0.538 6.674  87.3 4.2390 4   307 21.0    380.23\n",
       "... ...      ...  ...   ...  ...   ...   ...   ...    ... ... ...     ...   \n",
       "477  4.87141 0    18.10 0    0.614 6.484 93.6  2.3053 24  666 20.2    396.21\n",
       "478 15.02340 0    18.10 0    0.614 5.304 97.3  2.1007 24  666 20.2    349.48\n",
       "479 10.23300 0    18.10 0    0.614 6.185 96.7  2.1705 24  666 20.2    379.70\n",
       "480 14.33370 0    18.10 0    0.614 6.229 88.0  1.9512 24  666 20.2    383.32\n",
       "481  5.82401 0    18.10 0    0.532 6.242 64.7  3.4242 24  666 20.2    396.90\n",
       "482  5.70818 0    18.10 0    0.532 6.750 74.9  3.3317 24  666 20.2    393.07\n",
       "483  5.73116 0    18.10 0    0.532 7.061 77.0  3.4106 24  666 20.2    395.28\n",
       "484  2.81838 0    18.10 0    0.532 5.762 40.3  4.0983 24  666 20.2    392.92\n",
       "485  2.37857 0    18.10 0    0.583 5.871 41.9  3.7240 24  666 20.2    370.73\n",
       "486  3.67367 0    18.10 0    0.583 6.312 51.9  3.9917 24  666 20.2    388.62\n",
       "487  5.69175 0    18.10 0    0.583 6.114 79.8  3.5459 24  666 20.2    392.68\n",
       "488  4.83567 0    18.10 0    0.583 5.905 53.2  3.1523 24  666 20.2    388.22\n",
       "489  0.15086 0    27.74 0    0.609 5.454 92.7  1.8209  4  711 20.1    395.09\n",
       "490  0.18337 0    27.74 0    0.609 5.414 98.3  1.7554  4  711 20.1    344.05\n",
       "491  0.20746 0    27.74 0    0.609 5.093 98.0  1.8226  4  711 20.1    318.43\n",
       "492  0.10574 0    27.74 0    0.609 5.983 98.8  1.8681  4  711 20.1    390.11\n",
       "493  0.11132 0    27.74 0    0.609 5.983 83.5  2.1099  4  711 20.1    396.90\n",
       "494  0.17331 0     9.69 0    0.585 5.707 54.0  2.3817  6  391 19.2    396.90\n",
       "495  0.27957 0     9.69 0    0.585 5.926 42.6  2.3817  6  391 19.2    396.90\n",
       "496  0.17899 0     9.69 0    0.585 5.670 28.8  2.7986  6  391 19.2    393.29\n",
       "497  0.28960 0     9.69 0    0.585 5.390 72.9  2.7986  6  391 19.2    396.90\n",
       "498  0.26838 0     9.69 0    0.585 5.794 70.6  2.8927  6  391 19.2    396.90\n",
       "499  0.23912 0     9.69 0    0.585 6.019 65.3  2.4091  6  391 19.2    396.90\n",
       "500  0.17783 0     9.69 0    0.585 5.569 73.5  2.3999  6  391 19.2    395.77\n",
       "501  0.22438 0     9.69 0    0.585 6.027 79.7  2.4982  6  391 19.2    396.90\n",
       "502  0.06263 0    11.93 0    0.573 6.593 69.1  2.4786  1  273 21.0    391.99\n",
       "503  0.04527 0    11.93 0    0.573 6.120 76.7  2.2875  1  273 21.0    396.90\n",
       "504  0.06076 0    11.93 0    0.573 6.976 91.0  2.1675  1  273 21.0    396.90\n",
       "505  0.10959 0    11.93 0    0.573 6.794 89.3  2.3889  1  273 21.0    393.45\n",
       "506  0.04741 0    11.93 0    0.573 6.030 80.8  2.5050  1  273 21.0    396.90\n",
       "    lstat medv\n",
       "1    4.98 24.0\n",
       "2    9.14 21.6\n",
       "3    4.03 34.7\n",
       "4    2.94 33.4\n",
       "5    5.33 36.2\n",
       "6    5.21 28.7\n",
       "7   12.43 22.9\n",
       "8   19.15 27.1\n",
       "9   29.93 16.5\n",
       "10  17.10 18.9\n",
       "11  20.45 15.0\n",
       "12  13.27 18.9\n",
       "13  15.71 21.7\n",
       "14   8.26 20.4\n",
       "15  10.26 18.2\n",
       "16   8.47 19.9\n",
       "17   6.58 23.1\n",
       "18  14.67 17.5\n",
       "19  11.69 20.2\n",
       "20  11.28 18.2\n",
       "21  21.02 13.6\n",
       "22  13.83 19.6\n",
       "23  18.72 15.2\n",
       "24  19.88 14.5\n",
       "25  16.30 15.6\n",
       "26  16.51 13.9\n",
       "27  14.81 16.6\n",
       "28  17.28 14.8\n",
       "29  12.80 18.4\n",
       "30  11.98 21.0\n",
       "... ...   ... \n",
       "477 18.68 16.7\n",
       "478 24.91 12.0\n",
       "479 18.03 14.6\n",
       "480 13.11 21.4\n",
       "481 10.74 23.0\n",
       "482  7.74 23.7\n",
       "483  7.01 25.0\n",
       "484 10.42 21.8\n",
       "485 13.34 20.6\n",
       "486 10.58 21.2\n",
       "487 14.98 19.1\n",
       "488 11.45 20.6\n",
       "489 18.06 15.2\n",
       "490 23.97  7.0\n",
       "491 29.68  8.1\n",
       "492 18.07 13.6\n",
       "493 13.35 20.1\n",
       "494 12.01 21.8\n",
       "495 13.59 24.5\n",
       "496 17.60 23.1\n",
       "497 21.14 19.7\n",
       "498 14.10 18.3\n",
       "499 12.92 21.2\n",
       "500 15.10 17.5\n",
       "501 14.33 16.8\n",
       "502  9.67 22.4\n",
       "503  9.08 20.6\n",
       "504  5.64 23.9\n",
       "505  6.48 22.0\n",
       "506  7.88 11.9"
      ]
     },
     "metadata": {},
     "output_type": "display_data"
    }
   ],
   "source": [
    "library(MASS)\n",
    "Boston"
   ]
  },
  {
   "cell_type": "code",
   "execution_count": null,
   "metadata": {},
   "outputs": [],
   "source": []
  }
 ],
 "metadata": {
  "kernelspec": {
   "display_name": "R",
   "language": "R",
   "name": "ir"
  },
  "language_info": {
   "codemirror_mode": "r",
   "file_extension": ".r",
   "mimetype": "text/x-r-source",
   "name": "R",
   "pygments_lexer": "r",
   "version": "3.6.1"
  }
 },
 "nbformat": 4,
 "nbformat_minor": 2
}
