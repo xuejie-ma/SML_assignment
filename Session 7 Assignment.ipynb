{
 "cells": [
  {
   "cell_type": "code",
   "execution_count": 6,
   "metadata": {},
   "outputs": [
    {
     "name": "stderr",
     "output_type": "stream",
     "text": [
      "Warning message:\n",
      "\"package 'intergraph' was built under R version 3.6.3\""
     ]
    }
   ],
   "source": [
    "library(\"neuralnet\")\n",
    "library(\"intergraph\")"
   ]
  },
  {
   "cell_type": "code",
   "execution_count": 12,
   "metadata": {},
   "outputs": [],
   "source": [
    "set.seed(100)\n",
    "N <- 60\n",
    "M <- 3\n",
    "# Endoments. THey start with those commodities\n",
    "E <- matrix(round(runif(N*M, 0,5)),N,M)\n",
    "U <- matrix(round(runif(N*M, 0,5)),N,M)\n",
    "P <- round(runif(M, 0,5))"
   ]
  },
  {
   "cell_type": "code",
   "execution_count": 13,
   "metadata": {},
   "outputs": [
    {
     "ename": "ERROR",
     "evalue": "Error in bartering.BestImprove(E, U, P): 没有\"bartering.BestImprove\"这个函数\n",
     "output_type": "error",
     "traceback": [
      "Error in bartering.BestImprove(E, U, P): 没有\"bartering.BestImprove\"这个函数\nTraceback:\n"
     ]
    }
   ],
   "source": [
    "set.seed(100)\n",
    "Bartering <- bartering.BestImprove(E, U, P)\n",
    "x_flox <-  Bartering[[3]]\n",
    "x_int <-  Bartering[[4]]\n",
    "g_flow <- graph_from_adjacency_matrix(as.matrix(x_flox), mode = 'undirected', weighted = T )\n",
    "g_int <- graph_from_adjacency_matrix(as.matrix(x_int), mode = 'undirected', weighted = T )"
   ]
  },
  {
   "cell_type": "code",
   "execution_count": 9,
   "metadata": {},
   "outputs": [
    {
     "ename": "ERROR",
     "evalue": "Error in asNetwork(g_int): 找不到对象'g_int'\n",
     "output_type": "error",
     "traceback": [
      "Error in asNetwork(g_int): 找不到对象'g_int'\nTraceback:\n",
      "1. asNetwork(g_int)"
     ]
    }
   ],
   "source": [
    "attr = rowSums(E)\n",
    "net_int = asNetwork(g_int)\n",
    "d_int = degree(g_int)\n",
    "d_flow = degree(g_flow)\n",
    "network::plot.network(net_int, vertex.cex = 5*attr/max(attr), displayisolates = F)"
   ]
  },
  {
   "cell_type": "code",
   "execution_count": 10,
   "metadata": {},
   "outputs": [],
   "source": [
    "N <- 20\n",
    "M <- 3\n",
    "# Endoments. THey start with those commodities\n",
    "E <- matrix(round(runif(N*M, 0,5)),N,M)\n",
    "U <- matrix(round(runif(N*M, 0,5)),N,M)"
   ]
  },
  {
   "cell_type": "code",
   "execution_count": 11,
   "metadata": {},
   "outputs": [
    {
     "ename": "ERROR",
     "evalue": "Error in bartering.BestImprove(E, U, P): 没有\"bartering.BestImprove\"这个函数\n",
     "output_type": "error",
     "traceback": [
      "Error in bartering.BestImprove(E, U, P): 没有\"bartering.BestImprove\"这个函数\nTraceback:\n"
     ]
    }
   ],
   "source": [
    "P <- round(runif(M, 0,5))\n",
    "Bartering <- bartering.BestImprove(E, U, P)\n",
    "x_flox <-  Bartering[[3]]\n",
    "x_int <-  Bartering[[4]]\n",
    "g <- graph_from_adjacency_matrix(as.matrix(x_flox), mode = 'undirected', weighted = T)\n",
    "set.seed(123)\n",
    "plot(g)"
   ]
  },
  {
   "cell_type": "code",
   "execution_count": null,
   "metadata": {},
   "outputs": [],
   "source": []
  }
 ],
 "metadata": {
  "kernelspec": {
   "display_name": "R",
   "language": "R",
   "name": "ir"
  },
  "language_info": {
   "codemirror_mode": "r",
   "file_extension": ".r",
   "mimetype": "text/x-r-source",
   "name": "R",
   "pygments_lexer": "r",
   "version": "3.6.1"
  }
 },
 "nbformat": 4,
 "nbformat_minor": 2
}
