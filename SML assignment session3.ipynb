{
 "cells": [
  {
   "cell_type": "markdown",
   "metadata": {},
   "source": [
    "# Exercise 3\n",
    "（a）Each sample has only one chance to be assigned to the training set or test set during each iteration.\n",
    "     1. Divide all training set S into k non-intersecting subsets. \n",
    "       Assuming the number of training samples in S is m, then each sub-set has m/k training samples, and the corresponding subsets are          called {s1,s2... , sk}.\n",
    "     2. Take one sub-set from each sub-set as the test set and the other k-1 as the training set\n",
    "     3. Train the model according to the training.\n",
    "     4. Put the model on the test set and get the classification rate.\n",
    "     5. Calculate the average value of the classification rate obtained k times as the true classification rate of the model\n",
    " (b)  1.Advantage:\n",
    "     within a limit, the larger the value of k, the better. Because the larger the k is, the more times we verify it, and the more            accurate the training model can be represented by the average taken out at the end\n",
    "    2.Disadvantages:\n",
    "     It is easy to overburden the machine and cost a lot of time.\n",
    "     The data in the test set (or verification set) of each verification is too small to obtain accurate false positives."
   ]
  },
  {
   "cell_type": "markdown",
   "metadata": {},
   "source": [
    "# Exercise 8"
   ]
  },
  {
   "cell_type": "code",
   "execution_count": 7,
   "metadata": {},
   "outputs": [
    {
     "name": "stderr",
     "output_type": "stream",
     "text": [
      "Warning message:\n",
      "\"package 'glmnet' was built under R version 3.6.2\"Loading required package: Matrix\n",
      "Warning message:\n",
      "\"package 'Matrix' was built under R version 3.6.2\"Loaded glmnet 3.0-2\n",
      "\n"
     ]
    }
   ],
   "source": [
    "#install.packages(\"glmnet\")\n",
    "library(\"glmnet\")"
   ]
  },
  {
   "cell_type": "code",
   "execution_count": 1,
   "metadata": {},
   "outputs": [],
   "source": [
    "set.seed(1)\n",
    "y <- rnorm(100) \n",
    "x <- rnorm(100)\n",
    "y <- x - 2*x^2 + rnorm(100)"
   ]
  },
  {
   "cell_type": "code",
   "execution_count": 2,
   "metadata": {},
   "outputs": [
    {
     "data": {
      "image/png": "[encoded data removed]",
      "text/plain": [
       "plot without title"
      ]
     },
     "metadata": {},
     "output_type": "display_data"
    }
   ],
   "source": [
    "plot(x, y)"
   ]
  },
  {
   "cell_type": "code",
   "execution_count": 8,
   "metadata": {},
   "outputs": [
    {
     "ename": "ERROR",
     "evalue": "Error in cv.glm(df, fit1): 没有\"cv.glm\"这个函数\n",
     "output_type": "error",
     "traceback": [
      "Error in cv.glm(df, fit1): 没有\"cv.glm\"这个函数\nTraceback:\n"
     ]
    }
   ],
   "source": [
    "set.seed(1)\n",
    "df <- data.frame(y, x, x2=x^2, x3=x^3, x4=x^4)\n",
    "fit1 <- glm(y ~ x, data=df)\n",
    "cv.err1 <- cv.glm(df, fit1)\n",
    "cv.err1$delta\n",
    "fit2 <- glm(y ~ x + x2, data=df)\n",
    "cv.err2 <- cv.glm(df, fit2)\n",
    "cv.err2$delta\n",
    "fit3 <- glm(y ~ x + x2 + x3, data=df)\n",
    "cv.err3 <- cv.glm(df, fit3)\n",
    "cv.err3$delta\n",
    "fit4 <- glm(y ~ x + x2 + x3 + x4, data=df)\n",
    "cv.err4 <- cv.glm(df, fit4)\n",
    "cv.err4$delta"
   ]
  },
  {
   "cell_type": "code",
   "execution_count": 4,
   "metadata": {},
   "outputs": [
    {
     "ename": "ERROR",
     "evalue": "Error in cv.glm(df, fit1): 没有\"cv.glm\"这个函数\n",
     "output_type": "error",
     "traceback": [
      "Error in cv.glm(df, fit1): 没有\"cv.glm\"这个函数\nTraceback:\n"
     ]
    }
   ],
   "source": [
    "set.seed(2)\n",
    "df <- data.frame(y, x, x2=x^2, x3=x^3, x4=x^4)\n",
    "fit1 <- glm(y ~ x, data=df)\n",
    "cv.err1 <- cv.glm(df, fit1)\n",
    "cv.err1$delta\n",
    "fit2 <- glm(y ~ x + x2, data=df)\n",
    "cv.err2 <- cv.glm(df, fit2)\n",
    "cv.err2$delta\n",
    "fit3 <- glm(y ~ x + x2 + x3, data=df)\n",
    "cv.err3 <- cv.glm(df, fit3)\n",
    "cv.err3$delta\n",
    "fit4 <- glm(y ~ x + x2 + x3 + x4, data=df)\n",
    "cv.err4 <- cv.glm(df, fit4)\n",
    "cv.err4$delta"
   ]
  },
  {
   "cell_type": "code",
   "execution_count": 5,
   "metadata": {},
   "outputs": [
    {
     "data": {
      "text/plain": [
       "\n",
       "Call:\n",
       "lm(formula = y ~ poly(x, 4))\n",
       "\n",
       "Residuals:\n",
       "    Min      1Q  Median      3Q     Max \n",
       "-2.8914 -0.5244  0.0749  0.5932  2.7796 \n",
       "\n",
       "Coefficients:\n",
       "            Estimate Std. Error t value Pr(>|t|)    \n",
       "(Intercept)  -1.8277     0.1041 -17.549   <2e-16 ***\n",
       "poly(x, 4)1   2.3164     1.0415   2.224   0.0285 *  \n",
       "poly(x, 4)2 -21.0586     1.0415 -20.220   <2e-16 ***\n",
       "poly(x, 4)3  -0.3048     1.0415  -0.293   0.7704    \n",
       "poly(x, 4)4  -0.4926     1.0415  -0.473   0.6373    \n",
       "---\n",
       "Signif. codes:  0 '***' 0.001 '**' 0.01 '*' 0.05 '.' 0.1 ' ' 1\n",
       "\n",
       "Residual standard error: 1.041 on 95 degrees of freedom\n",
       "Multiple R-squared:  0.8134,\tAdjusted R-squared:  0.8055 \n",
       "F-statistic: 103.5 on 4 and 95 DF,  p-value: < 2.2e-16\n"
      ]
     },
     "metadata": {},
     "output_type": "display_data"
    }
   ],
   "source": [
    "fit0 <- lm(y ~ poly(x,4))\n",
    "summary(fit0)"
   ]
  },
  {
   "cell_type": "markdown",
   "metadata": {},
   "source": [
    "# Exercise 1\n",
    "#(a）Best subset will have the smallest train RSS because the models will optimize on the training RSS and best subset will try every model that forward and backward selection will try.\n",
    "#(b）The best test RSS model could be any of the three. Best subset could easily overfit if the data has large $p$ predictors relative to $n$ observations. Forward and backward selection might not converge on the same model but try the same number of models and hard to say which selection process would be better. \n",
    "#(c)\n",
    "  * TRUE \n",
    "  * TRUE\n",
    "  * FALSE\n",
    "  * FALSE\n",
    "  * FALSE"
   ]
  },
  {
   "cell_type": "markdown",
   "metadata": {},
   "source": [
    "# Exercise 9"
   ]
  },
  {
   "cell_type": "code",
   "execution_count": 16,
   "metadata": {},
   "outputs": [
    {
     "name": "stderr",
     "output_type": "stream",
     "text": [
      "Warning message:\n",
      "\"package 'pls' was built under R version 3.6.2\"\n",
      "Attaching package: 'pls'\n",
      "\n",
      "The following object is masked from 'package:stats':\n",
      "\n",
      "    loadings\n",
      "\n"
     ]
    }
   ],
   "source": [
    "#install.packages(\"pls\")\n",
    "library(\"pls\")"
   ]
  },
  {
   "cell_type": "code",
   "execution_count": 9,
   "metadata": {},
   "outputs": [
    {
     "name": "stderr",
     "output_type": "stream",
     "text": [
      "Loading required package: ISLR\n",
      "Warning message:\n",
      "\"package 'ISLR' was built under R version 3.6.2\""
     ]
    },
    {
     "name": "stdout",
     "output_type": "stream",
     "text": [
      "'data.frame':\t777 obs. of  18 variables:\n",
      " $ Private    : Factor w/ 2 levels \"No\",\"Yes\": 2 2 2 2 2 2 2 2 2 2 ...\n",
      " $ Apps       : num  1660 2186 1428 417 193 ...\n",
      " $ Accept     : num  1232 1924 1097 349 146 ...\n",
      " $ Enroll     : num  721 512 336 137 55 158 103 489 227 172 ...\n",
      " $ Top10perc  : num  23 16 22 60 16 38 17 37 30 21 ...\n",
      " $ Top25perc  : num  52 29 50 89 44 62 45 68 63 44 ...\n",
      " $ F.Undergrad: num  2885 2683 1036 510 249 ...\n",
      " $ P.Undergrad: num  537 1227 99 63 869 ...\n",
      " $ Outstate   : num  7440 12280 11250 12960 7560 ...\n",
      " $ Room.Board : num  3300 6450 3750 5450 4120 ...\n",
      " $ Books      : num  450 750 400 450 800 500 500 450 300 660 ...\n",
      " $ Personal   : num  2200 1500 1165 875 1500 ...\n",
      " $ PhD        : num  70 29 53 92 76 67 90 89 79 40 ...\n",
      " $ Terminal   : num  78 30 66 97 72 73 93 100 84 41 ...\n",
      " $ S.F.Ratio  : num  18.1 12.2 12.9 7.7 11.9 9.4 11.5 13.7 11.3 11.5 ...\n",
      " $ perc.alumni: num  12 16 30 37 2 11 26 37 23 15 ...\n",
      " $ Expend     : num  7041 10527 8735 19016 10922 ...\n",
      " $ Grad.Rate  : num  60 56 54 59 15 55 63 73 80 52 ...\n"
     ]
    }
   ],
   "source": [
    "require(ISLR)\n",
    "data(College)\n",
    "set.seed(1)\n",
    "trainid <- sample(1:nrow(College), nrow(College)/2)\n",
    "train <- College[trainid,]\n",
    "test <- College[-trainid,]\n",
    "str(College)"
   ]
  },
  {
   "cell_type": "code",
   "execution_count": 10,
   "metadata": {},
   "outputs": [
    {
     "data": {
      "text/html": [
       "1135758.31783053"
      ],
      "text/latex": [
       "1135758.31783053"
      ],
      "text/markdown": [
       "1135758.31783053"
      ],
      "text/plain": [
       "[1] 1135758"
      ]
     },
     "metadata": {},
     "output_type": "display_data"
    }
   ],
   "source": [
    "fit.lm <- lm(Apps~., data=train)\n",
    "pred.lm <- predict(fit.lm, test)\n",
    "(err.lm <- mean((test$Apps - pred.lm)^2)) "
   ]
  },
  {
   "cell_type": "code",
   "execution_count": 11,
   "metadata": {},
   "outputs": [
    {
     "data": {
      "text/html": [
       "405.840359582873"
      ],
      "text/latex": [
       "405.840359582873"
      ],
      "text/markdown": [
       "405.840359582873"
      ],
      "text/plain": [
       "[1] 405.8404"
      ]
     },
     "metadata": {},
     "output_type": "display_data"
    },
    {
     "data": {
      "text/html": [
       "976261.495725972"
      ],
      "text/latex": [
       "976261.495725972"
      ],
      "text/markdown": [
       "976261.495725972"
      ],
      "text/plain": [
       "[1] 976261.5"
      ]
     },
     "metadata": {},
     "output_type": "display_data"
    }
   ],
   "source": [
    "require(glmnet)\n",
    "xmat.train <- model.matrix(Apps~., data=train)[,-1]\n",
    "xmat.test <- model.matrix(Apps~., data=test)[,-1]\n",
    "fit.ridge <- cv.glmnet(xmat.train, train$Apps, alpha=0)\n",
    "(lambda <- fit.ridge$lambda.min)  # optimal lambda\n",
    "pred.ridge <- predict(fit.ridge, s=lambda, newx=xmat.test)\n",
    "(err.ridge <- mean((test$Apps - pred.ridge)^2))"
   ]
  },
  {
   "cell_type": "code",
   "execution_count": 12,
   "metadata": {},
   "outputs": [
    {
     "data": {
      "text/html": [
       "1.97343997085518"
      ],
      "text/latex": [
       "1.97343997085518"
      ],
      "text/markdown": [
       "1.97343997085518"
      ],
      "text/plain": [
       "[1] 1.97344"
      ]
     },
     "metadata": {},
     "output_type": "display_data"
    },
    {
     "data": {
      "text/html": [
       "1115900.63011245"
      ],
      "text/latex": [
       "1115900.63011245"
      ],
      "text/markdown": [
       "1115900.63011245"
      ],
      "text/plain": [
       "[1] 1115901"
      ]
     },
     "metadata": {},
     "output_type": "display_data"
    },
    {
     "data": {
      "text/html": [
       "<dl class=dl-horizontal>\n",
       "\t<dt>(Intercept)</dt>\n",
       "\t\t<dd>-768.889604542218</dd>\n",
       "\t<dt>PrivateYes</dt>\n",
       "\t\t<dd>-312.703361289158</dd>\n",
       "\t<dt>Accept</dt>\n",
       "\t\t<dd>1.76271765618252</dd>\n",
       "\t<dt>Enroll</dt>\n",
       "\t\t<dd>-1.31819474195033</dd>\n",
       "\t<dt>Top10perc</dt>\n",
       "\t\t<dd>64.8235635317352</dd>\n",
       "\t<dt>Top25perc</dt>\n",
       "\t\t<dd>-20.8140640180006</dd>\n",
       "\t<dt>F.Undergrad</dt>\n",
       "\t\t<dd>0.071191494159554</dd>\n",
       "\t<dt>P.Undergrad</dt>\n",
       "\t\t<dd>0.0124616060049624</dd>\n",
       "\t<dt>Outstate</dt>\n",
       "\t\t<dd>-0.104909093725057</dd>\n",
       "\t<dt>Room.Board</dt>\n",
       "\t\t<dd>0.208830536566173</dd>\n",
       "\t<dt>Books</dt>\n",
       "\t\t<dd>0.292646649349472</dd>\n",
       "\t<dt>Personal</dt>\n",
       "\t\t<dd>0.00395506846326327</dd>\n",
       "\t<dt>PhD</dt>\n",
       "\t\t<dd>-14.554628657797</dd>\n",
       "\t<dt>Terminal</dt>\n",
       "\t\t<dd>5.39585824743313</dd>\n",
       "\t<dt>S.F.Ratio</dt>\n",
       "\t\t<dd>21.713984850022</dd>\n",
       "\t<dt>perc.alumni</dt>\n",
       "\t\t<dd>0.508826017089921</dd>\n",
       "\t<dt>Expend</dt>\n",
       "\t\t<dd>0.0482445485227038</dd>\n",
       "\t<dt>Grad.Rate</dt>\n",
       "\t\t<dd>7.0361483140648</dd>\n",
       "</dl>\n"
      ],
      "text/latex": [
       "\\begin{description*}\n",
       "\\item[(Intercept)] -768.889604542218\n",
       "\\item[PrivateYes] -312.703361289158\n",
       "\\item[Accept] 1.76271765618252\n",
       "\\item[Enroll] -1.31819474195033\n",
       "\\item[Top10perc] 64.8235635317352\n",
       "\\item[Top25perc] -20.8140640180006\n",
       "\\item[F.Undergrad] 0.071191494159554\n",
       "\\item[P.Undergrad] 0.0124616060049624\n",
       "\\item[Outstate] -0.104909093725057\n",
       "\\item[Room.Board] 0.208830536566173\n",
       "\\item[Books] 0.292646649349472\n",
       "\\item[Personal] 0.00395506846326327\n",
       "\\item[PhD] -14.554628657797\n",
       "\\item[Terminal] 5.39585824743313\n",
       "\\item[S.F.Ratio] 21.713984850022\n",
       "\\item[perc.alumni] 0.508826017089921\n",
       "\\item[Expend] 0.0482445485227038\n",
       "\\item[Grad.Rate] 7.0361483140648\n",
       "\\end{description*}\n"
      ],
      "text/markdown": [
       "(Intercept)\n",
       ":   -768.889604542218PrivateYes\n",
       ":   -312.703361289158Accept\n",
       ":   1.76271765618252Enroll\n",
       ":   -1.31819474195033Top10perc\n",
       ":   64.8235635317352Top25perc\n",
       ":   -20.8140640180006F.Undergrad\n",
       ":   0.071191494159554P.Undergrad\n",
       ":   0.0124616060049624Outstate\n",
       ":   -0.104909093725057Room.Board\n",
       ":   0.208830536566173Books\n",
       ":   0.292646649349472Personal\n",
       ":   0.00395506846326327PhD\n",
       ":   -14.554628657797Terminal\n",
       ":   5.39585824743313S.F.Ratio\n",
       ":   21.713984850022perc.alumni\n",
       ":   0.508826017089921Expend\n",
       ":   0.0482445485227038Grad.Rate\n",
       ":   7.0361483140648\n",
       "\n"
      ],
      "text/plain": [
       "  (Intercept)    PrivateYes        Accept        Enroll     Top10perc \n",
       "-7.688896e+02 -3.127034e+02  1.762718e+00 -1.318195e+00  6.482356e+01 \n",
       "    Top25perc   F.Undergrad   P.Undergrad      Outstate    Room.Board \n",
       "-2.081406e+01  7.119149e-02  1.246161e-02 -1.049091e-01  2.088305e-01 \n",
       "        Books      Personal           PhD      Terminal     S.F.Ratio \n",
       " 2.926466e-01  3.955068e-03 -1.455463e+01  5.395858e+00  2.171398e+01 \n",
       "  perc.alumni        Expend     Grad.Rate \n",
       " 5.088260e-01  4.824455e-02  7.036148e+00 "
      ]
     },
     "metadata": {},
     "output_type": "display_data"
    },
    {
     "data": {
      "text/html": [
       "18"
      ],
      "text/latex": [
       "18"
      ],
      "text/markdown": [
       "18"
      ],
      "text/plain": [
       "[1] 18"
      ]
     },
     "metadata": {},
     "output_type": "display_data"
    }
   ],
   "source": [
    "require(glmnet)\n",
    "xmat.train <- model.matrix(Apps~., data=train)[,-1]\n",
    "xmat.test <- model.matrix(Apps~., data=test)[,-1]\n",
    "fit.lasso <- cv.glmnet(xmat.train, train$Apps, alpha=1)\n",
    "(lambda <- fit.lasso$lambda.min)  # optimal lambda\n",
    "pred.lasso <- predict(fit.lasso, s=lambda, newx=xmat.test)\n",
    "(err.lasso <- mean((test$Apps - pred.lasso)^2))  # test error\n",
    "coef.lasso <- predict(fit.lasso, type=\"coefficients\", s=lambda)[1:ncol(College),]\n",
    "coef.lasso[coef.lasso != 0]\n",
    "length(coef.lasso[coef.lasso != 0])"
   ]
  },
  {
   "cell_type": "code",
   "execution_count": 17,
   "metadata": {},
   "outputs": [
    {
     "name": "stdout",
     "output_type": "stream",
     "text": [
      "Data: \tX dimension: 388 17 \n",
      "\tY dimension: 388 1\n",
      "Fit method: svdpc\n",
      "Number of components considered: 17\n",
      "\n",
      "VALIDATION: RMSEP\n",
      "Cross-validated using 10 random segments.\n",
      "       (Intercept)  1 comps  2 comps  3 comps  4 comps  5 comps  6 comps\n",
      "CV            4288     4006     2373     2372     2069     1961     1919\n",
      "adjCV         4288     4007     2368     2369     1999     1948     1911\n",
      "       7 comps  8 comps  9 comps  10 comps  11 comps  12 comps  13 comps\n",
      "CV        1919     1921     1876      1832      1832      1836      1837\n",
      "adjCV     1912     1915     1868      1821      1823      1827      1827\n",
      "       14 comps  15 comps  16 comps  17 comps\n",
      "CV         1853      1759      1341      1270\n",
      "adjCV      1850      1733      1326      1257\n",
      "\n",
      "TRAINING: % variance explained\n",
      "      1 comps  2 comps  3 comps  4 comps  5 comps  6 comps  7 comps  8 comps\n",
      "X       32.20    57.78    65.31    70.99    76.37    81.27     84.8    87.85\n",
      "Apps    13.44    70.93    71.07    79.87    81.15    82.25     82.3    82.33\n",
      "      9 comps  10 comps  11 comps  12 comps  13 comps  14 comps  15 comps\n",
      "X       90.62     92.91     94.98     96.74     97.79     98.72     99.42\n",
      "Apps    83.38     84.76     84.80     84.84     85.11     85.14     90.55\n",
      "      16 comps  17 comps\n",
      "X        99.88    100.00\n",
      "Apps     93.42     93.89\n"
     ]
    },
    {
     "data": {
      "text/html": [
       "1137876.85851355"
      ],
      "text/latex": [
       "1137876.85851355"
      ],
      "text/markdown": [
       "1137876.85851355"
      ],
      "text/plain": [
       "[1] 1137877"
      ]
     },
     "metadata": {},
     "output_type": "display_data"
    },
    {
     "data": {
      "image/png": "[encoded data removed]",
      "text/plain": [
       "Plot with title \"Apps\""
      ]
     },
     "metadata": {},
     "output_type": "display_data"
    }
   ],
   "source": [
    "require(pls)\n",
    "set.seed(1)\n",
    "fit.pcr <- pcr(Apps~., data=train, scale=TRUE, validation=\"CV\")\n",
    "validationplot(fit.pcr, val.type=\"MSEP\")\n",
    "summary(fit.pcr)\n",
    "pred.pcr <- predict(fit.pcr, test, ncomp=16)  # min Cv at M=16\n",
    "(err.pcr <- mean((test$Apps - pred.pcr)^2)) "
   ]
  },
  {
   "cell_type": "code",
   "execution_count": 18,
   "metadata": {},
   "outputs": [
    {
     "name": "stdout",
     "output_type": "stream",
     "text": [
      "Data: \tX dimension: 388 17 \n",
      "\tY dimension: 388 1\n",
      "Fit method: kernelpls\n",
      "Number of components considered: 17\n",
      "\n",
      "VALIDATION: RMSEP\n",
      "Cross-validated using 10 random segments.\n",
      "       (Intercept)  1 comps  2 comps  3 comps  4 comps  5 comps  6 comps\n",
      "CV            4288     2217     2019     1761     1630     1533     1347\n",
      "adjCV         4288     2211     2012     1749     1605     1510     1331\n",
      "       7 comps  8 comps  9 comps  10 comps  11 comps  12 comps  13 comps\n",
      "CV        1309     1303     1286      1283      1283      1277      1271\n",
      "adjCV     1296     1289     1273      1270      1270      1264      1258\n",
      "       14 comps  15 comps  16 comps  17 comps\n",
      "CV         1270      1270      1270      1270\n",
      "adjCV      1258      1257      1257      1257\n",
      "\n",
      "TRAINING: % variance explained\n",
      "      1 comps  2 comps  3 comps  4 comps  5 comps  6 comps  7 comps  8 comps\n",
      "X       27.21    50.73    63.06    65.52    70.20    74.20    78.62    80.81\n",
      "Apps    75.39    81.24    86.97    91.14    92.62    93.43    93.56    93.68\n",
      "      9 comps  10 comps  11 comps  12 comps  13 comps  14 comps  15 comps\n",
      "X       83.29     87.17     89.15     91.37     92.58     94.42     96.98\n",
      "Apps    93.76     93.79     93.83     93.86     93.88     93.89     93.89\n",
      "      16 comps  17 comps\n",
      "X        98.78    100.00\n",
      "Apps     93.89     93.89\n"
     ]
    },
    {
     "data": {
      "text/html": [
       "1131660.81805029"
      ],
      "text/latex": [
       "1131660.81805029"
      ],
      "text/markdown": [
       "1131660.81805029"
      ],
      "text/plain": [
       "[1] 1131661"
      ]
     },
     "metadata": {},
     "output_type": "display_data"
    },
    {
     "data": {
      "image/png": "[encoded data removed]",
      "text/plain": [
       "Plot with title \"Apps\""
      ]
     },
     "metadata": {},
     "output_type": "display_data"
    }
   ],
   "source": [
    "require(pls)\n",
    "set.seed(1)\n",
    "fit.pls <- plsr(Apps~., data=train, scale=TRUE, validation=\"CV\")\n",
    "validationplot(fit.pls, val.type=\"MSEP\")\n",
    "summary(fit.pls)\n",
    "pred.pls <- predict(fit.pls, test, ncomp=10)  # min Cv at M=10\n",
    "(err.pls <- mean((test$Apps - pred.pls)^2))"
   ]
  },
  {
   "cell_type": "markdown",
   "metadata": {},
   "source": [
    "# Exercise 9"
   ]
  },
  {
   "cell_type": "code",
   "execution_count": 29,
   "metadata": {},
   "outputs": [],
   "source": [
    "#install.packages(\"MASS\")\n",
    "library(\"MASS\")\n",
    "#install.packages(\"boot\")\n",
    "library(\"boot\")\n",
    "library(\"splines\")"
   ]
  },
  {
   "cell_type": "code",
   "execution_count": 21,
   "metadata": {},
   "outputs": [
    {
     "data": {
      "text/plain": [
       "\n",
       "Call:\n",
       "lm(formula = nox ~ poly(dis, 3), data = Boston)\n",
       "\n",
       "Residuals:\n",
       "      Min        1Q    Median        3Q       Max \n",
       "-0.121130 -0.040619 -0.009738  0.023385  0.194904 \n",
       "\n",
       "Coefficients:\n",
       "               Estimate Std. Error t value Pr(>|t|)    \n",
       "(Intercept)    0.554695   0.002759 201.021  < 2e-16 ***\n",
       "poly(dis, 3)1 -2.003096   0.062071 -32.271  < 2e-16 ***\n",
       "poly(dis, 3)2  0.856330   0.062071  13.796  < 2e-16 ***\n",
       "poly(dis, 3)3 -0.318049   0.062071  -5.124 4.27e-07 ***\n",
       "---\n",
       "Signif. codes:  0 '***' 0.001 '**' 0.01 '*' 0.05 '.' 0.1 ' ' 1\n",
       "\n",
       "Residual standard error: 0.06207 on 502 degrees of freedom\n",
       "Multiple R-squared:  0.7148,\tAdjusted R-squared:  0.7131 \n",
       "F-statistic: 419.3 on 3 and 502 DF,  p-value: < 2.2e-16\n"
      ]
     },
     "metadata": {},
     "output_type": "display_data"
    },
    {
     "data": {
      "image/png": "[encoded data removed]",
      "text/plain": [
       "Plot with title \"Degree 3 Polynomial Fit\""
      ]
     },
     "metadata": {},
     "output_type": "display_data"
    }
   ],
   "source": [
    "require(MASS)\n",
    "data(Boston)\n",
    "set.seed(1)\n",
    "fit.03 <- lm(nox~poly(dis,3), data=Boston)\n",
    "dislims <- range(Boston$dis)\n",
    "dis.grid <- seq(dislims[1], dislims[2], 0.1)\n",
    "preds <- predict(fit.03, newdata=list(dis=dis.grid), se=TRUE)\n",
    "se.bands <- preds$fit + cbind(2*preds$se.fit, -2*preds$se.fit)\n",
    "par(mfrow=c(1,1), mar=c(4.5,4.5,1,1), oma=c(0,0,4,0))\n",
    "plot(Boston$dis, Boston$nox, xlim=dislims, cex=0.5, col=\"darkgrey\")\n",
    "title(\"Degree 3 Polynomial Fit\")\n",
    "lines(dis.grid, preds$fit, lwd=2, col=\"blue\")\n",
    "matlines(dis.grid, se.bands, lwd=1, col=\"blue\", lty=3)\n",
    "summary(fit.03)"
   ]
  },
  {
   "cell_type": "code",
   "execution_count": 22,
   "metadata": {},
   "outputs": [
    {
     "data": {
      "text/html": [
       "<ol class=list-inline>\n",
       "\t<li>2.76856285896928</li>\n",
       "\t<li>2.03526186893526</li>\n",
       "\t<li>1.93410670717907</li>\n",
       "\t<li>1.93298132729859</li>\n",
       "\t<li>1.9152899610843</li>\n",
       "\t<li>1.87825729850816</li>\n",
       "\t<li>1.84948361458298</li>\n",
       "\t<li>1.83562968906769</li>\n",
       "\t<li>1.8333308044916</li>\n",
       "\t<li>1.83217112393135</li>\n",
       "</ol>\n"
      ],
      "text/latex": [
       "\\begin{enumerate*}\n",
       "\\item 2.76856285896928\n",
       "\\item 2.03526186893526\n",
       "\\item 1.93410670717907\n",
       "\\item 1.93298132729859\n",
       "\\item 1.9152899610843\n",
       "\\item 1.87825729850816\n",
       "\\item 1.84948361458298\n",
       "\\item 1.83562968906769\n",
       "\\item 1.8333308044916\n",
       "\\item 1.83217112393135\n",
       "\\end{enumerate*}\n"
      ],
      "text/markdown": [
       "1. 2.76856285896928\n",
       "2. 2.03526186893526\n",
       "3. 1.93410670717907\n",
       "4. 1.93298132729859\n",
       "5. 1.9152899610843\n",
       "6. 1.87825729850816\n",
       "7. 1.84948361458298\n",
       "8. 1.83562968906769\n",
       "9. 1.8333308044916\n",
       "10. 1.83217112393135\n",
       "\n",
       "\n"
      ],
      "text/plain": [
       " [1] 2.768563 2.035262 1.934107 1.932981 1.915290 1.878257 1.849484 1.835630\n",
       " [9] 1.833331 1.832171"
      ]
     },
     "metadata": {},
     "output_type": "display_data"
    },
    {
     "data": {
      "image/png": "[encoded data removed]",
      "text/plain": [
       "plot without title"
      ]
     },
     "metadata": {},
     "output_type": "display_data"
    }
   ],
   "source": [
    "rss.error <- rep(0,10)\n",
    "for (i in 1:10) {\n",
    "  lm.fit <- lm(nox~poly(dis,i), data=Boston)\n",
    "  rss.error[i] <- sum(lm.fit$residuals^2)\n",
    "}\n",
    "rss.error\n",
    "plot(rss.error, type=\"b\")  "
   ]
  },
  {
   "cell_type": "code",
   "execution_count": 26,
   "metadata": {},
   "outputs": [
    {
     "data": {
      "text/html": [
       "<ol class=list-inline>\n",
       "\t<li>0.00555826287169151</li>\n",
       "\t<li>0.00408570583474476</li>\n",
       "\t<li>0.0038765214586795</li>\n",
       "\t<li>0.00386334162515342</li>\n",
       "\t<li>0.00423745233580752</li>\n",
       "\t<li>0.00568686228537242</li>\n",
       "\t<li>0.0102788971841027</li>\n",
       "\t<li>0.00681086781472168</li>\n",
       "\t<li>0.0333086067729062</li>\n",
       "\t<li>0.00407559913656258</li>\n",
       "</ol>\n"
      ],
      "text/latex": [
       "\\begin{enumerate*}\n",
       "\\item 0.00555826287169151\n",
       "\\item 0.00408570583474476\n",
       "\\item 0.0038765214586795\n",
       "\\item 0.00386334162515342\n",
       "\\item 0.00423745233580752\n",
       "\\item 0.00568686228537242\n",
       "\\item 0.0102788971841027\n",
       "\\item 0.00681086781472168\n",
       "\\item 0.0333086067729062\n",
       "\\item 0.00407559913656258\n",
       "\\end{enumerate*}\n"
      ],
      "text/markdown": [
       "1. 0.00555826287169151\n",
       "2. 0.00408570583474476\n",
       "3. 0.0038765214586795\n",
       "4. 0.00386334162515342\n",
       "5. 0.00423745233580752\n",
       "6. 0.00568686228537242\n",
       "7. 0.0102788971841027\n",
       "8. 0.00681086781472168\n",
       "9. 0.0333086067729062\n",
       "10. 0.00407559913656258\n",
       "\n",
       "\n"
      ],
      "text/plain": [
       " [1] 0.005558263 0.004085706 0.003876521 0.003863342 0.004237452 0.005686862\n",
       " [7] 0.010278897 0.006810868 0.033308607 0.004075599"
      ]
     },
     "metadata": {},
     "output_type": "display_data"
    },
    {
     "data": {
      "image/png": "[encoded data removed]",
      "text/plain": [
       "plot without title"
      ]
     },
     "metadata": {},
     "output_type": "display_data"
    }
   ],
   "source": [
    "require(boot)\n",
    "set.seed(1)\n",
    "cv.error <- rep(0,10)\n",
    "for (i in 1:10) {\n",
    "  glm.fit <- glm(nox~poly(dis,i), data=Boston)\n",
    "  cv.error[i] <- cv.glm(Boston, glm.fit, K=10)$delta[1]  # [1]:std, [2]:bias-corrected\n",
    "}\n",
    "cv.error\n",
    "plot(cv.error, type=\"b\")"
   ]
  },
  {
   "cell_type": "code",
   "execution_count": 30,
   "metadata": {},
   "outputs": [
    {
     "data": {
      "text/html": [
       "<strong>50%:</strong> 3.20745"
      ],
      "text/latex": [
       "\\textbf{50\\textbackslash{}\\%:} 3.20745"
      ],
      "text/markdown": [
       "**50%:** 3.20745"
      ],
      "text/plain": [
       "    50% \n",
       "3.20745 "
      ]
     },
     "metadata": {},
     "output_type": "display_data"
    },
    {
     "data": {
      "image/png": "[encoded data removed]",
      "text/plain": [
       "plot without title"
      ]
     },
     "metadata": {},
     "output_type": "display_data"
    }
   ],
   "source": [
    "require(splines)\n",
    "fit.sp <- lm(nox~bs(dis, df=4), data=Boston)\n",
    "pred <- predict(fit.sp, newdata=list(dis=dis.grid), se=T)\n",
    "plot(Boston$dis, Boston$nox, col=\"gray\")\n",
    "lines(dis.grid, pred$fit, lwd=2)\n",
    "lines(dis.grid, pred$fit+2*pred$se, lty=\"dashed\")\n",
    "lines(dis.grid, pred$fit-2*pred$se, lty=\"dashed\")\n",
    "# set df to select knots at uniform quantiles of `dis`\n",
    "attr(bs(Boston$dis,df=4),\"knots\")"
   ]
  },
  {
   "cell_type": "code",
   "execution_count": 31,
   "metadata": {},
   "outputs": [
    {
     "data": {
      "text/html": [
       "<ol class=list-inline>\n",
       "\t<li>1.92277499281193</li>\n",
       "\t<li>1.84017280148852</li>\n",
       "\t<li>1.83396590316021</li>\n",
       "\t<li>1.82988444592328</li>\n",
       "\t<li>1.81699505672523</li>\n",
       "\t<li>1.82565251038706</li>\n",
       "\t<li>1.79253488955613</li>\n",
       "</ol>\n"
      ],
      "text/latex": [
       "\\begin{enumerate*}\n",
       "\\item 1.92277499281193\n",
       "\\item 1.84017280148852\n",
       "\\item 1.83396590316021\n",
       "\\item 1.82988444592328\n",
       "\\item 1.81699505672523\n",
       "\\item 1.82565251038706\n",
       "\\item 1.79253488955613\n",
       "\\end{enumerate*}\n"
      ],
      "text/markdown": [
       "1. 1.92277499281193\n",
       "2. 1.84017280148852\n",
       "3. 1.83396590316021\n",
       "4. 1.82988444592328\n",
       "5. 1.81699505672523\n",
       "6. 1.82565251038706\n",
       "7. 1.79253488955613\n",
       "\n",
       "\n"
      ],
      "text/plain": [
       "[1] 1.922775 1.840173 1.833966 1.829884 1.816995 1.825653 1.792535"
      ]
     },
     "metadata": {},
     "output_type": "display_data"
    },
    {
     "data": {
      "image/png": "[encoded data removed]",
      "text/plain": [
       "plot without title"
      ]
     },
     "metadata": {},
     "output_type": "display_data"
    }
   ],
   "source": [
    "require(splines)\n",
    "set.seed(1)\n",
    "rss.error <- rep(0,7)\n",
    "for (i in 4:10) {\n",
    "  fit.sp <- lm(nox~bs(dis, df=i), data=Boston)\n",
    "  rss.error[i-3] <- sum(fit.sp$residuals^2)\n",
    "}\n",
    "rss.error\n",
    "plot(4:10, rss.error, type=\"b\") "
   ]
  },
  {
   "cell_type": "code",
   "execution_count": 32,
   "metadata": {},
   "outputs": [
    {
     "name": "stderr",
     "output_type": "stream",
     "text": [
      "Warning message in bs(dis, degree = 3L, knots = c(`50%` = 3.23925), Boundary.knots = c(1.137, :\n",
      "\"some 'x' values beyond boundary knots may cause ill-conditioned bases\"Warning message in bs(dis, degree = 3L, knots = c(`50%` = 3.23925), Boundary.knots = c(1.137, :\n",
      "\"some 'x' values beyond boundary knots may cause ill-conditioned bases\"Warning message in bs(dis, degree = 3L, knots = c(`50%` = 3.2157), Boundary.knots = c(1.1296, :\n",
      "\"some 'x' values beyond boundary knots may cause ill-conditioned bases\"Warning message in bs(dis, degree = 3L, knots = c(`50%` = 3.2157), Boundary.knots = c(1.1296, :\n",
      "\"some 'x' values beyond boundary knots may cause ill-conditioned bases\"Warning message in bs(dis, degree = 3L, knots = c(`33.33333%` = 2.35953333333333, :\n",
      "\"some 'x' values beyond boundary knots may cause ill-conditioned bases\"Warning message in bs(dis, degree = 3L, knots = c(`33.33333%` = 2.35953333333333, :\n",
      "\"some 'x' values beyond boundary knots may cause ill-conditioned bases\"Warning message in bs(dis, degree = 3L, knots = c(`33.33333%` = 2.43386666666667, :\n",
      "\"some 'x' values beyond boundary knots may cause ill-conditioned bases\"Warning message in bs(dis, degree = 3L, knots = c(`33.33333%` = 2.43386666666667, :\n",
      "\"some 'x' values beyond boundary knots may cause ill-conditioned bases\"Warning message in bs(dis, degree = 3L, knots = c(`25%` = 2.10215, `50%` = 3.1523, :\n",
      "\"some 'x' values beyond boundary knots may cause ill-conditioned bases\"Warning message in bs(dis, degree = 3L, knots = c(`25%` = 2.10215, `50%` = 3.1523, :\n",
      "\"some 'x' values beyond boundary knots may cause ill-conditioned bases\"Warning message in bs(dis, degree = 3L, knots = c(`25%` = 2.0493, `50%` = 3.0921, :\n",
      "\"some 'x' values beyond boundary knots may cause ill-conditioned bases\"Warning message in bs(dis, degree = 3L, knots = c(`25%` = 2.0493, `50%` = 3.0921, :\n",
      "\"some 'x' values beyond boundary knots may cause ill-conditioned bases\"Warning message in bs(dis, degree = 3L, knots = c(`20%` = 1.9512, `40%` = 2.6403, :\n",
      "\"some 'x' values beyond boundary knots may cause ill-conditioned bases\"Warning message in bs(dis, degree = 3L, knots = c(`20%` = 1.9512, `40%` = 2.6403, :\n",
      "\"some 'x' values beyond boundary knots may cause ill-conditioned bases\"Warning message in bs(dis, degree = 3L, knots = c(`16.66667%` = 1.82203333333333, :\n",
      "\"some 'x' values beyond boundary knots may cause ill-conditioned bases\"Warning message in bs(dis, degree = 3L, knots = c(`16.66667%` = 1.82203333333333, :\n",
      "\"some 'x' values beyond boundary knots may cause ill-conditioned bases\"Warning message in bs(dis, degree = 3L, knots = c(`16.66667%` = 1.85586666666667, :\n",
      "\"some 'x' values beyond boundary knots may cause ill-conditioned bases\"Warning message in bs(dis, degree = 3L, knots = c(`16.66667%` = 1.85586666666667, :\n",
      "\"some 'x' values beyond boundary knots may cause ill-conditioned bases\"Warning message in bs(dis, degree = 3L, knots = c(`14.28571%` = 1.79318571428571, :\n",
      "\"some 'x' values beyond boundary knots may cause ill-conditioned bases\"Warning message in bs(dis, degree = 3L, knots = c(`14.28571%` = 1.79318571428571, :\n",
      "\"some 'x' values beyond boundary knots may cause ill-conditioned bases\"Warning message in bs(dis, degree = 3L, knots = c(`14.28571%` = 1.7821, `28.57143%` = 2.1678, :\n",
      "\"some 'x' values beyond boundary knots may cause ill-conditioned bases\"Warning message in bs(dis, degree = 3L, knots = c(`14.28571%` = 1.7821, `28.57143%` = 2.1678, :\n",
      "\"some 'x' values beyond boundary knots may cause ill-conditioned bases\"Warning message in bs(dis, degree = 3L, knots = c(`12.5%` = 1.743225, `25%` = 2.0941, :\n",
      "\"some 'x' values beyond boundary knots may cause ill-conditioned bases\"Warning message in bs(dis, degree = 3L, knots = c(`12.5%` = 1.743225, `25%` = 2.0941, :\n",
      "\"some 'x' values beyond boundary knots may cause ill-conditioned bases\"Warning message in bs(dis, degree = 3L, knots = c(`12.5%` = 1.7519375, `25%` = 2.070275, :\n",
      "\"some 'x' values beyond boundary knots may cause ill-conditioned bases\"Warning message in bs(dis, degree = 3L, knots = c(`12.5%` = 1.7519375, `25%` = 2.070275, :\n",
      "\"some 'x' values beyond boundary knots may cause ill-conditioned bases\""
     ]
    },
    {
     "data": {
      "text/html": [
       "<ol class=list-inline>\n",
       "\t<li>0.00391883797126179</li>\n",
       "\t<li>0.00372902357157444</li>\n",
       "\t<li>0.00372268250735741</li>\n",
       "\t<li>0.00369678864566923</li>\n",
       "\t<li>0.00374626964689494</li>\n",
       "\t<li>0.00374253387481379</li>\n",
       "\t<li>0.00372094217745074</li>\n",
       "</ol>\n"
      ],
      "text/latex": [
       "\\begin{enumerate*}\n",
       "\\item 0.00391883797126179\n",
       "\\item 0.00372902357157444\n",
       "\\item 0.00372268250735741\n",
       "\\item 0.00369678864566923\n",
       "\\item 0.00374626964689494\n",
       "\\item 0.00374253387481379\n",
       "\\item 0.00372094217745074\n",
       "\\end{enumerate*}\n"
      ],
      "text/markdown": [
       "1. 0.00391883797126179\n",
       "2. 0.00372902357157444\n",
       "3. 0.00372268250735741\n",
       "4. 0.00369678864566923\n",
       "5. 0.00374626964689494\n",
       "6. 0.00374253387481379\n",
       "7. 0.00372094217745074\n",
       "\n",
       "\n"
      ],
      "text/plain": [
       "[1] 0.003918838 0.003729024 0.003722683 0.003696789 0.003746270 0.003742534\n",
       "[7] 0.003720942"
      ]
     },
     "metadata": {},
     "output_type": "display_data"
    },
    {
     "data": {
      "image/png": "[encoded data removed]",
      "text/plain": [
       "plot without title"
      ]
     },
     "metadata": {},
     "output_type": "display_data"
    }
   ],
   "source": [
    "require(splines)\n",
    "require(boot)\n",
    "set.seed(1)\n",
    "cv.error <- rep(0,7)\n",
    "for (i in 4:10) {\n",
    "  glm.fit <- glm(nox~bs(dis, df=i), data=Boston)\n",
    "  cv.error[i-3] <- cv.glm(Boston, glm.fit, K=10)$delta[1]\n",
    "}\n",
    "cv.error\n",
    "plot(4:10, cv.error, type=\"b\")"
   ]
  },
  {
   "cell_type": "markdown",
   "metadata": {},
   "source": [
    "# Exercise 10"
   ]
  },
  {
   "cell_type": "code",
   "execution_count": 40,
   "metadata": {},
   "outputs": [],
   "source": [
    "#install.packages(\"leaps\")\n",
    "library(\"leaps\")\n",
    "#install.packages(\"gam\")\n",
    "library(\"gam\")"
   ]
  },
  {
   "cell_type": "code",
   "execution_count": 36,
   "metadata": {},
   "outputs": [
    {
     "data": {
      "text/plain": [
       "Subset selection object\n",
       "Call: regsubsets.formula(Outstate ~ ., data = train, nvmax = ncol(College) - \n",
       "    1)\n",
       "17 Variables  (and intercept)\n",
       "            Forced in Forced out\n",
       "PrivateYes      FALSE      FALSE\n",
       "Apps            FALSE      FALSE\n",
       "Accept          FALSE      FALSE\n",
       "Enroll          FALSE      FALSE\n",
       "Top10perc       FALSE      FALSE\n",
       "Top25perc       FALSE      FALSE\n",
       "F.Undergrad     FALSE      FALSE\n",
       "P.Undergrad     FALSE      FALSE\n",
       "Room.Board      FALSE      FALSE\n",
       "Books           FALSE      FALSE\n",
       "Personal        FALSE      FALSE\n",
       "PhD             FALSE      FALSE\n",
       "Terminal        FALSE      FALSE\n",
       "S.F.Ratio       FALSE      FALSE\n",
       "perc.alumni     FALSE      FALSE\n",
       "Expend          FALSE      FALSE\n",
       "Grad.Rate       FALSE      FALSE\n",
       "1 subsets of each size up to 17\n",
       "Selection Algorithm: exhaustive\n",
       "          PrivateYes Apps Accept Enroll Top10perc Top25perc F.Undergrad\n",
       "1  ( 1 )  \" \"        \" \"  \" \"    \" \"    \" \"       \" \"       \" \"        \n",
       "2  ( 1 )  \" \"        \" \"  \" \"    \" \"    \" \"       \" \"       \" \"        \n",
       "3  ( 1 )  \"*\"        \" \"  \" \"    \" \"    \" \"       \" \"       \" \"        \n",
       "4  ( 1 )  \"*\"        \" \"  \" \"    \" \"    \" \"       \" \"       \" \"        \n",
       "5  ( 1 )  \"*\"        \" \"  \" \"    \" \"    \" \"       \" \"       \" \"        \n",
       "6  ( 1 )  \"*\"        \" \"  \" \"    \" \"    \" \"       \" \"       \" \"        \n",
       "7  ( 1 )  \"*\"        \" \"  \" \"    \" \"    \" \"       \" \"       \" \"        \n",
       "8  ( 1 )  \"*\"        \" \"  \" \"    \" \"    \"*\"       \" \"       \" \"        \n",
       "9  ( 1 )  \"*\"        \"*\"  \"*\"    \"*\"    \"*\"       \" \"       \" \"        \n",
       "10  ( 1 ) \"*\"        \"*\"  \"*\"    \"*\"    \"*\"       \" \"       \" \"        \n",
       "11  ( 1 ) \"*\"        \"*\"  \"*\"    \"*\"    \"*\"       \" \"       \" \"        \n",
       "12  ( 1 ) \"*\"        \"*\"  \"*\"    \"*\"    \"*\"       \"*\"       \" \"        \n",
       "13  ( 1 ) \"*\"        \"*\"  \"*\"    \"*\"    \"*\"       \"*\"       \" \"        \n",
       "14  ( 1 ) \"*\"        \"*\"  \"*\"    \"*\"    \"*\"       \"*\"       \" \"        \n",
       "15  ( 1 ) \"*\"        \"*\"  \"*\"    \"*\"    \"*\"       \"*\"       \" \"        \n",
       "16  ( 1 ) \"*\"        \"*\"  \"*\"    \"*\"    \"*\"       \"*\"       \"*\"        \n",
       "17  ( 1 ) \"*\"        \"*\"  \"*\"    \"*\"    \"*\"       \"*\"       \"*\"        \n",
       "          P.Undergrad Room.Board Books Personal PhD Terminal S.F.Ratio\n",
       "1  ( 1 )  \" \"         \"*\"        \" \"   \" \"      \" \" \" \"      \" \"      \n",
       "2  ( 1 )  \" \"         \"*\"        \" \"   \" \"      \" \" \" \"      \" \"      \n",
       "3  ( 1 )  \" \"         \"*\"        \" \"   \" \"      \" \" \" \"      \" \"      \n",
       "4  ( 1 )  \" \"         \"*\"        \" \"   \" \"      \" \" \" \"      \" \"      \n",
       "5  ( 1 )  \" \"         \"*\"        \" \"   \" \"      \" \" \" \"      \" \"      \n",
       "6  ( 1 )  \" \"         \"*\"        \" \"   \" \"      \" \" \"*\"      \" \"      \n",
       "7  ( 1 )  \" \"         \"*\"        \" \"   \"*\"      \" \" \"*\"      \" \"      \n",
       "8  ( 1 )  \" \"         \"*\"        \" \"   \"*\"      \" \" \"*\"      \" \"      \n",
       "9  ( 1 )  \" \"         \"*\"        \" \"   \" \"      \" \" \" \"      \" \"      \n",
       "10  ( 1 ) \" \"         \"*\"        \" \"   \" \"      \" \" \"*\"      \" \"      \n",
       "11  ( 1 ) \" \"         \"*\"        \" \"   \"*\"      \" \" \"*\"      \" \"      \n",
       "12  ( 1 ) \" \"         \"*\"        \" \"   \"*\"      \" \" \"*\"      \" \"      \n",
       "13  ( 1 ) \" \"         \"*\"        \" \"   \"*\"      \" \" \"*\"      \"*\"      \n",
       "14  ( 1 ) \" \"         \"*\"        \"*\"   \"*\"      \" \" \"*\"      \"*\"      \n",
       "15  ( 1 ) \"*\"         \"*\"        \"*\"   \"*\"      \" \" \"*\"      \"*\"      \n",
       "16  ( 1 ) \"*\"         \"*\"        \"*\"   \"*\"      \" \" \"*\"      \"*\"      \n",
       "17  ( 1 ) \"*\"         \"*\"        \"*\"   \"*\"      \"*\" \"*\"      \"*\"      \n",
       "          perc.alumni Expend Grad.Rate\n",
       "1  ( 1 )  \" \"         \" \"    \" \"      \n",
       "2  ( 1 )  \"*\"         \" \"    \" \"      \n",
       "3  ( 1 )  \" \"         \"*\"    \" \"      \n",
       "4  ( 1 )  \"*\"         \"*\"    \" \"      \n",
       "5  ( 1 )  \"*\"         \"*\"    \"*\"      \n",
       "6  ( 1 )  \"*\"         \"*\"    \"*\"      \n",
       "7  ( 1 )  \"*\"         \"*\"    \"*\"      \n",
       "8  ( 1 )  \"*\"         \"*\"    \"*\"      \n",
       "9  ( 1 )  \"*\"         \"*\"    \"*\"      \n",
       "10  ( 1 ) \"*\"         \"*\"    \"*\"      \n",
       "11  ( 1 ) \"*\"         \"*\"    \"*\"      \n",
       "12  ( 1 ) \"*\"         \"*\"    \"*\"      \n",
       "13  ( 1 ) \"*\"         \"*\"    \"*\"      \n",
       "14  ( 1 ) \"*\"         \"*\"    \"*\"      \n",
       "15  ( 1 ) \"*\"         \"*\"    \"*\"      \n",
       "16  ( 1 ) \"*\"         \"*\"    \"*\"      \n",
       "17  ( 1 ) \"*\"         \"*\"    \"*\"      "
      ]
     },
     "metadata": {},
     "output_type": "display_data"
    },
    {
     "data": {
      "text/html": [
       "<dl class=dl-horizontal>\n",
       "\t<dt>(Intercept)</dt>\n",
       "\t\t<dd>-4726.88106133339</dd>\n",
       "\t<dt>PrivateYes</dt>\n",
       "\t\t<dd>2717.70192759516</dd>\n",
       "\t<dt>Room.Board</dt>\n",
       "\t\t<dd>1.1032432595558</dd>\n",
       "\t<dt>Terminal</dt>\n",
       "\t\t<dd>36.9990285647279</dd>\n",
       "\t<dt>perc.alumni</dt>\n",
       "\t\t<dd>59.0863752524204</dd>\n",
       "\t<dt>Expend</dt>\n",
       "\t\t<dd>0.193081397433261</dd>\n",
       "\t<dt>Grad.Rate</dt>\n",
       "\t\t<dd>33.8303314152395</dd>\n",
       "</dl>\n"
      ],
      "text/latex": [
       "\\begin{description*}\n",
       "\\item[(Intercept)] -4726.88106133339\n",
       "\\item[PrivateYes] 2717.70192759516\n",
       "\\item[Room.Board] 1.1032432595558\n",
       "\\item[Terminal] 36.9990285647279\n",
       "\\item[perc.alumni] 59.0863752524204\n",
       "\\item[Expend] 0.193081397433261\n",
       "\\item[Grad.Rate] 33.8303314152395\n",
       "\\end{description*}\n"
      ],
      "text/markdown": [
       "(Intercept)\n",
       ":   -4726.88106133339PrivateYes\n",
       ":   2717.70192759516Room.Board\n",
       ":   1.1032432595558Terminal\n",
       ":   36.9990285647279perc.alumni\n",
       ":   59.0863752524204Expend\n",
       ":   0.193081397433261Grad.Rate\n",
       ":   33.8303314152395\n",
       "\n"
      ],
      "text/plain": [
       "  (Intercept)    PrivateYes    Room.Board      Terminal   perc.alumni \n",
       "-4726.8810613  2717.7019276     1.1032433    36.9990286    59.0863753 \n",
       "       Expend     Grad.Rate \n",
       "    0.1930814    33.8303314 "
      ]
     },
     "metadata": {},
     "output_type": "display_data"
    },
    {
     "data": {
      "image/png": "[encoded data removed]",
      "text/plain": [
       "Plot with title \"bic\""
      ]
     },
     "metadata": {},
     "output_type": "display_data"
    }
   ],
   "source": [
    "require(ISLR)\n",
    "require(leaps)\n",
    "data(College)\n",
    "set.seed(1)\n",
    "# split data into train and test sets\n",
    "trainid <- sample(1:nrow(College), nrow(College)/2)\n",
    "train <- College[trainid,]\n",
    "test <- College[-trainid,]\n",
    "# predict function from chapter 6 labs\n",
    "predict.regsubsets <- function(object, newdata, id, ...){\n",
    "  form <- as.formula(object$call[[2]])\n",
    "  mat <- model.matrix(form, newdata)\n",
    "  coefi <- coef(object, id=id)\n",
    "  xvars <- names(coefi)\n",
    "  mat[,xvars]%*%coefi\n",
    "}\n",
    "# forward selection\n",
    "fit.fwd <- regsubsets(Outstate~., data=train, nvmax=ncol(College)-1)\n",
    "(fwd.summary <- summary(fit.fwd))\n",
    "err.fwd <- rep(NA, ncol(College)-1)\n",
    "for(i in 1:(ncol(College)-1)) {\n",
    "  pred.fwd <- predict(fit.fwd, test, id=i)\n",
    "  err.fwd[i] <- mean((test$Outstate - pred.fwd)^2)\n",
    "}\n",
    "par(mfrow=c(2,2))\n",
    "plot(err.fwd, type=\"b\", main=\"Test MSE\", xlab=\"Number of Predictors\")\n",
    "min.mse <- which.min(err.fwd)  \n",
    "points(min.mse, err.fwd[min.mse], col=\"red\", pch=4, lwd=5)\n",
    "plot(fwd.summary$adjr2, type=\"b\", main=\"Adjusted R^2\", xlab=\"Number of Predictors\")\n",
    "max.adjr2 <- which.max(fwd.summary$adjr2)  \n",
    "points(max.adjr2, fwd.summary$adjr2[max.adjr2], col=\"red\", pch=4, lwd=5)\n",
    "plot(fwd.summary$cp, type=\"b\", main=\"cp\", xlab=\"Number of Predictors\")\n",
    "min.cp <- which.min(fwd.summary$cp)  \n",
    "points(min.cp, fwd.summary$cp[min.cp], col=\"red\", pch=4, lwd=5)\n",
    "plot(fwd.summary$bic, type=\"b\", main=\"bic\", xlab=\"Number of Predictors\")\n",
    "min.bic <- which.min(fwd.summary$bic)  \n",
    "points(min.bic, fwd.summary$bic[min.bic], col=\"red\", pch=4, lwd=5)\n",
    "# model metrics do not improve much after 6 predictors\n",
    "coef(fit.fwd, 6)"
   ]
  },
  {
   "cell_type": "code",
   "execution_count": 42,
   "metadata": {},
   "outputs": [
    {
     "name": "stderr",
     "output_type": "stream",
     "text": [
      "Warning message in model.matrix.default(mt, mf, contrasts):\n",
      "\"non-list contrasts argument ignored\""
     ]
    },
    {
     "data": {
      "image/png": "[encoded data removed]",
      "text/plain": [
       "plot without title"
      ]
     },
     "metadata": {},
     "output_type": "display_data"
    }
   ],
   "source": [
    "require(gam)\n",
    "gam.fit <- gam(Outstate ~ \n",
    "                 Private +   # categorical variable\n",
    "                 s(Room.Board,3) + \n",
    "                 s(Terminal,3) + \n",
    "                 s(perc.alumni,3) + \n",
    "                 s(Expend,3) + \n",
    "                 s(Grad.Rate,3), \n",
    "               data=College)\n",
    "par(mfrow=c(2,3))\n",
    "plot(gam.fit, se=TRUE, col=\"blue\")"
   ]
  },
  {
   "cell_type": "code",
   "execution_count": 43,
   "metadata": {},
   "outputs": [
    {
     "data": {
      "text/html": [
       "3141784.83135763"
      ],
      "text/latex": [
       "3141784.83135763"
      ],
      "text/markdown": [
       "3141784.83135763"
      ],
      "text/plain": [
       "[1] 3141785"
      ]
     },
     "metadata": {},
     "output_type": "display_data"
    },
    {
     "data": {
      "text/html": [
       "3844857.21298746"
      ],
      "text/latex": [
       "3844857.21298746"
      ],
      "text/markdown": [
       "3844857.21298746"
      ],
      "text/plain": [
       "[1] 3844857"
      ]
     },
     "metadata": {},
     "output_type": "display_data"
    }
   ],
   "source": [
    "pred <- predict(gam.fit, test)\n",
    "(mse.error <- mean((test$Outstate - pred)^2))\n",
    "err.fwd[6] "
   ]
  },
  {
   "cell_type": "code",
   "execution_count": 44,
   "metadata": {},
   "outputs": [
    {
     "data": {
      "text/plain": [
       "\n",
       "Call: gam(formula = Outstate ~ Private + s(Room.Board, 3) + s(Terminal, \n",
       "    3) + s(perc.alumni, 3) + s(Expend, 3) + s(Grad.Rate, 3), \n",
       "    data = College)\n",
       "Deviance Residuals:\n",
       "     Min       1Q   Median       3Q      Max \n",
       "-7110.16 -1137.02    50.44  1285.38  8278.86 \n",
       "\n",
       "(Dispersion Parameter for gaussian family taken to be 3520187)\n",
       "\n",
       "    Null Deviance: 12559297426 on 776 degrees of freedom\n",
       "Residual Deviance: 2675342725 on 760.0001 degrees of freedom\n",
       "AIC: 13936.36 \n",
       "\n",
       "Number of Local Scoring Iterations: 2 \n",
       "\n",
       "Anova for Parametric Effects\n",
       "                   Df     Sum Sq    Mean Sq F value    Pr(>F)    \n",
       "Private             1 3366732308 3366732308 956.407 < 2.2e-16 ***\n",
       "s(Room.Board, 3)    1 2549088628 2549088628 724.134 < 2.2e-16 ***\n",
       "s(Terminal, 3)      1  802254341  802254341 227.901 < 2.2e-16 ***\n",
       "s(perc.alumni, 3)   1  525154274  525154274 149.184 < 2.2e-16 ***\n",
       "s(Expend, 3)        1 1022010841 1022010841 290.329 < 2.2e-16 ***\n",
       "s(Grad.Rate, 3)     1  151344060  151344060  42.993 1.014e-10 ***\n",
       "Residuals         760 2675342725    3520187                      \n",
       "---\n",
       "Signif. codes:  0 '***' 0.001 '**' 0.01 '*' 0.05 '.' 0.1 ' ' 1\n",
       "\n",
       "Anova for Nonparametric Effects\n",
       "                  Npar Df Npar F   Pr(F)    \n",
       "(Intercept)                                 \n",
       "Private                                     \n",
       "s(Room.Board, 3)        2  2.591 0.07557 .  \n",
       "s(Terminal, 3)          2  2.558 0.07815 .  \n",
       "s(perc.alumni, 3)       2  0.835 0.43446    \n",
       "s(Expend, 3)            2 56.179 < 2e-16 ***\n",
       "s(Grad.Rate, 3)         2  3.363 0.03515 *  \n",
       "---\n",
       "Signif. codes:  0 '***' 0.001 '**' 0.01 '*' 0.05 '.' 0.1 ' ' 1"
      ]
     },
     "metadata": {},
     "output_type": "display_data"
    }
   ],
   "source": [
    "summary(gam.fit)"
   ]
  },
  {
   "cell_type": "code",
   "execution_count": null,
   "metadata": {},
   "outputs": [],
   "source": []
  }
 ],
 "metadata": {
  "kernelspec": {
   "display_name": "R",
   "language": "R",
   "name": "ir"
  },
  "language_info": {
   "codemirror_mode": "r",
   "file_extension": ".r",
   "mimetype": "text/x-r-source",
   "name": "R",
   "pygments_lexer": "r",
   "version": "3.6.1"
  }
 },
 "nbformat": 4,
 "nbformat_minor": 2
}
